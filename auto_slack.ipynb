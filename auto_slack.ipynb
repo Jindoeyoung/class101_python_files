{
 "cells": [
  {
   "cell_type": "markdown",
   "metadata": {},
   "source": [
    "## 업무 자동화를 위한 메시지 보내기(slack) 자동화"
   ]
  },
  {
   "cell_type": "markdown",
   "metadata": {},
   "source": [
    "### 1. slack 메신저\n",
    "- 슬랙은 커뮤니티 단위로 메신저 사용 가능 \n",
    "  - 협업을 위해서도 가장 많이 사용되는 메신저\n",
    "  - 자신에게 noti 를 보내주는 용도로도 사용 가능 (다양한 활용 가능)\n",
    "  \n",
    "> **무료입니다.**"
   ]
  },
  {
   "cell_type": "markdown",
   "metadata": {},
   "source": [
    "### 만약 아직 한번도 슬랙을 사용해보지 않았다면\n",
    "- 슬랙 커뮤니티 생성\n",
    "  - https://slack.com/intl/en-kr/get-started#/\n",
    "  - Create a Slack Workspace (자신의 이메일 입력)\n",
    "    - 팀원을 이메일 주소로 추가할 수 있음 (우선 테스트를 위해 SKIP)\n",
    "    - 슬랙에서 사용한 이름과 패스워드 입력 (FINISH)\n",
    "- 웹으로도 가능하지만, 앱을 다운로드 받을 수도 있음\n",
    "  - https://slack.com/intl/en-kr/downloads/mac?geocode=en-kr\n",
    "  - 스마트폰 앱도 설치하시면 됨\n",
    "- 앱에서 Find workspaces -> Sign in to Slack 에서 가입한 이메일 주소 기입 후,\n",
    "  - 생성한 workspace OPEN"
   ]
  },
  {
   "cell_type": "markdown",
   "metadata": {},
   "source": [
    "### 2. 자동 메시지 보내기를 위한 설정\n",
    "- https://api.slack.com/apps\n",
    "  - Create New App \n",
    "    - 앱이름을 정의하고, 생성한 workspace 를 선택\n",
    "- Incoming Webhooks 선택하고 On 으로 설정\n",
    "  - Add New Webhook to Workspace 에서 원하는 채널 또는 자신의 아이디 선택\n",
    "  \n",
    "> **Webhook URL 복사** <br>\n",
    "> 이 URL 로 메시지를 송부하면 메시지가 보내집니다."
   ]
  },
  {
   "cell_type": "code",
   "execution_count": 1,
   "metadata": {},
   "outputs": [],
   "source": [
    "incoming_webhook_url = ''"
   ]
  },
  {
   "cell_type": "markdown",
   "metadata": {},
   "source": [
    "### 일단 테스트해보기 (템플릿 코드12)"
   ]
  },
  {
   "cell_type": "code",
   "execution_count": 2,
   "metadata": {},
   "outputs": [],
   "source": [
    "import json\n",
    "import requests\n",
    "\n",
    "def send_slack_template(incoming_webhook_url, message):\n",
    "    payload = {'type': 'mrkdwn', 'text': message}\n",
    "    message_json = json.dumps(payload)\n",
    "    requests.post(incoming_webhook_url, data=message_json)"
   ]
  },
  {
   "cell_type": "code",
   "execution_count": 4,
   "metadata": {},
   "outputs": [],
   "source": [
    "message = '안녕하세요 잔재미코딩입니다.'\n",
    "send_slack_template(incoming_webhook_url, message)"
   ]
  },
  {
   "cell_type": "markdown",
   "metadata": {},
   "source": [
    "### 3. 코드 이해하기"
   ]
  },
  {
   "cell_type": "markdown",
   "metadata": {},
   "source": [
    "### 필요한 라이브러리\n",
    "- json\n",
    "- requests"
   ]
  },
  {
   "cell_type": "markdown",
   "metadata": {},
   "source": [
    "### 3.1. json 라이브러리와 JSON 데이터 포멧\n",
    " - **J**avaScript **Ob**ject **N**otation 줄임말\n",
    " - JSON은 서버와 클라이언트 또는 컴퓨터/프로그램 사이에 데이터를 주고 받을 때 사용하는 데이터 포멧\n",
    " - 키와 값을 괄호와 세미콜론과 같이 간단한 기호로 구성하여 표현할 수 있고, 언어나 운영체제에 구애받지 않기 때문에 많이 사용됨\n",
    " - 특히 웹/앱 환경에서 Rest API를 사용하여, 서버와 클라이언트 사이에 데이터를 주고 받을때 많이 사용\n",
    " - JSON 포멧 예 <br>\n",
    " { \"id\":\"01\", \"language\": \"Java\", \"edition\": \"third\", \"author\": \"Herbert Schildt\" }"
   ]
  },
  {
   "cell_type": "markdown",
   "metadata": {},
   "source": [
    "### 참고: json 과 문자열"
   ]
  },
  {
   "cell_type": "markdown",
   "metadata": {},
   "source": [
    "- json.loads() 함수로 문자열로된 json 데이터를 사전처럼 다룰 수 있음"
   ]
  },
  {
   "cell_type": "code",
   "execution_count": 19,
   "metadata": {},
   "outputs": [
    {
     "name": "stdout",
     "output_type": "stream",
     "text": [
      "01 Java third Herbert Schildt <class 'dict'>\n"
     ]
    }
   ],
   "source": [
    "import json\n",
    "\n",
    "# 변수에 문자열로 된 JSON 포멧의 데이터가 있을 경우\n",
    "data = '{ \"id\":\"01\", \"language\": \"Java\", \"edition\": \"third\", \"author\": \"Herbert Schildt\" }' \n",
    "\n",
    "jsondata = json.loads(data)\n",
    "print (jsondata['id'], jsondata['language'], jsondata['edition'], jsondata['author'], type(jsondata))"
   ]
  },
  {
   "cell_type": "markdown",
   "metadata": {},
   "source": [
    "- json.dumps() 함수로 파이썬 사전 데이터를 JSON 문자열 데이터로 변환할 수 있음"
   ]
  },
  {
   "cell_type": "code",
   "execution_count": 21,
   "metadata": {},
   "outputs": [
    {
     "name": "stdout",
     "output_type": "stream",
     "text": [
      "{\"id\": \"01\", \"language\": {\"Java\": \"advance\"}, \"edition\": \"third\", \"author\": \"Herbert Schildt\"} <class 'str'>\n"
     ]
    }
   ],
   "source": [
    "import json\n",
    "\n",
    "# 변수에 문자열로 된 JSON 포멧의 데이터가 있을 경우\n",
    "data = { \"id\":\"01\", \"language\": {\"Java\":\"basic\", \"Java\":\"advance\"}, \"edition\": \"third\", \"author\": \"Herbert Schildt\" }\n",
    "\n",
    "jsondata = json.dumps(data)\n",
    "print (jsondata, type(jsondata))"
   ]
  },
  {
   "cell_type": "markdown",
   "metadata": {},
   "source": [
    "### 참고: json 과 사전(dictionary) 데이터 구조"
   ]
  },
  {
   "cell_type": "markdown",
   "metadata": {},
   "source": [
    "- 데이터 구조 (dictionary의 선언)"
   ]
  },
  {
   "cell_type": "code",
   "execution_count": null,
   "metadata": {},
   "outputs": [],
   "source": [
    "dict1 = {}\n",
    "print(dict1)"
   ]
  },
  {
   "cell_type": "markdown",
   "metadata": {},
   "source": [
    "- dictionary는 key와 value로 이루어져 있으며, 추가하는 법은 다음과 같습니다."
   ]
  },
  {
   "cell_type": "code",
   "execution_count": 23,
   "metadata": {},
   "outputs": [
    {
     "name": "stdout",
     "output_type": "stream",
     "text": [
      "{'name': 'foo bar'}\n",
      "{'korean': 95, 'math': 100, 'science': [80, 70, 90, 60]}\n",
      "{'korean': 95, 'math': 100, 'science': [80, 70, 90, 60], 'english': 'pass'}\n"
     ]
    }
   ],
   "source": [
    "dict1 = {'name': 'foo bar'}\n",
    "print(dict1)\n",
    "\n",
    "dict1 = {'korean': 95, 'math': 100, 'science': [80, 70, 90, 60]}\n",
    "print(dict1)\n",
    "\n",
    "dict1['english'] = \"pass\"\n",
    "print(dict1)"
   ]
  },
  {
   "cell_type": "markdown",
   "metadata": {},
   "source": [
    "- 요소 삭제는 del을 활용합니다."
   ]
  },
  {
   "cell_type": "code",
   "execution_count": null,
   "metadata": {},
   "outputs": [],
   "source": [
    "del dict1['math']\n",
    "print(dict1)"
   ]
  },
  {
   "cell_type": "markdown",
   "metadata": {},
   "source": [
    "### 3.2. requests.post() 함수"
   ]
  },
  {
   "cell_type": "markdown",
   "metadata": {},
   "source": [
    "- 웹상에서 데이터를 주고 받는 방법: HTTP 프로토콜\n",
    "- HTTP 프로토콜을 사용해서, 데이터를 요청하는 방법\n",
    "  - GET, POST 등\n",
    "  - requests 라이브러리를 사용해서, 데이터 요청 가능\n",
    "    - GET: requests.get()\n",
    "    - POST: reqeusts.post()\n",
    "    \n",
    "<center><img src=\"https://www.fun-coding.org/00_Images/web_http.png\" height=350 /></center>"
   ]
  },
  {
   "cell_type": "markdown",
   "metadata": {},
   "source": [
    "### 3.3. 코드 이해하기"
   ]
  },
  {
   "cell_type": "markdown",
   "metadata": {},
   "source": [
    "- 라이브러리 임포트\n",
    "\n",
    "```python\n",
    "import json\n",
    "import requests\n",
    "```"
   ]
  },
  {
   "cell_type": "markdown",
   "metadata": {},
   "source": [
    "- 메시지 구성하기\n",
    "  - 메세지를 슬랙 서비스에서 정의한대로 json 포멧으로 구성하기 \n",
    "  - 해당 데이터를 문자열로 만들어서 저장하기\n",
    "  - 'type':'mkdwn' 은 문자 표시에 마크다운 문법을 일부 사용 가능 (볼드체만 사용하기로 함)\n",
    "```python\n",
    "    payload = {'type': 'mrkdwn', 'text': message}\n",
    "    message_json = json.dumps(payload)\n",
    "```"
   ]
  },
  {
   "cell_type": "markdown",
   "metadata": {},
   "source": [
    "- 메시지 송신 요청하기\n",
    "  - 슬랙 서비스에서 정의한대로 정의한 주소에 POST 방식으로 메시지 전송\n",
    "    \n",
    "```python\n",
    "    requests.post(incoming_webhook_url, data=message_json)\n",
    "```"
   ]
  },
  {
   "cell_type": "markdown",
   "metadata": {},
   "source": [
    "### 최종 템플릿"
   ]
  },
  {
   "cell_type": "code",
   "execution_count": 5,
   "metadata": {},
   "outputs": [],
   "source": [
    "import json\n",
    "import requests\n",
    "\n",
    "def send_slack_template(incoming_webhook_url, message):\n",
    "    payload = {'type': 'mrkdwn', 'text': message}\n",
    "    message_json = json.dumps(payload)\n",
    "    requests.post(incoming_webhook_url, data=message_json)"
   ]
  },
  {
   "cell_type": "markdown",
   "metadata": {},
   "source": [
    "### 3.4. 슬랙 메시지 구성하기"
   ]
  },
  {
   "cell_type": "markdown",
   "metadata": {},
   "source": [
    "- 일반 메시지\n",
    "  - 문자열을 그대로 넣어주면 됨\n",
    "  - \\* 표시를 앞뒤로 해줘서 문자열을 굵게 표시할 수 있음"
   ]
  },
  {
   "cell_type": "code",
   "execution_count": 6,
   "metadata": {},
   "outputs": [],
   "source": [
    "message = '안녕하세요 *Dave Lee* 입니다.'\n",
    "send_slack_template(incoming_webhook_url, message)"
   ]
  },
  {
   "cell_type": "markdown",
   "metadata": {},
   "source": [
    "- 링크가 있는 메시지\n",
    "  - 링크를 그대로 문자열 안에 넣어주면 됨"
   ]
  },
  {
   "cell_type": "code",
   "execution_count": 7,
   "metadata": {},
   "outputs": [],
   "source": [
    "message = 'This message contains a URL http://foo.com/'\n",
    "send_slack_template(incoming_webhook_url, message)"
   ]
  },
  {
   "cell_type": "markdown",
   "metadata": {},
   "source": [
    "- 해당 채널에 가입한 분들에게 전체 알람 주기\n",
    "  - '@channel' 을 슬랙 채널에 적으면 해당 채널에 가입한 분들에게 전체 알람이 전송됨 \n",
    "  - 이를 자동 메시지에서 적기 위해서는 <!channel|channel> 로 작성하면 됨"
   ]
  },
  {
   "cell_type": "code",
   "execution_count": 8,
   "metadata": {},
   "outputs": [],
   "source": [
    "message = 'So does this one: www.foo.com <!channel|channel>'\n",
    "send_slack_template(incoming_webhook_url, message)"
   ]
  },
  {
   "cell_type": "markdown",
   "metadata": {},
   "source": [
    "- 메시지 코드로 구성하기\n",
    "  - '%d' : 숫자\n",
    "  - '%s' : 문자열"
   ]
  },
  {
   "cell_type": "code",
   "execution_count": 10,
   "metadata": {},
   "outputs": [
    {
     "data": {
      "text/plain": [
       "'1 첫번째 - 두번째 - 세번째'"
      ]
     },
     "execution_count": 10,
     "metadata": {},
     "output_type": "execute_result"
    }
   ],
   "source": [
    "message = '%d %s - %s - %s' % (1, '첫번째', '두번째', '세번째')\n",
    "message"
   ]
  },
  {
   "cell_type": "code",
   "execution_count": 11,
   "metadata": {},
   "outputs": [],
   "source": [
    "message = '%d] <http://www.drapt.com/e_sale/%s|%s>' % (1, 'aaa', '테스트 링크')\n",
    "send_slack_template(incoming_webhook_url, message)"
   ]
  },
  {
   "cell_type": "markdown",
   "metadata": {},
   "source": [
    "### 4. 업무 자동화를 위한 웹사이트 + 메시지 보내기"
   ]
  },
  {
   "cell_type": "code",
   "execution_count": 17,
   "metadata": {},
   "outputs": [],
   "source": [
    "# 웹사이트 신규 기사 링크 템플릿\n",
    "\n",
    "import requests\n",
    "from bs4 import BeautifulSoup\n",
    "\n",
    "def crawling_template_with_href(url, css_selector, pre_url):\n",
    "    return_data = list()\n",
    "    res = requests.get(url)\n",
    "    soup = BeautifulSoup(res.content, 'html.parser')\n",
    "    datas1 = soup.select(css_selector)\n",
    "    for item in datas1:\n",
    "        return_data.append([item.get_text(), pre_url + item['href']])\n",
    "    return return_data"
   ]
  },
  {
   "cell_type": "markdown",
   "metadata": {},
   "source": [
    "- 기능별 템플릿을 연결해서 보다 다양한 기능을 수행하는 자동화 코드 구현 가능"
   ]
  },
  {
   "cell_type": "code",
   "execution_count": 18,
   "metadata": {},
   "outputs": [
    {
     "data": {
      "text/plain": [
       "[[' 규제 강화·코로나에도 청약 열기…흑석동 GS자이 96대 1',\n",
       "  'http://www.drapt.com/e_sale/index.htm?page_name=esale_news_view&menu_key=34&okey=wdate&uid=357894&start=0&mode=&s_que=&field='],\n",
       " [' 결혼 7년 지나도 늦둥이 있으면 신혼희망타운 분양받는다',\n",
       "  'http://www.drapt.com/e_sale/index.htm?page_name=esale_news_view&menu_key=34&okey=wdate&uid=357882&start=0&mode=&s_que=&field='],\n",
       " [' 유자녀 부부 신혼희망타운 청약해도 신혼부부 디딤돌대출은 안..',\n",
       "  'http://www.drapt.com/e_sale/index.htm?page_name=esale_news_view&menu_key=34&okey=wdate&uid=357881&start=0&mode=&s_que=&field='],\n",
       " [' 위례서 마지막 민간분양…서울·경기 공공택지 막판 청약률은',\n",
       "  'http://www.drapt.com/e_sale/index.htm?page_name=esale_news_view&menu_key=34&okey=wdate&uid=357879&start=0&mode=&s_que=&field='],\n",
       " [' 높은 분양가에…\"가점 10점대 1인가구도 당첨\"',\n",
       "  'http://www.drapt.com/e_sale/index.htm?page_name=esale_news_view&menu_key=34&okey=wdate&uid=357876&start=0&mode=&s_que=&field='],\n",
       " [' 시세10억 하남 아파트가 5억에 나왔다',\n",
       "  'http://www.drapt.com/e_sale/index.htm?page_name=esale_news_view&menu_key=34&okey=wdate&uid=357868&start=0&mode=&s_que=&field='],\n",
       " [' 주택공급 확대·전매제한 강화 발표에도 청약시장 여전히…',\n",
       "  'http://www.drapt.com/e_sale/index.htm?page_name=esale_news_view&menu_key=34&okey=wdate&uid=357867&start=0&mode=&s_que=&field='],\n",
       " [' \"분양권전매 막차타자\"…통장 5만개 몰렸다',\n",
       "  'http://www.drapt.com/e_sale/index.htm?page_name=esale_news_view&menu_key=34&okey=wdate&uid=357865&start=0&mode=&s_que=&field='],\n",
       " [' \"분양권 규제전에…\" 송도 줍줍 몰려든 6만명',\n",
       "  'http://www.drapt.com/e_sale/index.htm?page_name=esale_news_view&menu_key=34&okey=wdate&uid=357864&start=0&mode=&s_que=&field='],\n",
       " [' 공공분양 사전청약 해볼까…남양주·하남·과천·인천 첫선',\n",
       "  'http://www.drapt.com/e_sale/index.htm?page_name=esale_news_view&menu_key=34&okey=wdate&uid=357861&start=0&mode=&s_que=&field='],\n",
       " [' 10년간 재당첨 금지…서울 청약규제 첫 적용',\n",
       "  'http://www.drapt.com/e_sale/index.htm?page_name=esale_news_view&menu_key=34&okey=wdate&uid=357854&start=0&mode=&s_que=&field='],\n",
       " [' 수도권 3기 신도시 조기 분양한다…내년 9천가구 사전청약',\n",
       "  'http://www.drapt.com/e_sale/index.htm?page_name=esale_news_view&menu_key=34&okey=wdate&uid=357842&start=0&mode=&s_que=&field='],\n",
       " [' 위례 2건 `줍줍`에…현금 16억 들고 4천명 달려왔다',\n",
       "  'http://www.drapt.com/e_sale/index.htm?page_name=esale_news_view&menu_key=34&okey=wdate&uid=357830&start=0&mode=&s_que=&field='],\n",
       " [' 인천등 비규제지역 청약열기…`강남급`가점',\n",
       "  'http://www.drapt.com/e_sale/index.htm?page_name=esale_news_view&menu_key=34&okey=wdate&uid=357827&start=0&mode=&s_que=&field='],\n",
       " [' 지역주택조합 아파트도 후분양 나온다',\n",
       "  'http://www.drapt.com/e_sale/index.htm?page_name=esale_news_view&menu_key=34&okey=wdate&uid=357812&start=0&mode=&s_que=&field=']]"
      ]
     },
     "execution_count": 18,
     "metadata": {},
     "output_type": "execute_result"
    }
   ],
   "source": [
    "datas1 = crawling_template_with_href('http://www.drapt.com/e_sale/index.htm?page_name=esale_news&menu_key=34', 'a.c0000000', 'http://www.drapt.com/e_sale/')\n",
    "datas1"
   ]
  },
  {
   "cell_type": "markdown",
   "metadata": {},
   "source": [
    "### 템플릿 코드13: 리스트를 링크와 함께 메시지로 송부하기"
   ]
  },
  {
   "cell_type": "code",
   "execution_count": 19,
   "metadata": {},
   "outputs": [],
   "source": [
    "import json\n",
    "import requests\n",
    "\n",
    "def send_slack_template(incoming_webhook_url, message):\n",
    "    payload = {'type': 'mrkdwn', 'text': message}\n",
    "    message_json = json.dumps(payload)\n",
    "    requests.post(incoming_webhook_url, data=message_json)\n",
    "    \n",
    "def send_slack_list_template(incoming_webhook_url, list_links, main_message):\n",
    "    send_slack_template(incoming_webhook_url, main_message)    \n",
    "    for item in list_links:\n",
    "        message = '- <%s|%s>' % (item[1], item[0])\n",
    "        send_slack_template(incoming_webhook_url, message)"
   ]
  },
  {
   "cell_type": "code",
   "execution_count": 20,
   "metadata": {},
   "outputs": [],
   "source": [
    "incoming_webhook_url = ''"
   ]
  },
  {
   "cell_type": "code",
   "execution_count": 21,
   "metadata": {},
   "outputs": [],
   "source": [
    "send_slack_list_template(incoming_webhook_url, datas1, '*신규 기사*')"
   ]
  },
  {
   "cell_type": "code",
   "execution_count": null,
   "metadata": {},
   "outputs": [],
   "source": []
  }
 ],
 "metadata": {
  "kernelspec": {
   "display_name": "Python 3",
   "language": "python",
   "name": "python3"
  },
  "language_info": {
   "codemirror_mode": {
    "name": "ipython",
    "version": 3
   },
   "file_extension": ".py",
   "mimetype": "text/x-python",
   "name": "python",
   "nbconvert_exporter": "python",
   "pygments_lexer": "ipython3",
   "version": "3.8.5"
  },
  "nbTranslate": {
   "displayLangs": [
    "*"
   ],
   "hotkey": "alt-t",
   "langInMainMenu": true,
   "sourceLang": "en",
   "targetLang": "fr",
   "useGoogleTranslate": true
  }
 },
 "nbformat": 4,
 "nbformat_minor": 2
}
