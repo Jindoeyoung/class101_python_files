{
 "cells": [
  {
   "cell_type": "markdown",
   "metadata": {},
   "source": [
    "## 업무 자동화를 위한 웹사이트에서 원하는 정보 확인하고, 가져오기"
   ]
  },
  {
   "cell_type": "markdown",
   "metadata": {},
   "source": [
    "### 1. 크롤링 (crawling) 이란?\n",
    "  - 웹사이트에서 원하는 정보를 수집하는 기술\n",
    "  - 기술적으로 설명하면\n",
    "    - 웹페이지를 **가져와서**, 웹페이지를 구성하는 HTML/CSS 코드를 **파싱**하고, 필요한 데이터만 추출하는 기법\n",
    "\n",
    "> 파싱 (parsing): 일종에 분석하는 과정으로 이해하면 됨"
   ]
  },
  {
   "cell_type": "markdown",
   "metadata": {},
   "source": [
    "### 2. 이해가 필요한 기술\n",
    "- 웹사이트 구성\n",
    "- 웹페이지를 표현하는 HTML/CSS 언어\n",
    "  - 두 언어를 원하는 정보를 가져올만큼만 이해하면 됨\n",
    "  \n",
    "> 다음 웹페이지를 통해 가볍게 웹사이트 구성에 대해 이해하기로 함 <br>\n",
    "> https://davelee-fun.github.io/blog/crawl_test_css\n",
    "\n",
    "- 크롬 브라우저로 HTML/CSS 이해하기\n",
    "  1. 오픈 크롬 브라우저\n",
    "  2. 오픈 크롬 개발자 모드\n",
    "     - Command + Alt + i (맥) \n",
    "     - Ctrl + Shift + i 또는 F12 (윈도우)\n"
   ]
  },
  {
   "cell_type": "markdown",
   "metadata": {},
   "source": [
    "### HTML/CSS \n",
    "- 기본 구성\n",
    "\n",
    "```html\n",
    "<태그 속성1=속성값 속성2=속성값>데이터</태그>\n",
    "```\n",
    "\n",
    "- 속성 중 id 와 class 가 핵심\n",
    "- css 는 보통 태그 안에 class=CSS이름 으로 표기되는 경우가 많음\n",
    "\n",
    "```html\n",
    "<태그 id=속성값 class=속성값>데이터</태그>\n",
    "```"
   ]
  },
  {
   "cell_type": "markdown",
   "metadata": {},
   "source": [
    "### 웹페이지 확인을 위한 주요 태그\n",
    "- **ul, li태그**\n",
    "  - 리스트로 표기된 데이터를 읽을 때 사용\n",
    "- **table, tr, td 태그**\n",
    "  - 테이블로 구성된 데이터를 읽을 때 사용\n",
    "- **a 태그와 href 속성**\n",
    "  - 웹페이지 주소를 얻을 때 사용"
   ]
  },
  {
   "cell_type": "markdown",
   "metadata": {},
   "source": [
    "### 3. 웹페이지 확인 기술: 크롤링 기본\n",
    "- 패턴으로 코드를 이해하고, 필요한 부분만 수정하기"
   ]
  },
  {
   "cell_type": "markdown",
   "metadata": {},
   "source": [
    "### 파이썬의 특장점\n",
    "- 라이브러리란?\n",
    "  - 라이브러리란 미리 만들어놓은 함수 집합\n",
    "- 파이썬에서는 다양한 라이브러리이 있기 때문에, 적절한 라이브러리의 함수를 사용해서, 복잡한 기능을 빠르게 구현할 수 있음\n",
    "- 라이브러리는 필요할 때 자신의 PC에 설치해서 사용\n",
    "- anaconda 는 파이썬 컴파일러, 주피터 노트북뿐만 아니라, 주요 라이브러리도 함께 설치함"
   ]
  },
  {
   "cell_type": "markdown",
   "metadata": {},
   "source": [
    "### 라이브러리 사용법\n",
    "- import 라이브러리명 을 코드 최상단에 적으면 됨\n",
    "\n",
    "```python\n",
    "import requests\n",
    "```\n",
    "\n",
    "- import 후, 해당 라이브러리 안에 있는 함수는 라이브러리명.함수명 으로 호출하면 됨\n",
    "\n",
    "- 라이브러리 내의 특정 함수만 다음과 같이 import 할 수 있음\n",
    "  - 이 때에는 해당 함수명 으로만 호출하면 됨\n",
    "\n",
    "```python\n",
    "from bs4 import BeautifulSoup\n",
    "```"
   ]
  },
  {
   "cell_type": "markdown",
   "metadata": {},
   "source": [
    "### 라이브러리 설치가 안되어 있다면\n",
    "- import 명령 실행시 다음과 같은 에러가 출력됨\n",
    "\n",
    "```bash\n",
    "ModuleNotFoundError: No module named '라이브러리명'\n",
    "```\n",
    "\n",
    "- 라이브러리 설치 방법\n",
    "```bash\n",
    "!pip install 라이브러리명\n",
    "```"
   ]
  },
  {
   "cell_type": "code",
   "execution_count": null,
   "metadata": {},
   "outputs": [],
   "source": [
    "!pip install requests"
   ]
  },
  {
   "cell_type": "markdown",
   "metadata": {},
   "source": [
    "### 크롤링 기본 기술을 위한 라이브러리\n",
    "- requests\n",
    "- bs4"
   ]
  },
  {
   "cell_type": "code",
   "execution_count": 3,
   "metadata": {},
   "outputs": [],
   "source": [
    "# 일반적으로 이와 같이 import 합니다.\n",
    "import requests\n",
    "from bs4 import BeautifulSoup"
   ]
  },
  {
   "cell_type": "markdown",
   "metadata": {},
   "source": [
    "### 웹페이지 가져오기\n",
    "- res = requests.get(주소)\n",
    "  - 변수에 가져온 웹페이지가 저장됨\n",
    "  - 변수 이름은 res 로 하기로 함"
   ]
  },
  {
   "cell_type": "markdown",
   "metadata": {},
   "source": [
    "### 변수에 저장될 수 있는 데이터 범위\n",
    "- 이제부터 변수에는 문자, 숫자, boolean 이외에도 객체가 저장될 수 있다고 이해하기로 합니다.\n",
    "- 프로그래밍 용어로 객체라고 부름\n",
    "- 객체에는 내부에 변수와 함수가 있음\n",
    "  - 객체.내부변수, 또는 객체.내부함수 로 객체 내부의 변수와 함수를 호출할 수 있음"
   ]
  },
  {
   "cell_type": "code",
   "execution_count": 4,
   "metadata": {},
   "outputs": [],
   "source": [
    "res = requests.get('https://davelee-fun.github.io/blog/crawl_html_css')"
   ]
  },
  {
   "cell_type": "code",
   "execution_count": 5,
   "metadata": {},
   "outputs": [
    {
     "data": {
      "text/plain": [
       "<Response [200]>"
      ]
     },
     "execution_count": 5,
     "metadata": {},
     "output_type": "execute_result"
    }
   ],
   "source": [
    "res"
   ]
  },
  {
   "cell_type": "code",
   "execution_count": 6,
   "metadata": {},
   "outputs": [
    {
     "data": {
      "text/plain": [
       "b'<!doctype html>\\n<html lang=\"ko\">\\n<head>\\n<meta charset=\"utf-8\" />\\n<title>\\xea\\xb8\\xb0\\xeb\\xb3\\xb8 \\xec\\xbb\\xa4\\xeb\\xa6\\xac\\xed\\x81\\x98\\xeb\\x9f\\xbc</title>\\n<style>\\n#logo {\\n    max-width: 100%;\\n}\\n.course {\\n    font-size: 14px;\\n}\\n</style>\\n</head>\\n<body>\\n<h1>\\xec\\x9e\\x94\\xec\\x9e\\xac\\xeb\\xaf\\xb8\\xec\\xbd\\x94\\xeb\\x94\\xa9 \\xed\\x81\\xac\\xeb\\xa1\\xa4\\xeb\\xa7\\x81 \\xed\\x85\\x8c\\xec\\x8a\\xa4\\xed\\x8a\\xb8 \\xed\\x8e\\x98\\xec\\x9d\\xb4\\xec\\xa7\\x80 (\\xec\\xbb\\xa4\\xeb\\xa6\\xac\\xed\\x81\\x98\\xeb\\x9f\\xbc)</h1>\\n\\n<h3>\\xeb\\x82\\x98\\xeb\\xa7\\x8c\\xec\\x9d\\x98 \\xec\\x97\\xa3\\xec\\xa7\\x80\\xec\\x9e\\x88\\xeb\\x8a\\x94 \\xeb\\xb8\\x94\\xeb\\xa1\\x9c\\xea\\xb7\\xb8 \\xec\\x82\\xac\\xec\\x9d\\xb4\\xed\\x8a\\xb8 \\xeb\\xa7\\x8c\\xeb\\x93\\xa4\\xea\\xb8\\xb0 (\\xec\\xb7\\xa8\\xeb\\xaf\\xb8\\xeb\\xa1\\x9c \\xec\\x9d\\xb5\\xed\\x9e\\x88\\xeb\\x8a\\x94 IT)</h3>\\n<ul id=\"hobby_course_list\">\\n    <li class=\"course\" id=\\'start\\'><a href=\"https://www.fun-coding.org\">(\\xec\\x99\\x95\\xec\\xb4\\x88\\xeb\\xb3\\xb4) - \\xed\\x81\\xb4\\xeb\\x9e\\x98\\xec\\x8a\\xa4 \\xec\\x86\\x8c\\xea\\xb0\\x9c</a></li>\\n    <li class=\"course\" id=\\'start\\'><a href=\"https://www.fun-coding.org\">(\\xec\\x99\\x95\\xec\\xb4\\x88\\xeb\\xb3\\xb4) - \\xeb\\xb8\\x94\\xeb\\xa1\\x9c\\xea\\xb7\\xb8 \\xea\\xb0\\x9c\\xeb\\xb0\\x9c \\xed\\x95\\x84\\xec\\x9a\\x94\\xed\\x95\\x9c \\xec\\xa4\\x80\\xeb\\xb9\\x84\\xeb\\xac\\xbc \\xec\\xa4\\x80\\xeb\\xb9\\x84\\xed\\x95\\x98\\xea\\xb8\\xb0</a></li>\\n    <li class=\"course\" id=\\'start\\'><a href=\"https://www.fun-coding.org\">(\\xec\\x99\\x95\\xec\\xb4\\x88\\xeb\\xb3\\xb4) - Github pages \\xec\\x84\\xa4\\xec\\xa0\\x95\\xed\\x95\\xb4\\xec\\x84\\x9c \\xeb\\xb8\\x94\\xeb\\xa1\\x9c\\xea\\xb7\\xb8 \\xec\\xb2\\xab \\xed\\x8e\\x98\\xec\\x9d\\xb4\\xec\\xa7\\x80 \\xeb\\xa7\\x8c\\xeb\\x93\\xa4\\xec\\x96\\xb4\\xeb\\xb3\\xb4\\xea\\xb8\\xb0</a></li>\\n    <li class=\"course\" id=\\'start\\'><a href=\"https://www.fun-coding.org\">(\\xec\\x99\\x95\\xec\\xb4\\x88\\xeb\\xb3\\xb4) - \\xec\\xb4\\x88\\xea\\xb0\\x84\\xeb\\x8b\\xa8 \\xed\\x8e\\x98\\xec\\x9d\\xb4\\xec\\xa7\\x80 \\xeb\\xa7\\x8c\\xeb\\x93\\xa4\\xec\\x96\\xb4\\xeb\\xb3\\xb4\\xea\\xb8\\xb0</a></li>\\n    <li class=\"course\" id=\\'start\\'><a href=\"https://www.fun-coding.org\">(\\xec\\x99\\x95\\xec\\xb4\\x88\\xeb\\xb3\\xb4) - \\xec\\x9d\\xb4\\xec\\x81\\x98\\xea\\xb2\\x8c \\xed\\x85\\x8c\\xeb\\xa7\\x88 \\xec\\xa0\\x81\\xec\\x9a\\xa9\\xed\\x95\\xb4\\xeb\\xb3\\xb4\\xea\\xb8\\xb0</a></li>\\n    <li class=\"course\" id=\\'start\\'><a href=\"https://www.fun-coding.org\">(\\xec\\x99\\x95\\xec\\xb4\\x88\\xeb\\xb3\\xb4) - \\xeb\\xa7\\x88\\xed\\x81\\xac\\xeb\\x8b\\xa4\\xec\\x9a\\xb4 \\xea\\xb8\\xb0\\xec\\xb4\\x88 \\xec\\x9d\\xb4\\xed\\x95\\xb4\\xed\\x95\\x98\\xea\\xb3\\xa0, \\xec\\x8b\\xa4\\xec\\xa0\\x9c \\xeb\\x82\\x98\\xeb\\xa7\\x8c\\xec\\x9d\\x98 \\xeb\\xb8\\x94\\xeb\\xa1\\x9c\\xea\\xb7\\xb8 \\xed\\x8e\\x98\\xec\\x9d\\xb4\\xec\\xa7\\x80 \\xeb\\xa7\\x8c\\xeb\\x93\\xa4\\xea\\xb8\\xb0</a></li>\\n    <li class=\"course\" id=\\'start\\'><a href=\"https://www.fun-coding.org\">(\\xec\\x99\\x95\\xec\\xb4\\x88\\xeb\\xb3\\xb4) - \\xeb\\x8b\\xa4\\xec\\x96\\x91\\xed\\x95\\x9c \\xeb\\xa7\\x88\\xed\\x81\\xac\\xeb\\x8b\\xa4\\xec\\x9a\\xb4 \\xea\\xb8\\xb0\\xeb\\xb2\\x95 \\xec\\x9d\\xb5\\xed\\x98\\x80\\xeb\\xb3\\xb4\\xeb\\xa9\\xb0, \\xeb\\x82\\x98\\xeb\\xa7\\x8c\\xec\\x9d\\x98 \\xeb\\xb8\\x94\\xeb\\xa1\\x9c\\xea\\xb7\\xb8 \\xed\\x8e\\x98\\xec\\x9d\\xb4\\xec\\xa7\\x80 \\xea\\xbe\\xb8\\xeb\\xa9\\xb0\\xeb\\xb3\\xb4\\xea\\xb8\\xb0</a></li>\\n</ul>\\n\\n<h3>\\xed\\x8c\\x8c\\xec\\x9d\\xb4\\xec\\x8d\\xac\\xea\\xb3\\xbc \\xeb\\x8d\\xb0\\xec\\x9d\\xb4\\xed\\x84\\xb0\\xea\\xb3\\xbc\\xed\\x95\\x99 \\xec\\xb2\\xab\\xea\\xb1\\xb8\\xec\\x9d\\x8c (IT \\xea\\xb8\\xb0\\xeb\\xb3\\xb8\\xea\\xb8\\xb0 \\xec\\x9d\\xb5\\xed\\x9e\\x88\\xea\\xb8\\xb0)</h3>\\n<ul id=\"dev_course_list\">\\n    <li class=\"course\" id=\\'begin\\'><a href=\"https://www.fun-coding.org\">(\\xec\\xb4\\x88\\xea\\xb8\\x89) - \\xea\\xb0\\x95\\xec\\x82\\xac\\xea\\xb0\\x80 \\xec\\x8b\\xa4\\xec\\xa0\\x9c \\xec\\x82\\xac\\xec\\x9a\\xa9\\xed\\x95\\x98\\xeb\\x8a\\x94 \\xec\\x9e\\x90\\xeb\\x8f\\x99 \\xed\\x94\\x84\\xeb\\xa1\\x9c\\xea\\xb7\\xb8\\xeb\\x9e\\xa8 \\xec\\x86\\x8c\\xea\\xb0\\x9c [2]</a></li>\\n    <li class=\"course\" id=\\'begin\\'><a href=\"https://www.fun-coding.org\">(\\xec\\xb4\\x88\\xea\\xb8\\x89) - \\xed\\x95\\x84\\xec\\x9a\\x94\\xed\\x95\\x9c \\xed\\x94\\x84\\xeb\\xa1\\x9c\\xea\\xb7\\xb8\\xeb\\x9e\\xa8 \\xec\\x84\\xa4\\xec\\xb9\\x98 \\xec\\x8b\\x9c\\xec\\x97\\xb0 [5]</a></li>\\n    <li class=\"course\" id=\\'begin\\'><a href=\"https://www.fun-coding.org\">(\\xec\\xb4\\x88\\xea\\xb8\\x89) - \\xeb\\x8d\\xb0\\xec\\x9d\\xb4\\xed\\x84\\xb0\\xeb\\xa5\\xbc \\xec\\x97\\x91\\xec\\x85\\x80 \\xed\\x8c\\x8c\\xec\\x9d\\xbc\\xeb\\xa1\\x9c \\xeb\\xa7\\x8c\\xeb\\x93\\xa4\\xea\\xb8\\xb0 [9]</a></li>\\n    <li class=\"course\" id=\\'begin\\'><a href=\"https://www.fun-coding.org\">(\\xec\\xb4\\x88\\xea\\xb8\\x89) - &nbsp;&nbsp;&nbsp;&nbsp;\\xec\\x97\\x91\\xec\\x85\\x80 \\xed\\x8c\\x8c\\xec\\x9d\\xbc \\xec\\x9d\\xb4\\xec\\x81\\x98\\xea\\xb2\\x8c! \\xec\\x9d\\xb4\\xec\\x81\\x98\\xea\\xb2\\x8c! [8]</a></li>\\n    <li class=\"course\" id=\\'begin\\'><a href=\"https://www.fun-coding.org\">(\\xec\\xb4\\x88\\xea\\xb8\\x89) - &nbsp;&nbsp;&nbsp;&nbsp;\\xeb\\x82\\x98\\xeb\\x8c\\x80\\xec\\x8b\\xa0 \\xec\\xa3\\xbc\\xea\\xb8\\xb0\\xec\\xa0\\x81\\xec\\x9c\\xbc\\xeb\\xa1\\x9c \\xed\\x8c\\x8c\\xec\\x9d\\xb4\\xec\\x8d\\xac \\xed\\x94\\x84\\xeb\\xa1\\x9c\\xea\\xb7\\xb8\\xeb\\x9e\\xa8 \\xec\\x8b\\xa4\\xed\\x96\\x89\\xed\\x95\\x98\\xea\\xb8\\xb0 [7]</a></li>\\n    <li class=\"course\" id=\\'begin\\'><a href=\"https://www.fun-coding.org\">(\\xec\\xb4\\x88\\xea\\xb8\\x89) - \\xed\\x8c\\x8c\\xec\\x9d\\xb4\\xec\\x8d\\xac\\xec\\x9c\\xbc\\xeb\\xa1\\x9c \\xec\\x8a\\xac\\xeb\\x9e\\x99(slack) \\xeb\\xa9\\x94\\xec\\x8b\\xa0\\xec\\xa0\\x80\\xec\\x97\\x90 \\xea\\xb8\\x80\\xec\\x93\\xb0\\xea\\xb8\\xb0 [40]</a></li>\\n    <li class=\"course\" id=\\'begin\\'><a href=\"https://www.fun-coding.org\">(\\xec\\xb4\\x88\\xea\\xb8\\x89) - \\xec\\x9b\\xb9\\xec\\x82\\xac\\xec\\x9d\\xb4\\xed\\x8a\\xb8 \\xeb\\xb3\\x80\\xea\\xb2\\xbd\\xec\\x82\\xac\\xed\\x95\\xad \\xec\\xa3\\xbc\\xea\\xb8\\xb0\\xec\\xa0\\x81\\xec\\x9c\\xbc\\xeb\\xa1\\x9c \\xec\\xb2\\xb4\\xed\\x81\\xac\\xed\\x95\\xb4\\xec\\x84\\x9c, \\xeb\\xa9\\x94\\xec\\x8b\\xa0\\xec\\xa0\\x80\\xeb\\xa1\\x9c \\xec\\x95\\x8c\\xeb\\x9e\\x8c\\xec\\xa3\\xbc\\xea\\xb8\\xb0 [12]</a></li>\\n    <li class=\"course\" id=\\'begin\\'><a href=\"https://www.fun-coding.org\">(\\xec\\xb4\\x88\\xea\\xb8\\x89) - \\xeb\\x84\\xa4\\xec\\x9d\\xb4\\xeb\\xb2\\x84 API \\xec\\x82\\xac\\xec\\x9a\\xa9\\xed\\x95\\xb4\\xec\\x84\\x9c, \\xeb\\xb8\\x94\\xeb\\xa1\\x9c\\xea\\xb7\\xb8\\xec\\x97\\x90 \\xea\\xb8\\x80\\xec\\x93\\xb0\\xea\\xb8\\xb0 [42]</a></li>\\n    <li class=\"course paid\" id=\\'advance\\'><a href=\"https://www.fun-coding.org\">(\\xec\\xa4\\x91\\xea\\xb8\\x89) - \\xec\\x9e\\x90\\xeb\\x8f\\x99\\xec\\x9c\\xbc\\xeb\\xa1\\x9c \\xec\\xbf\\xa0\\xed\\x8c\\xa1\\xed\\x8c\\x8c\\xed\\x8a\\xb8\\xeb\\x84\\x88\\xec\\x8a\\xa4 API \\xeb\\xa1\\x9c \\xea\\xb0\\x80\\xec\\xa0\\xb8\\xec\\x98\\xa8 \\xec\\x83\\x81\\xed\\x92\\x88 \\xec\\xa0\\x95\\xeb\\xb3\\xb4, \\xeb\\x84\\xa4\\xec\\x9d\\xb4\\xeb\\xb2\\x84 \\xeb\\xb8\\x94\\xeb\\xa1\\x9c\\xea\\xb7\\xb8/\\xed\\x8a\\xb8\\xec\\x9c\\x84\\xed\\x84\\xb0\\xec\\x97\\x90 \\xed\\x99\\x8d\\xeb\\xb3\\xb4\\xed\\x95\\x98\\xea\\xb8\\xb0 [412]</a></li>\\n</ul>\\n\\n<h3>\\xec\\xbb\\xa4\\xeb\\xa6\\xac\\xed\\x81\\x98\\xeb\\x9f\\xbc \\xec\\x9d\\xbc\\xec\\xa0\\x95</h3>\\n<table border=\"1\" style=\"border-collapse: collapse;\">\\n    <tr>\\n        <td>\\xec\\x9d\\xbc\\xec\\xa0\\x95</td>\\n        <td>\\xec\\xbb\\xa4\\xeb\\xa6\\xac\\xed\\x81\\x98\\xeb\\x9f\\xbc \\xed\\x83\\x80\\xec\\x9d\\xb4\\xed\\x8b\\x80</td>\\n        <td>\\xeb\\x82\\x9c\\xec\\x9d\\xb4\\xeb\\x8f\\x84</td>\\n    </tr>\\n    <tr>\\n        <td>5.1 ~ 6.15</td>\\n        <td>\\xeb\\x82\\x98\\xeb\\xa7\\x8c\\xec\\x9d\\x98 \\xec\\x97\\xa3\\xec\\xa7\\x80\\xec\\x9e\\x88\\xeb\\x8a\\x94 \\xeb\\xb8\\x94\\xeb\\xa1\\x9c\\xea\\xb7\\xb8 \\xec\\x82\\xac\\xec\\x9d\\xb4\\xed\\x8a\\xb8 \\xeb\\xa7\\x8c\\xeb\\x93\\xa4\\xea\\xb8\\xb0 (\\xec\\xb7\\xa8\\xeb\\xaf\\xb8\\xeb\\xa1\\x9c \\xec\\x9d\\xb5\\xed\\x9e\\x88\\xeb\\x8a\\x94 IT)</td>\\n        <td>\\xec\\xb4\\x88\\xea\\xb8\\x89</td>\\n    </tr>\\n    <tr>\\n        <td>6.16 ~ 7.31</td>\\n        <td>\\xed\\x8c\\x8c\\xec\\x9d\\xb4\\xec\\x8d\\xac\\xea\\xb3\\xbc \\xeb\\x8d\\xb0\\xec\\x9d\\xb4\\xed\\x84\\xb0\\xea\\xb3\\xbc\\xed\\x95\\x99 \\xec\\xb2\\xab\\xea\\xb1\\xb8\\xec\\x9d\\x8c (IT \\xea\\xb8\\xb0\\xeb\\xb3\\xb8\\xea\\xb8\\xb0 \\xec\\x9d\\xb5\\xed\\x9e\\x88\\xea\\xb8\\xb0)</td>\\n        <td>\\xec\\xa4\\x91\\xea\\xb8\\x89</td>\\n    </tr>    \\n</table>\\n\\n\\n</body>\\n</html>\\n'"
      ]
     },
     "execution_count": 6,
     "metadata": {},
     "output_type": "execute_result"
    }
   ],
   "source": [
    "res.content"
   ]
  },
  {
   "cell_type": "markdown",
   "metadata": {},
   "source": [
    "### 웹페이지 파싱하기\n",
    "- 웹페이지 분석이라고 이해하기로 함\n",
    "- 웹페이지의 HTML/CSS 언어를 분석해서, 구조화하는 것임\n",
    "- soup = BeautifulSoup(res.content, 'html.parser')\n",
    "  - res 에 웹페이지 객체가 저장되며, 웹페이지 데이터를 res.content 내부변수에서 불러올 수 있음"
   ]
  },
  {
   "cell_type": "markdown",
   "metadata": {},
   "source": [
    "### 원하는 데이터 선택하기\n",
    "- 웹페이지가 HTML/CSS 로 구성되어 있으므로, CSS Selector 라고하는 문법으로 필요한 데이터를 선택해야 함\n",
    "- soup.select() 함수를 사용해서, 해당 데이터를 리스트 형태로 가져옴\n",
    "- 리스트의 각 아이템을 반복문으로 추출하고, item.get_text() 로 실제 데이터를 가져올 수 있음"
   ]
  },
  {
   "cell_type": "code",
   "execution_count": 9,
   "metadata": {},
   "outputs": [
    {
     "ename": "NameError",
     "evalue": "name 'soup' is not defined",
     "output_type": "error",
     "traceback": [
      "\u001b[1;31m---------------------------------------------------------------------------\u001b[0m",
      "\u001b[1;31mNameError\u001b[0m                                 Traceback (most recent call last)",
      "\u001b[1;32m<ipython-input-9-8f112aeef4d9>\u001b[0m in \u001b[0;36m<module>\u001b[1;34m\u001b[0m\n\u001b[1;32m----> 1\u001b[1;33m \u001b[0mdatas1\u001b[0m \u001b[1;33m=\u001b[0m \u001b[0msoup\u001b[0m\u001b[1;33m.\u001b[0m\u001b[0mselect\u001b[0m\u001b[1;33m(\u001b[0m\u001b[1;34m'li'\u001b[0m\u001b[1;33m)\u001b[0m\u001b[1;33m\u001b[0m\u001b[1;33m\u001b[0m\u001b[0m\n\u001b[0m\u001b[0;32m      2\u001b[0m \u001b[1;32mfor\u001b[0m \u001b[0mitem\u001b[0m \u001b[1;32min\u001b[0m \u001b[0mdatas1\u001b[0m\u001b[1;33m:\u001b[0m\u001b[1;33m\u001b[0m\u001b[1;33m\u001b[0m\u001b[0m\n\u001b[0;32m      3\u001b[0m     \u001b[0mprint\u001b[0m \u001b[1;33m(\u001b[0m\u001b[0mitem\u001b[0m\u001b[1;33m.\u001b[0m\u001b[0mget_text\u001b[0m\u001b[1;33m(\u001b[0m\u001b[1;33m)\u001b[0m\u001b[1;33m)\u001b[0m\u001b[1;33m\u001b[0m\u001b[1;33m\u001b[0m\u001b[0m\n",
      "\u001b[1;31mNameError\u001b[0m: name 'soup' is not defined"
     ]
    }
   ],
   "source": [
    "\n",
    "datas1 = soup.select('li')\n",
    "for item in datas1:\n",
    "    print (item.get_text())"
   ]
  },
  {
   "cell_type": "markdown",
   "metadata": {},
   "source": [
    "### 전체 패턴 코드"
   ]
  },
  {
   "cell_type": "code",
   "execution_count": 10,
   "metadata": {},
   "outputs": [
    {
     "name": "stdout",
     "output_type": "stream",
     "text": [
      "(왕초보) - 클래스 소개\n",
      "(왕초보) - 블로그 개발 필요한 준비물 준비하기\n",
      "(왕초보) - Github pages 설정해서 블로그 첫 페이지 만들어보기\n",
      "(왕초보) - 초간단 페이지 만들어보기\n",
      "(왕초보) - 이쁘게 테마 적용해보기\n",
      "(왕초보) - 마크다운 기초 이해하고, 실제 나만의 블로그 페이지 만들기\n",
      "(왕초보) - 다양한 마크다운 기법 익혀보며, 나만의 블로그 페이지 꾸며보기\n",
      "(초급) - 강사가 실제 사용하는 자동 프로그램 소개 [2]\n",
      "(초급) - 필요한 프로그램 설치 시연 [5]\n",
      "(초급) - 데이터를 엑셀 파일로 만들기 [9]\n",
      "(초급) -     엑셀 파일 이쁘게! 이쁘게! [8]\n",
      "(초급) -     나대신 주기적으로 파이썬 프로그램 실행하기 [7]\n",
      "(초급) - 파이썬으로 슬랙(slack) 메신저에 글쓰기 [40]\n",
      "(초급) - 웹사이트 변경사항 주기적으로 체크해서, 메신저로 알람주기 [12]\n",
      "(초급) - 네이버 API 사용해서, 블로그에 글쓰기 [42]\n",
      "(중급) - 자동으로 쿠팡파트너스 API 로 가져온 상품 정보, 네이버 블로그/트위터에 홍보하기 [412]\n"
     ]
    }
   ],
   "source": [
    "import requests\n",
    "from bs4 import BeautifulSoup\n",
    "\n",
    "res = requests.get('https://davelee-fun.github.io/blog/crawl_html_css')\n",
    "soup = BeautifulSoup(res.content, 'html.parser')\n",
    "datas1 = soup.select('li')\n",
    "for item in datas1:\n",
    "    print (item.get_text())"
   ]
  },
  {
   "cell_type": "markdown",
   "metadata": {},
   "source": [
    "### 템플릿 코드1: 크롤링(타이틀)\n",
    "- 사용법\n",
    "  - crawling_template(웹주소, css selector)"
   ]
  },
  {
   "cell_type": "code",
   "execution_count": 1,
   "metadata": {},
   "outputs": [],
   "source": [
    "import requests\n",
    "from bs4 import BeautifulSoup\n",
    "\n",
    "def crawling_template(url, css_selector):\n",
    "    return_data = list()\n",
    "    res = requests.get(url)\n",
    "    soup = BeautifulSoup(res.content, 'html.parser')\n",
    "    datas1 = soup.select(css_selector)\n",
    "    for item in datas1:\n",
    "        return_data.append(item.get_text())\n",
    "    return return_data"
   ]
  },
  {
   "cell_type": "markdown",
   "metadata": {},
   "source": [
    "### 템플릿 코드 활용\n",
    "- 웹주소와 CSS Selector 만 선택하면 원하는 데이터가 리스트로 나옴"
   ]
  },
  {
   "cell_type": "markdown",
   "metadata": {},
   "source": [
    "### 4. CSS Selector\n",
    "> 테스트 사이트를 기반으로 CSS Selector 주요 선택 방법을 익혀봅니다. <br>\n",
    "> https://davelee-fun.github.io/blog/crawl_test_css"
   ]
  },
  {
   "cell_type": "markdown",
   "metadata": {},
   "source": [
    "### 크롬 브라우저로 CSS Selector 확인하기\n",
    "* 오픈 크롬 브라우저\n",
    "* 오픈 크롬 개발자 모드\n",
    "  - Command + Alt + i (맥) \n",
    "  - Ctrl + Shift + i 또는 F12 (윈도우)\n",
    "* 개발자 모드 화면에서 마우스 표시 선택 후, 마우스로 원하는 데이터 선택\n",
    "\n",
    "> 단, 실제 태그 관계를 확인해서, CSS Selector를 직접 만들어야 제대로 크롤링이 가능함 <br>"
   ]
  },
  {
   "cell_type": "markdown",
   "metadata": {},
   "source": [
    "### 4.1. CSS Selector 선택: 태그 선택"
   ]
  },
  {
   "cell_type": "code",
   "execution_count": 5,
   "metadata": {},
   "outputs": [
    {
     "data": {
      "text/plain": [
       "['(왕초보) - 클래스 소개',\n",
       " '(왕초보) - 블로그 개발 필요한 준비물 준비하기',\n",
       " '(왕초보) - Github pages 설정해서 블로그 첫 페이지 만들어보기',\n",
       " '(왕초보) - 초간단 페이지 만들어보기',\n",
       " '(왕초보) - 이쁘게 테마 적용해보기',\n",
       " '(왕초보) - 마크다운 기초 이해하고, 실제 나만의 블로그 페이지 만들기',\n",
       " '(왕초보) - 다양한 마크다운 기법 익혀보며, 나만의 블로그 페이지 꾸며보기',\n",
       " '(초급) - 강사가 실제 사용하는 자동 프로그램 소개 [2]',\n",
       " '(초급) - 필요한 프로그램 설치 시연 [5]',\n",
       " '(초급) - 데이터를 엑셀 파일로 만들기 [9]',\n",
       " '(초급) - \\xa0\\xa0\\xa0\\xa0엑셀 파일 이쁘게! 이쁘게! [8]',\n",
       " '(초급) - \\xa0\\xa0\\xa0\\xa0나대신 주기적으로 파이썬 프로그램 실행하기 [7]',\n",
       " '(초급) - 파이썬으로 슬랙(slack) 메신저에 글쓰기 [40]',\n",
       " '(초급) - 웹사이트 변경사항 주기적으로 체크해서, 메신저로 알람주기 [12]',\n",
       " '(초급) - 네이버 API 사용해서, 블로그에 글쓰기 [42]',\n",
       " '(중급) - 자동으로 쿠팡파트너스 API 로 가져온 상품 정보, 네이버 블로그/트위터에 홍보하기 [412]']"
      ]
     },
     "execution_count": 5,
     "metadata": {},
     "output_type": "execute_result"
    }
   ],
   "source": [
    "crawling_template('https://davelee-fun.github.io/blog/crawl_html_css', 'li')"
   ]
  },
  {
   "cell_type": "markdown",
   "metadata": {},
   "source": [
    "### 4.2. CSS Selector 선택: 하위 태그 선택\n",
    "- 띄어쓸 때는 상위 태그 안에 해당 태그가 있기만 하면 선택 가능\n",
    "```python\n",
    "items = soup.select('ul a')\n",
    "```\n",
    "\n",
    "- '>' 는 상위 태그 바로 아래 해당 태그가 있어야 함\n",
    "```python\n",
    "items = soup.select('ul > li')\n",
    "```"
   ]
  },
  {
   "cell_type": "code",
   "execution_count": 6,
   "metadata": {},
   "outputs": [
    {
     "data": {
      "text/plain": [
       "['(왕초보) - 클래스 소개',\n",
       " '(왕초보) - 블로그 개발 필요한 준비물 준비하기',\n",
       " '(왕초보) - Github pages 설정해서 블로그 첫 페이지 만들어보기',\n",
       " '(왕초보) - 초간단 페이지 만들어보기',\n",
       " '(왕초보) - 이쁘게 테마 적용해보기',\n",
       " '(왕초보) - 마크다운 기초 이해하고, 실제 나만의 블로그 페이지 만들기',\n",
       " '(왕초보) - 다양한 마크다운 기법 익혀보며, 나만의 블로그 페이지 꾸며보기',\n",
       " '(초급) - 강사가 실제 사용하는 자동 프로그램 소개 [2]',\n",
       " '(초급) - 필요한 프로그램 설치 시연 [5]',\n",
       " '(초급) - 데이터를 엑셀 파일로 만들기 [9]',\n",
       " '(초급) - \\xa0\\xa0\\xa0\\xa0엑셀 파일 이쁘게! 이쁘게! [8]',\n",
       " '(초급) - \\xa0\\xa0\\xa0\\xa0나대신 주기적으로 파이썬 프로그램 실행하기 [7]',\n",
       " '(초급) - 파이썬으로 슬랙(slack) 메신저에 글쓰기 [40]',\n",
       " '(초급) - 웹사이트 변경사항 주기적으로 체크해서, 메신저로 알람주기 [12]',\n",
       " '(초급) - 네이버 API 사용해서, 블로그에 글쓰기 [42]',\n",
       " '(중급) - 자동으로 쿠팡파트너스 API 로 가져온 상품 정보, 네이버 블로그/트위터에 홍보하기 [412]']"
      ]
     },
     "execution_count": 6,
     "metadata": {},
     "output_type": "execute_result"
    }
   ],
   "source": [
    "crawling_template('https://davelee-fun.github.io/blog/crawl_html_css', 'ul li')"
   ]
  },
  {
   "cell_type": "markdown",
   "metadata": {},
   "source": [
    "### 4.3. CSS Selector 선택: css class 이름으로 선택\n",
    "- css class 는 MS Word/한글 의 서식과 동일\n",
    "  - 다양한 서식 디자인을 의미함\n",
    "  - 예: 폰트사이즈 14, 폰트색:갈색, 폰트종류:나눔 등\n",
    "- 연관 데이터에 동일한 서식을 사용할 가능성이 높음\n",
    "- '태그.클래스 이름' 으로 태그와 태그 안에 있는 클래스를 선택 가능\n",
    "- '.클래스 이름' 으로 클래스 이름 단독으로도 선택 가능\n",
    "- '태그.클래스이름.클래스이름' 으로 한 태그에 클래스 이름이 여러개일 경우에도 선택 가능"
   ]
  },
  {
   "cell_type": "code",
   "execution_count": 8,
   "metadata": {},
   "outputs": [
    {
     "data": {
      "text/plain": [
       "['(왕초보) - 클래스 소개',\n",
       " '(왕초보) - 블로그 개발 필요한 준비물 준비하기',\n",
       " '(왕초보) - Github pages 설정해서 블로그 첫 페이지 만들어보기',\n",
       " '(왕초보) - 초간단 페이지 만들어보기',\n",
       " '(왕초보) - 이쁘게 테마 적용해보기',\n",
       " '(왕초보) - 마크다운 기초 이해하고, 실제 나만의 블로그 페이지 만들기',\n",
       " '(왕초보) - 다양한 마크다운 기법 익혀보며, 나만의 블로그 페이지 꾸며보기',\n",
       " '(초급) - 강사가 실제 사용하는 자동 프로그램 소개 [2]',\n",
       " '(초급) - 필요한 프로그램 설치 시연 [5]',\n",
       " '(초급) - 데이터를 엑셀 파일로 만들기 [9]',\n",
       " '(초급) - \\xa0\\xa0\\xa0\\xa0엑셀 파일 이쁘게! 이쁘게! [8]',\n",
       " '(초급) - \\xa0\\xa0\\xa0\\xa0나대신 주기적으로 파이썬 프로그램 실행하기 [7]',\n",
       " '(초급) - 파이썬으로 슬랙(slack) 메신저에 글쓰기 [40]',\n",
       " '(초급) - 웹사이트 변경사항 주기적으로 체크해서, 메신저로 알람주기 [12]',\n",
       " '(초급) - 네이버 API 사용해서, 블로그에 글쓰기 [42]',\n",
       " '(중급) - 자동으로 쿠팡파트너스 API 로 가져온 상품 정보, 네이버 블로그/트위터에 홍보하기 [412]']"
      ]
     },
     "execution_count": 8,
     "metadata": {},
     "output_type": "execute_result"
    }
   ],
   "source": [
    "crawling_template('https://davelee-fun.github.io/blog/crawl_html_css', 'li.course')"
   ]
  },
  {
   "cell_type": "code",
   "execution_count": 9,
   "metadata": {},
   "outputs": [
    {
     "data": {
      "text/plain": [
       "['(왕초보) - 클래스 소개',\n",
       " '(왕초보) - 블로그 개발 필요한 준비물 준비하기',\n",
       " '(왕초보) - Github pages 설정해서 블로그 첫 페이지 만들어보기',\n",
       " '(왕초보) - 초간단 페이지 만들어보기',\n",
       " '(왕초보) - 이쁘게 테마 적용해보기',\n",
       " '(왕초보) - 마크다운 기초 이해하고, 실제 나만의 블로그 페이지 만들기',\n",
       " '(왕초보) - 다양한 마크다운 기법 익혀보며, 나만의 블로그 페이지 꾸며보기',\n",
       " '(초급) - 강사가 실제 사용하는 자동 프로그램 소개 [2]',\n",
       " '(초급) - 필요한 프로그램 설치 시연 [5]',\n",
       " '(초급) - 데이터를 엑셀 파일로 만들기 [9]',\n",
       " '(초급) - \\xa0\\xa0\\xa0\\xa0엑셀 파일 이쁘게! 이쁘게! [8]',\n",
       " '(초급) - \\xa0\\xa0\\xa0\\xa0나대신 주기적으로 파이썬 프로그램 실행하기 [7]',\n",
       " '(초급) - 파이썬으로 슬랙(slack) 메신저에 글쓰기 [40]',\n",
       " '(초급) - 웹사이트 변경사항 주기적으로 체크해서, 메신저로 알람주기 [12]',\n",
       " '(초급) - 네이버 API 사용해서, 블로그에 글쓰기 [42]',\n",
       " '(중급) - 자동으로 쿠팡파트너스 API 로 가져온 상품 정보, 네이버 블로그/트위터에 홍보하기 [412]']"
      ]
     },
     "execution_count": 9,
     "metadata": {},
     "output_type": "execute_result"
    }
   ],
   "source": [
    "crawling_template('https://davelee-fun.github.io/blog/crawl_html_css', '.course')"
   ]
  },
  {
   "cell_type": "code",
   "execution_count": 7,
   "metadata": {},
   "outputs": [
    {
     "data": {
      "text/plain": [
       "['(중급) - 자동으로 쿠팡파트너스 API 로 가져온 상품 정보, 네이버 블로그/트위터에 홍보하기 [412]']"
      ]
     },
     "execution_count": 7,
     "metadata": {},
     "output_type": "execute_result"
    }
   ],
   "source": [
    "crawling_template('https://davelee-fun.github.io/blog/crawl_html_css', 'li.course.paid')"
   ]
  },
  {
   "cell_type": "markdown",
   "metadata": {},
   "source": [
    "### 4.4. CSS Selector 선택: id 이름으로 선택\n",
    "- '#id이름' 으로 검색 가능\n",
    "- '태그이름#id이름' 으로도 검색 가능"
   ]
  },
  {
   "cell_type": "code",
   "execution_count": 11,
   "metadata": {},
   "outputs": [
    {
     "data": {
      "text/plain": [
       "['(초급) - 강사가 실제 사용하는 자동 프로그램 소개 [2]',\n",
       " '(초급) - 필요한 프로그램 설치 시연 [5]',\n",
       " '(초급) - 데이터를 엑셀 파일로 만들기 [9]',\n",
       " '(초급) - \\xa0\\xa0\\xa0\\xa0엑셀 파일 이쁘게! 이쁘게! [8]',\n",
       " '(초급) - \\xa0\\xa0\\xa0\\xa0나대신 주기적으로 파이썬 프로그램 실행하기 [7]',\n",
       " '(초급) - 파이썬으로 슬랙(slack) 메신저에 글쓰기 [40]',\n",
       " '(초급) - 웹사이트 변경사항 주기적으로 체크해서, 메신저로 알람주기 [12]',\n",
       " '(초급) - 네이버 API 사용해서, 블로그에 글쓰기 [42]']"
      ]
     },
     "execution_count": 11,
     "metadata": {},
     "output_type": "execute_result"
    }
   ],
   "source": [
    "crawling_template('https://davelee-fun.github.io/blog/crawl_html_css', '#begin')"
   ]
  },
  {
   "cell_type": "markdown",
   "metadata": {},
   "source": [
    "### 4.5. CSS Selector 선택: 복합 예제"
   ]
  },
  {
   "cell_type": "code",
   "execution_count": 12,
   "metadata": {},
   "outputs": [
    {
     "data": {
      "text/plain": [
       "['(왕초보) - 클래스 소개',\n",
       " '(왕초보) - 블로그 개발 필요한 준비물 준비하기',\n",
       " '(왕초보) - Github pages 설정해서 블로그 첫 페이지 만들어보기',\n",
       " '(왕초보) - 초간단 페이지 만들어보기',\n",
       " '(왕초보) - 이쁘게 테마 적용해보기',\n",
       " '(왕초보) - 마크다운 기초 이해하고, 실제 나만의 블로그 페이지 만들기',\n",
       " '(왕초보) - 다양한 마크다운 기법 익혀보며, 나만의 블로그 페이지 꾸며보기']"
      ]
     },
     "execution_count": 12,
     "metadata": {},
     "output_type": "execute_result"
    }
   ],
   "source": [
    "crawling_template('https://davelee-fun.github.io/blog/crawl_html_css', 'ul#hobby_course_list li#start')"
   ]
  },
  {
   "cell_type": "markdown",
   "metadata": {},
   "source": [
    "### 실전: 네이버주식 사이트에서 인기 검색 종목 가져오기\n",
    "  - https://finance.naver.com/sise/\n",
    "\n",
    "> 실제 사이트는 수시로 웹페이지가 변경되어, 동일 css selector 가 안될 수도 있으니 <br>\n",
    "> 현 웹페이지를 확인 후에, 웹페이지 변경시 css selector 를 알맞게 변경한 후 실행하셔야 합니다."
   ]
  },
  {
   "cell_type": "code",
   "execution_count": 13,
   "metadata": {},
   "outputs": [
    {
     "data": {
      "text/plain": [
       "['삼성전자',\n",
       " '셀트리온',\n",
       " '카카오',\n",
       " 'SK하이닉스',\n",
       " '셀트리온헬스케어',\n",
       " '삼성전자우',\n",
       " 'KT&G',\n",
       " '씨젠',\n",
       " 'NAVER',\n",
       " '명신산업']"
      ]
     },
     "execution_count": 13,
     "metadata": {},
     "output_type": "execute_result"
    }
   ],
   "source": [
    "crawling_template('https://finance.naver.com/sise/', \"#popularItemList > li > a\")"
   ]
  },
  {
   "cell_type": "markdown",
   "metadata": {},
   "source": [
    "### 5. 웹페이지 주소와 함께 가져오기\n",
    "- 속성값을 item[속성이름] 으로 가져올 수 있음"
   ]
  },
  {
   "cell_type": "code",
   "execution_count": 1,
   "metadata": {},
   "outputs": [
    {
     "name": "stdout",
     "output_type": "stream",
     "text": [
      " 서울수서 등 행복주택 5269가구 모집 index.htm?page_name=esale_news_view&menu_key=34&okey=wdate&uid=358648&start=0&mode=&s_que=&field=\n",
      " 송파 위례 공공분양 신혼부부·다자녀 특공에 1만4천여명 몰려 index.htm?page_name=esale_news_view&menu_key=34&okey=wdate&uid=358629&start=0&mode=&s_que=&field=\n",
      " 청약 '줍줍' 인기 하늘을 찌른다…올해 경쟁률 작년의 2배 index.htm?page_name=esale_news_view&menu_key=34&okey=wdate&uid=358620&start=0&mode=&s_que=&field=\n",
      " '로또분양'이라는 위례신도시 공공분양, 사실은 '바가지'? index.htm?page_name=esale_news_view&menu_key=34&okey=wdate&uid=358616&start=0&mode=&s_que=&field=\n",
      " 하남 너마저…과천 이어 감일서도 '79점 통장' index.htm?page_name=esale_news_view&menu_key=34&okey=wdate&uid=358566&start=0&mode=&s_que=&field=\n",
      " 내달부터 세종시 4800가구 청약…국회 이전說에 들썩들썩 index.htm?page_name=esale_news_view&menu_key=34&okey=wdate&uid=358564&start=0&mode=&s_que=&field=\n",
      " 희망고문 '과천 로또'…4인가족 만점도 탈락 index.htm?page_name=esale_news_view&menu_key=34&okey=wdate&uid=358552&start=0&mode=&s_que=&field=\n",
      " 신기록 세우는 아파트 청약률…국민 절반 이상이 청약통장 가입 index.htm?page_name=esale_news_view&menu_key=34&okey=wdate&uid=358549&start=0&mode=&s_que=&field=\n",
      " 전매제한 위반하면 10년간 청약 못한다 index.htm?page_name=esale_news_view&menu_key=34&okey=wdate&uid=358533&start=0&mode=&s_que=&field=\n",
      " 더 거세진 '로또청약' 광풍…감일지구도 1순위 405대 1 index.htm?page_name=esale_news_view&menu_key=34&okey=wdate&uid=358530&start=0&mode=&s_que=&field=\n",
      " 로또청약 '과천 지정타' 3총사 특별공급에 통장 9만개 몰려 index.htm?page_name=esale_news_view&menu_key=34&okey=wdate&uid=358523&start=0&mode=&s_que=&field=\n",
      " 위례·과천·판교…최대 70% 대출되는 신혼희망타운 나온다 index.htm?page_name=esale_news_view&menu_key=34&okey=wdate&uid=358478&start=0&mode=&s_que=&field=\n",
      " '로또청약' 부추긴 HUG…분양가 심사도 졸속 index.htm?page_name=esale_news_view&menu_key=34&okey=wdate&uid=358471&start=0&mode=&s_que=&field=\n",
      " \"고가 분양 신혼특공 90% 이상은 2030…부모찬스 특공이냐\" index.htm?page_name=esale_news_view&menu_key=34&okey=wdate&uid=358463&start=0&mode=&s_que=&field=\n",
      " 40代청약, 30代에 밀릴판…\"젊다는게 벼슬인가\" 자조 index.htm?page_name=esale_news_view&menu_key=34&okey=wdate&uid=358448&start=0&mode=&s_que=&field=\n"
     ]
    }
   ],
   "source": [
    "import requests\n",
    "from bs4 import BeautifulSoup\n",
    "\n",
    "res = requests.get('http://www.drapt.com/e_sale/index.htm?page_name=esale_news&menu_key=34')\n",
    "soup = BeautifulSoup(res.content, 'html.parser')\n",
    "\n",
    "datas1 = soup.select('a.c0000000')\n",
    "\n",
    "for item in datas1:\n",
    "    print (item.get_text(), item['href'])"
   ]
  },
  {
   "cell_type": "markdown",
   "metadata": {},
   "source": [
    "### 문자열 다루기\n",
    "- 문자1 + 문자2 는 문자1문자2 와 같이 문자를 합칠 수 있음"
   ]
  },
  {
   "cell_type": "code",
   "execution_count": null,
   "metadata": {},
   "outputs": [],
   "source": [
    "import requests\n",
    "from bs4 import BeautifulSoup\n",
    "\n",
    "res = requests.get('http://www.drapt.com/e_sale/index.htm?page_name=esale_news&menu_key=34')\n",
    "soup = BeautifulSoup(res.content, 'html.parser')\n",
    "\n",
    "datas1 = soup.select('a.c0000000')\n",
    "\n",
    "for item in datas1:\n",
    "    print (item.get_text(), 'http://www.drapt.com/e_sale/' + item['href'])"
   ]
  },
  {
   "cell_type": "markdown",
   "metadata": {},
   "source": [
    "### 템플릿 코드2: crawling_template_with_href, 크롤링(타이틀, 웹주소)\n",
    "- 사용법\n",
    "  - crawling_template_with_href(웹주소, 선택한 css selector, 상세주소 앞에 붙을 주소)\n",
    "  - 상세주소 앞에 붙을 주소 는 필요 없다면, '' 으로 빈 데이터로 호출하면 됨"
   ]
  },
  {
   "cell_type": "code",
   "execution_count": 7,
   "metadata": {},
   "outputs": [],
   "source": [
    "import requests\n",
    "from bs4 import BeautifulSoup\n",
    "\n",
    "def crawling_template_with_href(url, css_selector, pre_url):\n",
    "    return_data = list()\n",
    "    res = requests.get(url)\n",
    "    soup = BeautifulSoup(res.content, 'html.parser')\n",
    "    datas1 = soup.select(css_selector)\n",
    "    for item in datas1:\n",
    "        return_data.append([item.get_text(), pre_url + item['href']])\n",
    "    return return_data"
   ]
  },
  {
   "cell_type": "code",
   "execution_count": 5,
   "metadata": {},
   "outputs": [
    {
     "data": {
      "text/plain": [
       "[[' 서울수서 등 행복주택 5269가구 모집',\n",
       "  'http://www.drapt.com/e_sale/index.htm?page_name=esale_news_view&menu_key=34&okey=wdate&uid=358648&start=0&mode=&s_que=&field='],\n",
       " [' 송파 위례 공공분양 신혼부부·다자녀 특공에 1만4천여명 몰려',\n",
       "  'http://www.drapt.com/e_sale/index.htm?page_name=esale_news_view&menu_key=34&okey=wdate&uid=358629&start=0&mode=&s_que=&field='],\n",
       " [\" 청약 '줍줍' 인기 하늘을 찌른다…올해 경쟁률 작년의 2배\",\n",
       "  'http://www.drapt.com/e_sale/index.htm?page_name=esale_news_view&menu_key=34&okey=wdate&uid=358620&start=0&mode=&s_que=&field='],\n",
       " [\" '로또분양'이라는 위례신도시 공공분양, 사실은 '바가지'?\",\n",
       "  'http://www.drapt.com/e_sale/index.htm?page_name=esale_news_view&menu_key=34&okey=wdate&uid=358616&start=0&mode=&s_que=&field='],\n",
       " [\" 하남 너마저…과천 이어 감일서도 '79점 통장'\",\n",
       "  'http://www.drapt.com/e_sale/index.htm?page_name=esale_news_view&menu_key=34&okey=wdate&uid=358566&start=0&mode=&s_que=&field='],\n",
       " [' 내달부터 세종시 4800가구 청약…국회 이전說에 들썩들썩',\n",
       "  'http://www.drapt.com/e_sale/index.htm?page_name=esale_news_view&menu_key=34&okey=wdate&uid=358564&start=0&mode=&s_que=&field='],\n",
       " [\" 희망고문 '과천 로또'…4인가족 만점도 탈락\",\n",
       "  'http://www.drapt.com/e_sale/index.htm?page_name=esale_news_view&menu_key=34&okey=wdate&uid=358552&start=0&mode=&s_que=&field='],\n",
       " [' 신기록 세우는 아파트 청약률…국민 절반 이상이 청약통장 가입',\n",
       "  'http://www.drapt.com/e_sale/index.htm?page_name=esale_news_view&menu_key=34&okey=wdate&uid=358549&start=0&mode=&s_que=&field='],\n",
       " [' 전매제한 위반하면 10년간 청약 못한다',\n",
       "  'http://www.drapt.com/e_sale/index.htm?page_name=esale_news_view&menu_key=34&okey=wdate&uid=358533&start=0&mode=&s_que=&field='],\n",
       " [\" 더 거세진 '로또청약' 광풍…감일지구도 1순위 405대 1\",\n",
       "  'http://www.drapt.com/e_sale/index.htm?page_name=esale_news_view&menu_key=34&okey=wdate&uid=358530&start=0&mode=&s_que=&field='],\n",
       " [\" 로또청약 '과천 지정타' 3총사 특별공급에 통장 9만개 몰려\",\n",
       "  'http://www.drapt.com/e_sale/index.htm?page_name=esale_news_view&menu_key=34&okey=wdate&uid=358523&start=0&mode=&s_que=&field='],\n",
       " [' 위례·과천·판교…최대 70% 대출되는 신혼희망타운 나온다',\n",
       "  'http://www.drapt.com/e_sale/index.htm?page_name=esale_news_view&menu_key=34&okey=wdate&uid=358478&start=0&mode=&s_que=&field='],\n",
       " [\" '로또청약' 부추긴 HUG…분양가 심사도 졸속\",\n",
       "  'http://www.drapt.com/e_sale/index.htm?page_name=esale_news_view&menu_key=34&okey=wdate&uid=358471&start=0&mode=&s_que=&field='],\n",
       " [' \"고가 분양 신혼특공 90% 이상은 2030…부모찬스 특공이냐\"',\n",
       "  'http://www.drapt.com/e_sale/index.htm?page_name=esale_news_view&menu_key=34&okey=wdate&uid=358463&start=0&mode=&s_que=&field='],\n",
       " [' 40代청약, 30代에 밀릴판…\"젊다는게 벼슬인가\" 자조',\n",
       "  'http://www.drapt.com/e_sale/index.htm?page_name=esale_news_view&menu_key=34&okey=wdate&uid=358448&start=0&mode=&s_que=&field=']]"
      ]
     },
     "execution_count": 5,
     "metadata": {},
     "output_type": "execute_result"
    }
   ],
   "source": [
    "crawling_template_with_href('http://www.drapt.com/e_sale/index.htm?page_name=esale_news&menu_key=34', 'a.c0000000', 'http://www.drapt.com/e_sale/')"
   ]
  },
  {
   "cell_type": "markdown",
   "metadata": {},
   "source": [
    "### 리스트 변수 안에 리스트 값\n",
    "- 리스트 변수 안에는 또다른 리스트 값이 들어갈 수 있음"
   ]
  },
  {
   "cell_type": "code",
   "execution_count": null,
   "metadata": {},
   "outputs": [],
   "source": [
    "datas1 = [[1, 2], [3, 4]]"
   ]
  },
  {
   "cell_type": "code",
   "execution_count": null,
   "metadata": {},
   "outputs": [],
   "source": [
    "datas1[0]"
   ]
  },
  {
   "cell_type": "code",
   "execution_count": null,
   "metadata": {},
   "outputs": [],
   "source": [
    "datas1[0][0]"
   ]
  },
  {
   "cell_type": "code",
   "execution_count": 8,
   "metadata": {},
   "outputs": [
    {
     "name": "stdout",
     "output_type": "stream",
     "text": [
      " 서울수서 등 행복주택 5269가구 모집\n",
      "http://www.drapt.com/e_sale/index.htm?page_name=esale_news_view&menu_key=34&okey=wdate&uid=358648&start=0&mode=&s_que=&field=\n"
     ]
    }
   ],
   "source": [
    "datas1 = crawling_template_with_href('http://www.drapt.com/e_sale/index.htm?page_name=esale_news&menu_key=34', 'a.c0000000', 'http://www.drapt.com/e_sale/')\n",
    "print (datas1[0][0])\n",
    "print (datas1[0][1])"
   ]
  },
  {
   "cell_type": "markdown",
   "metadata": {},
   "source": [
    "### 6. 신규 내용/기사가 있을 때만 가져오기\n",
    "- 리턴값이 빈 리스트이면, 오늘 날짜에 해당하는 기사가 없는 것으로 인지하면 됨"
   ]
  },
  {
   "cell_type": "markdown",
   "metadata": {},
   "source": [
    "### pickle \n",
    "- 데이터 구조나 객체등 어떤 데이터도 파일로 저장하고, 읽을 수 있음\n",
    "- 리스트를 저장하면, 해당 파일을 읽어서, 리스트 변수에 값을 넣을 수 있음"
   ]
  },
  {
   "cell_type": "code",
   "execution_count": 15,
   "metadata": {},
   "outputs": [],
   "source": [
    "import pickle"
   ]
  },
  {
   "cell_type": "markdown",
   "metadata": {},
   "source": [
    "#### pickle 사용법1: 파일에 저장된 리스트 데이터 읽어서, datas1 변수에 넣기\n",
    "- 파일 위치에는 전체 디렉토리와 해당 파일명까지 써주거나, \n",
    "- 파일명만 써주면, 주피터 노트북이 실행되는 해당 폴더 안에 있는 파일을 의미함\n",
    "\n",
    "```python\n",
    "with open(파일위치, 'rb') as pickle_filename:\n",
    "    datas1 = pickle.load(pickle_filename)\n",
    "```"
   ]
  },
  {
   "cell_type": "markdown",
   "metadata": {},
   "source": [
    "#### pickle 사용법2: 파일에 리스트 변수의 데이터를 저장하기\n",
    "\n",
    "```python\n",
    "with open(파일위치, 'wb') as pickle_filename:\n",
    "    pickle.dump(datas1, pickle_filename)\n",
    "```"
   ]
  },
  {
   "cell_type": "markdown",
   "metadata": {},
   "source": [
    "### 템플릿 코드3: crawling_template_with_href_new, 크롤링(웹주소, css selector, pickle파일명)\n",
    "- 사용법\n",
    "  - crawling_template_with_href_new(웹주소, 타이틀을 가져올 css selector, pickle 파일로 저장할 파일명)"
   ]
  },
  {
   "cell_type": "markdown",
   "metadata": {},
   "source": [
    "### 필요 문법: try except\n",
    "- 최초 파일 데이터 로드시, 해당 파일이 없어서 에러가 남\n",
    "- 에러가 나면, 프로그램은 멈춤\n",
    "- 에러가 날 경우, data1을 빈 리스트로 만들어주게끔 하기 위해 try except 문법을 사용\n",
    "\n",
    "```python\n",
    "try:\n",
    "    실행할 코드\n",
    "except:\n",
    "    에러가 날 경우, 실행할 코드\n",
    "```\n",
    "\n",
    "- 예\n",
    "```python\n",
    "    try:\n",
    "        with open(pickle_name, 'rb') as pickle_filename:\n",
    "            datas1 = pickle.load(pickle_filename)\n",
    "    except:\n",
    "        datas1 = list()\n",
    "```"
   ]
  },
  {
   "cell_type": "code",
   "execution_count": 25,
   "metadata": {},
   "outputs": [],
   "source": [
    "import requests\n",
    "from bs4 import BeautifulSoup\n",
    "import pickle\n",
    "\n",
    "def crawling_template_with_href_new(url, css_selector, pickle_name):\n",
    "    return_data, all_data = list(), list()\n",
    "    res = requests.get(url)\n",
    "    soup = BeautifulSoup(res.content, 'html.parser')\n",
    "\n",
    "    link_titles = soup.select(css_selector)\n",
    "\n",
    "    for num, link_title in enumerate(link_titles):\n",
    "        all_data.append([link_title.get_text(), link_title['href']])\n",
    "\n",
    "    try:\n",
    "        with open(pickle_name, 'rb') as file1:\n",
    "            datas1 = pickle.load(file1)\n",
    "    except:\n",
    "        datas1 = list()\n",
    "    \n",
    "    for item in all_data:\n",
    "        finding = False\n",
    "        for item2 in datas1:\n",
    "            if item2[0] == item[0]:\n",
    "                finding = True\n",
    "                break\n",
    "        if finding == False:\n",
    "            return_data.append(item)\n",
    "    \n",
    "    with open(pickle_name, 'wb') as file1:\n",
    "        pickle.dump(all_data, file1)\n",
    "    \n",
    "    return return_data"
   ]
  },
  {
   "cell_type": "code",
   "execution_count": 24,
   "metadata": {},
   "outputs": [],
   "source": [
    "datas1 = crawling_template_with_href_new('http://www.drapt.com/e_sale/index.htm?page_name=esale_news&menu_key=34', 'a.c0000000', 'drapt.txt')"
   ]
  },
  {
   "cell_type": "code",
   "execution_count": 26,
   "metadata": {},
   "outputs": [
    {
     "data": {
      "text/plain": [
       "[[' 서울수서 등 행복주택 5269가구 모집',\n",
       "  'index.htm?page_name=esale_news_view&menu_key=34&okey=wdate&uid=358648&start=0&mode=&s_que=&field='],\n",
       " [' 송파 위례 공공분양 신혼부부·다자녀 특공에 1만4천여명 몰려',\n",
       "  'index.htm?page_name=esale_news_view&menu_key=34&okey=wdate&uid=358629&start=0&mode=&s_que=&field='],\n",
       " [\" 청약 '줍줍' 인기 하늘을 찌른다…올해 경쟁률 작년의 2배\",\n",
       "  'index.htm?page_name=esale_news_view&menu_key=34&okey=wdate&uid=358620&start=0&mode=&s_que=&field='],\n",
       " [\" '로또분양'이라는 위례신도시 공공분양, 사실은 '바가지'?\",\n",
       "  'index.htm?page_name=esale_news_view&menu_key=34&okey=wdate&uid=358616&start=0&mode=&s_que=&field=']]"
      ]
     },
     "execution_count": 26,
     "metadata": {},
     "output_type": "execute_result"
    }
   ],
   "source": [
    "datas1"
   ]
  },
  {
   "cell_type": "code",
   "execution_count": 20,
   "metadata": {},
   "outputs": [],
   "source": [
    "datas1 = datas1[2:]\n",
    "with open('drapt.txt', 'wb') as file1:\n",
    "    pickle.dump(datas1, file1)"
   ]
  },
  {
   "cell_type": "markdown",
   "metadata": {},
   "source": [
    "### 7. 가져온 데이터 깔끔하게 정리하기\n",
    "- 문자열 변수는 \n",
    "  - strip() 와 split() 함수를 사용할 수 있음"
   ]
  },
  {
   "cell_type": "markdown",
   "metadata": {},
   "source": [
    "### strip() 함수\n",
    "- 문자열 앞뒤의 공백(디폴트) 또는 특별한 문자 지우기\n",
    "  - 실제 현실 세계에 있는 문자열 데이터를 정리하다보면, 문자열 앞뒤에 공백 또는 기호가 있는 경우가 많음\n",
    "  - lstrip() 함수는 문자열 앞에 있는 데이터만 처리 (문자열 왼쪽)\n",
    "  - rstrip() 함수는 문자열 뒤에 있는 데이터만 처리 (문자열 오른쪽)"
   ]
  },
  {
   "cell_type": "code",
   "execution_count": null,
   "metadata": {},
   "outputs": [],
   "source": [
    "data1 = '   안녕   '\n",
    "data1 = data1.strip()\n",
    "data1"
   ]
  },
  {
   "cell_type": "code",
   "execution_count": null,
   "metadata": {},
   "outputs": [],
   "source": [
    "data1 = '####안녕####'\n",
    "data1 = data1.strip('#')\n",
    "data1"
   ]
  },
  {
   "cell_type": "markdown",
   "metadata": {},
   "source": [
    "### split() 함수\n",
    "- 문자열 내부에 있는 공백(디폴트) 또는 특별한 문자 를 구분해서, 리스트 아이템으로 만듬"
   ]
  },
  {
   "cell_type": "code",
   "execution_count": null,
   "metadata": {},
   "outputs": [],
   "source": [
    "data1 = '안녕1 안녕2 안녕3'\n",
    "datas1 = data1.split()\n",
    "datas1"
   ]
  },
  {
   "cell_type": "code",
   "execution_count": null,
   "metadata": {},
   "outputs": [],
   "source": [
    "data1 = '안녕1 안녕2 안녕3'\n",
    "data1.split('1')"
   ]
  },
  {
   "cell_type": "code",
   "execution_count": null,
   "metadata": {},
   "outputs": [],
   "source": [
    "datas1[1]"
   ]
  },
  {
   "cell_type": "markdown",
   "metadata": {},
   "source": [
    "### 실전 예제"
   ]
  },
  {
   "cell_type": "code",
   "execution_count": 2,
   "metadata": {},
   "outputs": [],
   "source": [
    "datas1 = crawling_template('https://davelee-fun.github.io/blog/crawl_html_css', 'ul#dev_course_list li.course')"
   ]
  },
  {
   "cell_type": "code",
   "execution_count": 3,
   "metadata": {},
   "outputs": [
    {
     "data": {
      "text/plain": [
       "['(초급) - 강사가 실제 사용하는 자동 프로그램 소개 [2]',\n",
       " '(초급) - 필요한 프로그램 설치 시연 [5]',\n",
       " '(초급) - 데이터를 엑셀 파일로 만들기 [9]',\n",
       " '(초급) - \\xa0\\xa0\\xa0\\xa0엑셀 파일 이쁘게! 이쁘게! [8]',\n",
       " '(초급) - \\xa0\\xa0\\xa0\\xa0나대신 주기적으로 파이썬 프로그램 실행하기 [7]',\n",
       " '(초급) - 파이썬으로 슬랙(slack) 메신저에 글쓰기 [40]',\n",
       " '(초급) - 웹사이트 변경사항 주기적으로 체크해서, 메신저로 알람주기 [12]',\n",
       " '(초급) - 네이버 API 사용해서, 블로그에 글쓰기 [42]',\n",
       " '(중급) - 자동으로 쿠팡파트너스 API 로 가져온 상품 정보, 네이버 블로그/트위터에 홍보하기 [412]']"
      ]
     },
     "execution_count": 3,
     "metadata": {},
     "output_type": "execute_result"
    }
   ],
   "source": [
    "datas1"
   ]
  },
  {
   "cell_type": "code",
   "execution_count": 4,
   "metadata": {},
   "outputs": [
    {
     "name": "stdout",
     "output_type": "stream",
     "text": [
      " 강사가 실제 사용하는 자동 프로그램 소개 [2]\n",
      " 필요한 프로그램 설치 시연 [5]\n",
      " 데이터를 엑셀 파일로 만들기 [9]\n",
      "     엑셀 파일 이쁘게! 이쁘게! [8]\n",
      "     나대신 주기적으로 파이썬 프로그램 실행하기 [7]\n",
      " 파이썬으로 슬랙(slack) 메신저에 글쓰기 [40]\n",
      " 웹사이트 변경사항 주기적으로 체크해서, 메신저로 알람주기 [12]\n",
      " 네이버 API 사용해서, 블로그에 글쓰기 [42]\n",
      " 자동으로 쿠팡파트너스 API 로 가져온 상품 정보, 네이버 블로그/트위터에 홍보하기 [412]\n"
     ]
    }
   ],
   "source": [
    "for item in datas1:\n",
    "    print (item.split('-')[1])"
   ]
  },
  {
   "cell_type": "code",
   "execution_count": 5,
   "metadata": {},
   "outputs": [
    {
     "name": "stdout",
     "output_type": "stream",
     "text": [
      "강사가 실제 사용하는 자동 프로그램 소개\n",
      "필요한 프로그램 설치 시연\n",
      "데이터를 엑셀 파일로 만들기\n",
      "엑셀 파일 이쁘게! 이쁘게!\n",
      "나대신 주기적으로 파이썬 프로그램 실행하기\n",
      "파이썬으로 슬랙(slack) 메신저에 글쓰기\n",
      "웹사이트 변경사항 주기적으로 체크해서, 메신저로 알람주기\n",
      "네이버 API 사용해서, 블로그에 글쓰기\n",
      "자동으로 쿠팡파트너스 API 로 가져온 상품 정보, 네이버 블로그/트위터에 홍보하기\n"
     ]
    }
   ],
   "source": [
    "for item in datas1:\n",
    "    print (item.split('-')[-1].split('[')[0].strip())"
   ]
  },
  {
   "cell_type": "code",
   "execution_count": 6,
   "metadata": {},
   "outputs": [],
   "source": [
    "data1 = '(초급) - (1단계) - 강사가 실제 사용하는 프로그램 이해하기 [2]'"
   ]
  },
  {
   "cell_type": "code",
   "execution_count": 7,
   "metadata": {},
   "outputs": [
    {
     "data": {
      "text/plain": [
       "['(초급) ', ' (1단계) ', ' 강사가 실제 사용하는 프로그램 이해하기 [2]']"
      ]
     },
     "execution_count": 7,
     "metadata": {},
     "output_type": "execute_result"
    }
   ],
   "source": [
    "data1.split('-')"
   ]
  },
  {
   "cell_type": "code",
   "execution_count": 9,
   "metadata": {},
   "outputs": [
    {
     "data": {
      "text/plain": [
       "' 강사가 실제 사용하는 프로그램 이해하기 [2]'"
      ]
     },
     "execution_count": 9,
     "metadata": {},
     "output_type": "execute_result"
    }
   ],
   "source": [
    "data1.split('-')[-1]"
   ]
  },
  {
   "cell_type": "markdown",
   "metadata": {},
   "source": [
    "### 8. [중급] 동적 웹페이지 가져오기\n",
    "- 다음 뉴스 댓글 가져오기\n",
    "  - https://news.v.daum.net/v/20200508141152965\n",
    "  \n",
    "> 프로그램 구현에는 오랜 기간이 걸립니다. <br>\n",
    "> 필요한 부분에만 집중하세요! 굳이 어려운 기술을 쓰실 필요 없습니다. <br>\n"
   ]
  },
  {
   "cell_type": "markdown",
   "metadata": {},
   "source": [
    "### Selenium\n",
    "- Selenium: 웹을 테스트하기 위한 프레임워크\n",
    "- 사전 준비\n",
    "  1. Selenium 인스톨: pip install selenium\n",
    "  2. 웹드라이버 인스톨: 웹 테스트 자동화를 위해 제공되는 툴(각 browser및 os 별로 존재)\n",
    "     - https://sites.google.com/a/chromium.org/chromedriver/ (Chrome 브라우저용)\n",
    "  3. 압축푼 후, 다음 폴더로 이동\n",
    "     - 윈도우: C:/dev_python/Webdriver/chromedriver.exe\n",
    "     - 맥: /usr/local/Cellar/chromedriver/chromedriver\n",
    "\n",
    "> 폴더를 프로그램에서 정확히 가리키지 못하면, 실행이 안됩니다. <br>\n",
    "> chrome://version 으로 브라우저에서 확인 후, 버전에 맞게 드라이버를 설치해도 됨 <br>\n",
    "> 크롬 브라우저는 수시로 업데이트되므로, 드라이버도 이상 동작시 수시로 다운로드/설치 필요 "
   ]
  },
  {
   "cell_type": "code",
   "execution_count": null,
   "metadata": {},
   "outputs": [],
   "source": [
    "!pip install selenium"
   ]
  },
  {
   "cell_type": "markdown",
   "metadata": {},
   "source": [
    "### selenium 라이브러리 사용하기\n",
    "- 필요한 기능만 사용하는 경우가 많음"
   ]
  },
  {
   "cell_type": "code",
   "execution_count": 2,
   "metadata": {},
   "outputs": [
    {
     "ename": "ModuleNotFoundError",
     "evalue": "No module named 'selenium'",
     "output_type": "error",
     "traceback": [
      "\u001b[1;31m---------------------------------------------------------------------------\u001b[0m",
      "\u001b[1;31mModuleNotFoundError\u001b[0m                       Traceback (most recent call last)",
      "\u001b[1;32m<ipython-input-2-93833772b63f>\u001b[0m in \u001b[0;36m<module>\u001b[1;34m\u001b[0m\n\u001b[1;32m----> 1\u001b[1;33m \u001b[1;32mfrom\u001b[0m \u001b[0mselenium\u001b[0m \u001b[1;32mimport\u001b[0m \u001b[0mwebdriver\u001b[0m\u001b[1;33m\u001b[0m\u001b[1;33m\u001b[0m\u001b[0m\n\u001b[0m",
      "\u001b[1;31mModuleNotFoundError\u001b[0m: No module named 'selenium'"
     ]
    }
   ],
   "source": [
    "from selenium import webdriver"
   ]
  },
  {
   "cell_type": "markdown",
   "metadata": {},
   "source": [
    "### 드라이버 로드하기 \n",
    "- driver_location에 자신의 환경에 맞게 위치를 정확히 써주세요\n",
    "- 맥 환경\n",
    "```python\n",
    "driver_location = '/usr/local/Cellar/chromedriver/chromedriver'\n",
    "```\n",
    "- 윈도우 환경\n",
    "```python\n",
    "driver_location = 'C:/dev_python/Webdriver/chromedriver.exe'\n",
    "```\n",
    "\n",
    "> 환경에 따라 매우 다르므로, 꼭 확인부탁드립니다. <br>\n",
    "> 안됩니다. 라고 하셔도 컴퓨터와 함께 저에게 오지 않는 이상, 해결해드리기가 어렵습니다."
   ]
  },
  {
   "cell_type": "code",
   "execution_count": null,
   "metadata": {},
   "outputs": [],
   "source": [
    "driver_location = '/usr/local/Cellar/chromedriver/chromedriver'\n",
    "driver = webdriver.Chrome(driver_location)"
   ]
  },
  {
   "cell_type": "markdown",
   "metadata": {},
   "source": [
    "#### 맥환경에서 class101_autopython 폴더에 chromedriver 드라이버를 설치하는 경우"
   ]
  },
  {
   "cell_type": "code",
   "execution_count": null,
   "metadata": {},
   "outputs": [],
   "source": [
    "driver_location = './chromedriver'\n",
    "driver = webdriver.Chrome(driver_location)"
   ]
  },
  {
   "cell_type": "markdown",
   "metadata": {},
   "source": [
    "### 웹페이지 가져오기"
   ]
  },
  {
   "cell_type": "code",
   "execution_count": null,
   "metadata": {},
   "outputs": [],
   "source": [
    "driver.get(\"https://davelee-fun.github.io/blog/crawl_test_css\")"
   ]
  },
  {
   "cell_type": "markdown",
   "metadata": {},
   "source": [
    "### 웹페이지 데이터 선택하기\n",
    "- driver.find_elements_by_css_selector(선택한 css selector) 함수로 css selector로 데이터 선택 가능\n",
    "- 리턴값은 리스트"
   ]
  },
  {
   "cell_type": "code",
   "execution_count": null,
   "metadata": {},
   "outputs": [],
   "source": [
    "titles = driver.find_elements_by_css_selector('#start > a')"
   ]
  },
  {
   "cell_type": "markdown",
   "metadata": {},
   "source": [
    "### 아이템은 item.text 를 통해 실제 데이터를 가져올 수 있음"
   ]
  },
  {
   "cell_type": "code",
   "execution_count": null,
   "metadata": {},
   "outputs": [],
   "source": [
    "for item in titles:\n",
    "    print (item.text)"
   ]
  },
  {
   "cell_type": "markdown",
   "metadata": {},
   "source": [
    "### 종료 코드를 꼭 넣어주세요\n",
    "- 그렇지 않으면, 실행할 때마다 크롬 브라우저가 컴퓨터에 하나씩 추가로 실행됩니다."
   ]
  },
  {
   "cell_type": "code",
   "execution_count": null,
   "metadata": {},
   "outputs": [],
   "source": [
    "driver.quit()"
   ]
  },
  {
   "cell_type": "markdown",
   "metadata": {},
   "source": [
    "### 템플릿 코드4: crawling_template_with_selenium, 크롤링(selenium 위치, 웹주소, css selector)\n",
    "- 사용법\n",
    "  - crawling_template_with_selenium(selenium 위치, 웹주소, 선택한 css selector)"
   ]
  },
  {
   "cell_type": "code",
   "execution_count": 1,
   "metadata": {},
   "outputs": [
    {
     "ename": "ModuleNotFoundError",
     "evalue": "No module named 'selenium'",
     "output_type": "error",
     "traceback": [
      "\u001b[1;31m---------------------------------------------------------------------------\u001b[0m",
      "\u001b[1;31mModuleNotFoundError\u001b[0m                       Traceback (most recent call last)",
      "\u001b[1;32m<ipython-input-1-948bf75e4354>\u001b[0m in \u001b[0;36m<module>\u001b[1;34m\u001b[0m\n\u001b[1;32m----> 1\u001b[1;33m \u001b[1;32mfrom\u001b[0m \u001b[0mselenium\u001b[0m \u001b[1;32mimport\u001b[0m \u001b[0mwebdriver\u001b[0m\u001b[1;33m\u001b[0m\u001b[1;33m\u001b[0m\u001b[0m\n\u001b[0m\u001b[0;32m      2\u001b[0m \u001b[1;32mimport\u001b[0m \u001b[0mtime\u001b[0m\u001b[1;33m\u001b[0m\u001b[1;33m\u001b[0m\u001b[0m\n\u001b[0;32m      3\u001b[0m \u001b[1;33m\u001b[0m\u001b[0m\n\u001b[0;32m      4\u001b[0m \u001b[1;32mdef\u001b[0m \u001b[0mcrawling_template_with_selenium\u001b[0m\u001b[1;33m(\u001b[0m\u001b[0mdriver_location\u001b[0m\u001b[1;33m,\u001b[0m \u001b[0murl\u001b[0m\u001b[1;33m,\u001b[0m \u001b[0mcss_selector\u001b[0m\u001b[1;33m)\u001b[0m\u001b[1;33m:\u001b[0m\u001b[1;33m\u001b[0m\u001b[1;33m\u001b[0m\u001b[0m\n\u001b[0;32m      5\u001b[0m     \u001b[0mreturn_data\u001b[0m \u001b[1;33m=\u001b[0m \u001b[0mlist\u001b[0m\u001b[1;33m(\u001b[0m\u001b[1;33m)\u001b[0m\u001b[1;33m\u001b[0m\u001b[1;33m\u001b[0m\u001b[0m\n",
      "\u001b[1;31mModuleNotFoundError\u001b[0m: No module named 'selenium'"
     ]
    }
   ],
   "source": [
    "from selenium import webdriver\n",
    "import time \n",
    "\n",
    "def crawling_template_with_selenium(driver_location, url, css_selector):\n",
    "    return_data = list()\n",
    "    driver = webdriver.Chrome(driver_location)\n",
    "\n",
    "    driver.get(url)\n",
    "    time.sleep(3)\n",
    "    \n",
    "    titles = driver.find_elements_by_css_selector(css_selector)\n",
    "    for item in titles:\n",
    "        return_data.append(item.text)\n",
    "    driver.quit()\n",
    "    return return_data"
   ]
  },
  {
   "cell_type": "code",
   "execution_count": null,
   "metadata": {},
   "outputs": [],
   "source": [
    "crawling_template_with_selenium('./chromedriver', \"https://davelee-fun.github.io/blog/crawl_html_css\", '#start > a')"
   ]
  },
  {
   "cell_type": "markdown",
   "metadata": {},
   "source": [
    "### 동적 페이지 크롤링 예"
   ]
  },
  {
   "cell_type": "code",
   "execution_count": null,
   "metadata": {},
   "outputs": [],
   "source": [
    "crawling_template('https://news.v.daum.net/v/20200508141152965', 'ul.list_comment > li > div > p')"
   ]
  },
  {
   "cell_type": "code",
   "execution_count": null,
   "metadata": {},
   "outputs": [],
   "source": [
    "crawling_template_with_selenium('./chromedriver', 'https://news.v.daum.net/v/20200508141152965', 'ul.list_comment > li > div > p')"
   ]
  },
  {
   "cell_type": "markdown",
   "metadata": {},
   "source": [
    "### 9. 참고 자료\n",
    "\n",
    "- 각 사이트별 특별한 코드가 필요한 예\n",
    "- **일정 규모 이상의 프로그램 필요하며, 기능을 구현해도, 수시로 관련 기술을 막는 경우가 많아서, 계속 수정 필요함**\n",
    "- 따라서, 다음 코드를 참고로만 이해하면 좋을 듯함\n",
    "- **꼭 필요하다면, 1:1 코칭을 통해, 가능한 경우 확인해드리겠습니다**"
   ]
  },
  {
   "cell_type": "markdown",
   "metadata": {},
   "source": [
    "### 다음 뉴스 댓글 가져오기\n",
    "- 동적으로 웹페이지 정보를 보여주는 사이트의 경우, 특정 버튼을 사용자가 직접 눌러야 하는 경우가 있음\n",
    "- 이 경우도 가능은 하지만, 각 사이트별 별도 코드가 필요함"
   ]
  },
  {
   "cell_type": "markdown",
   "metadata": {},
   "source": [
    "### 이해가 필요한 문법과 라이브러리\n",
    "\n",
    "- time.sleep(초) : 일정 시간동안 실행을 하지 않고 기다릴 수 있음\n",
    "- 예: 5초동안 기다리기  \n",
    "\n",
    "```python \n",
    "import time\n",
    "\n",
    "time.sleep(5)\n",
    "```\n",
    "\n",
    "- 반복문은 for 외에 while 도 있습니다.\n",
    "- 조건문이 만족될 때까지만 반복\n",
    "\n",
    "```python\n",
    "while 조건문:\n",
    "    실행코드\n",
    "```"
   ]
  },
  {
   "cell_type": "markdown",
   "metadata": {},
   "source": [
    "#### 2020.10.06 업데이트\n",
    "  - 최근, 다음 사이트에서 이제부터는 댓글 더보기 버튼을 한번만 누를 수 있고, 전체 댓글을 볼 수 있는 메뉴 자체는 삭제하였습니다. \n",
    "    - 아무래도 많은 분들께서 크롤링 테스트를 하다보니, 댓글 기능을 제한한 듯 합니다.\n",
    "  - 더보기 버튼 태그도 일부 변경하여, 기존 코드로는 크롤링이 안되도록 변경하였습니다.\n",
    "  - 다만, 더보기 버튼을 한번 누르고 댓글을 가져오는 기능은 가능하므로, 동적 크롤링 기술이 정상동작함은 기존과 같이 변경된 코드로 확인은 가능합니다.\n",
    "  - **최대 댓글 20개까지 가져올 수 있고** (즉, 한번의 더보기 버튼 제공 및 누르기 가능함), 이후 댓글은 다음 사이트 자체에서도 제공하지 않습니다.\n",
    "  - 코드 변경 사항: 태그가 'div.alex_more > a' 에서 'div.alex_more > button' 으로 변경되었습니다.\n",
    "  - 단 "
   ]
  },
  {
   "cell_type": "code",
   "execution_count": null,
   "metadata": {},
   "outputs": [],
   "source": [
    "from selenium import webdriver\n",
    "from selenium.webdriver.common.by import By\n",
    "from selenium.webdriver.support.ui import WebDriverWait\n",
    "from selenium.webdriver.support import expected_conditions as EC\n",
    "import time\n",
    "\n",
    "driver = webdriver.Chrome('./chromedriver')\n",
    "driver.get('https://news.v.daum.net/v/20200508141152965')\n",
    "\n",
    "loop = True\n",
    "while loop:\n",
    "    try:\n",
    "        # WebDriverWait(driver, 최대 기다리는 시간).until(EC.presence_of_element_located((By.CSS_SELECTOR, CSS Selector 태그)))\n",
    "        button = WebDriverWait(driver, 10).until(EC.presence_of_element_located((By.CSS_SELECTOR, \"div.alex_more > button\")))\n",
    "        button.click()\n",
    "        time.sleep(1)\n",
    "    except:\n",
    "        loop = False    \n",
    "\n",
    "datas1 = driver.find_elements_by_css_selector('ul.list_comment > li > div > p')\n",
    "for item in datas1:\n",
    "    print ('댓글]', item.text)\n",
    "\n",
    "driver.quit()"
   ]
  },
  {
   "cell_type": "markdown",
   "metadata": {},
   "source": [
    "### 예: 로그인 후, 데이터 확인하기\n",
    "- 참고로만 봐주세요! 계속 사이트가 변경됩니다."
   ]
  },
  {
   "cell_type": "code",
   "execution_count": null,
   "metadata": {},
   "outputs": [],
   "source": [
    "my_id = '아이디'\n",
    "my_pw = '패스워드'"
   ]
  },
  {
   "cell_type": "code",
   "execution_count": null,
   "metadata": {},
   "outputs": [],
   "source": [
    "from selenium import webdriver\n",
    "from selenium.webdriver.common.by import By\n",
    "from selenium.webdriver.support.ui import WebDriverWait\n",
    "from selenium.webdriver.support import expected_conditions as EC\n",
    "import time\n",
    "\n",
    "driver = webdriver.Chrome('./chromedriver')\n",
    "driver.get('https://www.hanbit.co.kr/member/login.html')\n",
    "\n",
    "\n",
    "\n",
    "# 다음 세 줄이 기본 패턴 코드: ID 넣기\n",
    "# WebDriverWait(driver, 최대 기다리는 시간).until(EC.presence_of_element_located((By.CSS_SELECTOR, CSS Selector 태그)))\n",
    "login_id = WebDriverWait(driver, 3).until(EC.presence_of_element_located((By.CSS_SELECTOR, \"#m_id\")))\n",
    "login_id.clear() # 입력창의 경우, 사전에 작성되어 있는 텍스트를 삭제\n",
    "login_id.send_keys(my_id) # 내가 넣고자 하는 텍스트 삽입\n",
    "\n",
    "# 다음 세 줄이 기본 패턴 코드: 패스워드 넣기\n",
    "login_pw = WebDriverWait(driver, 3).until(EC.presence_of_element_located((By.CSS_SELECTOR, \"#m_passwd\")))\n",
    "login_pw.clear()\n",
    "login_pw.send_keys(my_pw)\n",
    "\n",
    "\n",
    "# 버튼 클릭시는 다음 두 줄: 로그인 버튼 누르기\n",
    "button = WebDriverWait(driver, 3).until(EC.presence_of_element_located((By.CSS_SELECTOR, \"#login_btn\")))\n",
    "button.click()\n",
    "time.sleep(1) # 로그인 후의 페이지 로딩을 위해, 1초정도 기다리면 좋음\n",
    "\n",
    "driver.get('https://www.hanbit.co.kr/myhanbit/myhanbit.html')\n",
    "datas1 = driver.find_elements_by_css_selector('div.sm_mymileage > dl.mileage_section1 dd')\n",
    "for item in datas1:\n",
    "    print (item.text)\n",
    "\n",
    "driver.quit()"
   ]
  },
  {
   "cell_type": "code",
   "execution_count": null,
   "metadata": {},
   "outputs": [],
   "source": []
  }
 ],
 "metadata": {
  "kernelspec": {
   "display_name": "Python 3",
   "language": "python",
   "name": "python3"
  },
  "language_info": {
   "codemirror_mode": {
    "name": "ipython",
    "version": 3
   },
   "file_extension": ".py",
   "mimetype": "text/x-python",
   "name": "python",
   "nbconvert_exporter": "python",
   "pygments_lexer": "ipython3",
   "version": "3.8.5"
  }
 },
 "nbformat": 4,
 "nbformat_minor": 4
}
