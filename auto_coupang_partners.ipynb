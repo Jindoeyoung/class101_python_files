{
 "cells": [
  {
   "cell_type": "markdown",
   "metadata": {},
   "source": [
    "## 업무 자동화를 위한 쿠팡 파트너스 API 활용하기"
   ]
  },
  {
   "cell_type": "markdown",
   "metadata": {},
   "source": [
    "### 0. 쿠팡파트너스 사전 준비\n",
    "#### 0.1. API 이해하기\n",
    "> 이미 slack API 에서 설명드렸으므로 간략하게\n",
    "\n",
    "- 웹상에서 데이터를 주고 받는 방법: HTTP 프로토콜\n",
    "- HTTP 프로토콜을 사용해서, 데이터를 요청하는 방법\n",
    "  - GET, POST 등\n",
    "  - requests 라이브러리를 사용해서, 데이터 요청 가능\n",
    "    - GET: requests.get()\n",
    "    - POST: reqeusts.post()\n",
    "    \n",
    "<center><img src=\"https://www.fun-coding.org/00_Images/web_http.png\" height=350 /></center>"
   ]
  },
  {
   "cell_type": "markdown",
   "metadata": {},
   "source": [
    "#### 0.1. 회원가입\n",
    "#### 0.2. API 발급\n",
    "<img src=\"https://www.fun-coding.org/00_Images/coupang_api_apply.png\">\n",
    "<img src=\"https://www.fun-coding.org/00_Images/coupang_api.png\">"
   ]
  },
  {
   "cell_type": "markdown",
   "metadata": {},
   "source": [
    "<div class=\"alert alert-block\" style=\"border: 1px solid #FFB300;background-color:#F9FBE7;\">\n",
    "<font size=\"4em\" style=\"font-weight:bold;color:#3f8dbf;\">API 생성 버튼이 안보이실 경우</font><br>\n",
    "쿠팡 파트너스 API 신청 방법이 매우 어렵게 바꼈습니다. <br>\n",
    "API 생성버튼이 보이려면 쿠팡파트너스 링크로 구매가 한건 이상 이루어져야 하는것으로 바꼈다고 합니다. <br>\n",
    "수시로 바뀌는 부분이라 영상으로는 한계가 있어보이고, 수업 노트/주피터 노트북 상으로 바뀔 때마다 업데이트하겠습니다.! <br>\n",
    "\n",
    "간략히 설명드리면 <br>\n",
    "\n",
    "1. 쿠팡 파트너스에서 내가 원하는 상품의 쿠팡 파트너스 링크를 직접 생성함 <br>\n",
    "2. 해당 링크를 네이버 블로그등 기존에 활용 가능한 블로그에 넣고, 하단부에 '파트너스 활동을 통해 일정액의 수수료를 제공받을 수 있음' 문구를 넣음 <br>\n",
    "3. 해당 상품을 직접 링크를 타고 쿠팡에 들어가서 구매 <br>\n",
    "\n",
    "이렇게 한 후에야 API 생성버튼이 보인다고 합니다. <br>\n",
    "이 부분 꼭 확인부탁드립니다.<br>\n",
    "\n",
    "가장 쉽게 설명한 최신 유튜브를 참고하셔서 이 부분도 확인부탁드립니다.<br>\n",
    "\n",
    "https://youtu.be/IO1lEvVOvDY</div>"
   ]
  },
  {
   "cell_type": "markdown",
   "metadata": {},
   "source": [
    "\n",
    "- API 발급\n",
    "<img src=\"https://www.fun-coding.org/00_Images/coupang_api_key.png\">\n",
    "\n",
    "> 혹시 안되시면 말씀해주시면, 함께 해결해보겠습니다. <br>\n",
    "> API 키는 어디에도 유출하시면 안됩니다! 악의적인 해킹의 도구로 활용될 수 있으니까요."
   ]
  },
  {
   "cell_type": "markdown",
   "metadata": {},
   "source": [
    "### 1. 파이썬으로 쿠팡 파트너스 API 활용 준비\n",
    "- 모든 API는 사용하라고 만든 것이므로, 사용 방법에 대해 나와 있습니다.\n",
    "  - https://partners.coupang.com/#help/open-api\n",
    "- 수시로 변할 수 있기 때문에, 가능한 가이드해주신 코드를 기반으로 사용하는 것이 가장 좋습니다."
   ]
  },
  {
   "cell_type": "markdown",
   "metadata": {},
   "source": [
    "### 1.1. 필요 라이브러리 임포트"
   ]
  },
  {
   "cell_type": "code",
   "execution_count": 6,
   "metadata": {},
   "outputs": [],
   "source": [
    "import hmac\n",
    "import hashlib\n",
    "import binascii\n",
    "import os\n",
    "import time\n",
    "import requests\n",
    "import json\n",
    "import urllib"
   ]
  },
  {
   "cell_type": "markdown",
   "metadata": {},
   "source": [
    "### 1.2. authentication 정보 생성\n",
    "- 참고: HMAC (Hash-based Message Authentication)\n",
    "  - 해싱 기법을 적용하여 메시지의 위변조를 방지하는 기법\n",
    "- 현재 시간, Secret Key를 활용하여 HMAC 기법을 사용해서 일종의 signature를 만들고,\n",
    "  - Access Key 와 함께 쿠팡 파트너스 API 요청 헤더에 넣어서 위변조를 방지하고자 함"
   ]
  },
  {
   "cell_type": "markdown",
   "metadata": {},
   "source": [
    "> 별도 템플릿 코드를 만들기보다, 가이드 문서대로 구현하는 것이 좋음 <br>\n",
    "> 수시로 변경 가능성이 있기 때문임"
   ]
  },
  {
   "cell_type": "code",
   "execution_count": 7,
   "metadata": {},
   "outputs": [],
   "source": [
    "from time import gmtime\n",
    "\n",
    "def generateHmac(method, url, secretKey, accessKey):\n",
    "    path, *query = url.split(\"?\")\n",
    "    os.environ[\"TZ\"] = \"GMT+0\"\n",
    "    datetime = time.strftime('%y%m%d')+'T'+time.strftime('%H%M%S')+'Z'\n",
    "    message = datetime + method + path + (query[0] if query else \"\")\n",
    "\n",
    "    signature = hmac.new(bytes(secretKey, \"utf-8\"),\n",
    "                         message.encode(\"utf-8\"),\n",
    "                         hashlib.sha256).hexdigest()\n",
    "\n",
    "    return \"CEA algorithm=HmacSHA256, access-key={}, signed-date={}, signature={}\".format(accessKey, datetime, signature)"
   ]
  },
  {
   "cell_type": "markdown",
   "metadata": {},
   "source": [
    "#### 참고: 쿠팡파트너스 API 가 정상동작하지 않을 시 고려할 점\n",
    "- 자신의 PC 시간이 한국시간으로 설정되어 있지 않은 경우, 정상 실행이 안될 수 있으므로, 자신의 PC 시간을 한국시간으로 설정하고, 실행해주세요!\n",
    "- 한국설정으로 설정했는데도 안된다면, 셀을 만드신 후에, generateHmac 함수를 다음 코드로 선언한 후에 실행해보세요\n",
    "  - 다음 코드는 별도로 셀을 만들고, 그 안에 다음 코드를 복사해서 넣으신 후에 실행하셔야 합니다.\n",
    "\n",
    "```python\n",
    "from time import gmtime\n",
    "\n",
    "def generateHmac(method, url, secretKey, accessKey):\n",
    "    path, *query = url.split(\"?\")\n",
    "    os.environ[\"TZ\"] = \"GMT+0\"\n",
    "    datetime = time.strftime('%y%m%d', gmtime())+'T'+time.strftime('%H%M%S', gmtime())+'Z'\n",
    "    message = datetime + method + path + (query[0] if query else \"\")\n",
    "\n",
    "    signature = hmac.new(bytes(secretKey, \"utf-8\"),\n",
    "                         message.encode(\"utf-8\"),\n",
    "                         hashlib.sha256).hexdigest()\n",
    "\n",
    "    return \"CEA algorithm=HmacSHA256, access-key={}, signed-date={}, signature={}\".format(accessKey, datetime, signature)\n",
    "```"
   ]
  },
  {
   "cell_type": "markdown",
   "metadata": {},
   "source": [
    "### 2. 키워드 기반 상위 30개 검색 상품의 회원 트래킹 코드가 포함된 링크 가져오기 API"
   ]
  },
  {
   "cell_type": "markdown",
   "metadata": {},
   "source": [
    "### 2.1. secret key 와 access key 적용"
   ]
  },
  {
   "cell_type": "markdown",
   "metadata": {},
   "source": [
    "#### secret key 와 access key 데이터 숨기기\n",
    "> 파이썬 코드 상에 자신의 계정과 암호를 기입하지 않고, 계정과 암호 데이터를 사용할 수 있는 기법\n",
    "\n",
    "- class101_autopython 폴더 안에 \n",
    "   - 텍스트 에디터로 settings.py 파일에, COUPANG_SECRET_KEY 와 COUPANG_ACCESS_KEY 수정\n",
    "   \n",
    "    ```python\n",
    "    COUPANG_SECRET_KEY = '자신의 쿠팡 파트너스 secret key'\n",
    "    COUPANG_ACCESS_KEY = '자신의 쿠팡 파트너스 access key'\n",
    "    ```"
   ]
  },
  {
   "cell_type": "markdown",
   "metadata": {},
   "source": [
    "```python \n",
    "# 노출 방지를 위해서 마크다운 형태로 셀을 바꿨습니다. 코드만 참고하셔서 실행해보세요 \n",
    "import settings\n",
    "\n",
    "print (settings.COUPANG_SECRET_KEY, settings.COUPANG_ACCESS_KEY)\n",
    "```"
   ]
  },
  {
   "cell_type": "code",
   "execution_count": 8,
   "metadata": {},
   "outputs": [],
   "source": [
    "import settings\n",
    "\n",
    "access_key = settings.COUPANG_ACCESS_KEY # API access key\n",
    "secret_key = settings.COUPANG_SECRET_KEY # API secret key"
   ]
  },
  {
   "cell_type": "markdown",
   "metadata": {},
   "source": [
    "### 2.2. 검색 API 와 필요 인자 선언"
   ]
  },
  {
   "cell_type": "code",
   "execution_count": 9,
   "metadata": {},
   "outputs": [],
   "source": [
    "request_method = \"GET\""
   ]
  },
  {
   "cell_type": "markdown",
   "metadata": {},
   "source": [
    "- 검색 API 는 크게 키워드와 검색 랭킹 기반, 몇 개까지 가져올지를 정의해야 함"
   ]
  },
  {
   "cell_type": "code",
   "execution_count": 10,
   "metadata": {},
   "outputs": [],
   "source": [
    "keyword = '선물'\n",
    "limit = 30"
   ]
  },
  {
   "cell_type": "code",
   "execution_count": 11,
   "metadata": {},
   "outputs": [],
   "source": [
    "partners_url = \"/v2/providers/affiliate_open_api/apis/openapi/products/search?keyword=\" \n",
    "partners_url += urllib.parse.quote(keyword) + \"&limit=\" + str(limit)"
   ]
  },
  {
   "cell_type": "markdown",
   "metadata": {},
   "source": [
    "### 2.3. authorization 정보 생성"
   ]
  },
  {
   "cell_type": "code",
   "execution_count": 12,
   "metadata": {},
   "outputs": [],
   "source": [
    "authorization = generateHmac(request_method, partners_url, secret_key, access_key)"
   ]
  },
  {
   "cell_type": "code",
   "execution_count": 13,
   "metadata": {},
   "outputs": [
    {
     "data": {
      "text/plain": [
       "'CEA algorithm=HmacSHA256, access-key=0853fd8f-0f2b-45f9-8792-cdaae7e221a9, signed-date=201114T015806Z, signature=10f30bbe3e2fa483517f4b3a831a38f4124d2bf70abde5933a69d5af3d04b452'"
      ]
     },
     "execution_count": 13,
     "metadata": {},
     "output_type": "execute_result"
    }
   ],
   "source": [
    "authorization"
   ]
  },
  {
   "cell_type": "markdown",
   "metadata": {},
   "source": [
    "### 2.4. 검색 API 호출을 위한 필요 인자 선언"
   ]
  },
  {
   "cell_type": "code",
   "execution_count": 14,
   "metadata": {},
   "outputs": [],
   "source": [
    "request_domain = \"https://api-gateway.coupang.com\"\n",
    "request_data = ''"
   ]
  },
  {
   "cell_type": "markdown",
   "metadata": {},
   "source": [
    "### 2.5. 템플릿 코드13: 쿠팡 파트너스 API 호출 결과 가져오기"
   ]
  },
  {
   "cell_type": "code",
   "execution_count": 15,
   "metadata": {},
   "outputs": [],
   "source": [
    "# 가이드 문서대로 authorization 정보는 별도 함수로 그대로 선언합니다.\n",
    "def generateHmac(method, url, secretKey, accessKey):\n",
    "    path, *query = url.split(\"?\")\n",
    "    os.environ[\"TZ\"] = \"GMT+0\"\n",
    "    datetime = time.strftime('%y%m%d')+'T'+time.strftime('%H%M%S')+'Z'\n",
    "    message = datetime + method + path + (query[0] if query else \"\")\n",
    "\n",
    "    signature = hmac.new(bytes(secretKey, \"utf-8\"),\n",
    "                         message.encode(\"utf-8\"),\n",
    "                         hashlib.sha256).hexdigest()\n",
    "\n",
    "    return \"CEA algorithm=HmacSHA256, access-key={}, signed-date={}, signature={}\".format(accessKey, datetime, signature)\n",
    "\n",
    "# 가이드 문서대로 내부 코드를 적되, 다양한 API에 대응 가능토록 일부만 변경\n",
    "def coupang_partners_template(partners_domain, partners_api, partners_method, authorization, request_data):\n",
    "    request_url = \"{}{}\".format(partners_domain, partners_api)\n",
    "    response = requests.request(method=partners_method, url=request_url,\n",
    "                                headers={\n",
    "                                    \"Authorization\": authorization,\n",
    "                                    \"Content-Type\": \"application/json\"\n",
    "                                },\n",
    "                                data=json.dumps(request_data)\n",
    "                                )\n",
    "    return response.json()"
   ]
  },
  {
   "cell_type": "markdown",
   "metadata": {},
   "source": [
    "### 2.6. 검색 API 호출\n",
    "> 주의: 하루 호출량이 매우 제한적임 (한번만 테스트해보세요!)"
   ]
  },
  {
   "cell_type": "code",
   "execution_count": 16,
   "metadata": {},
   "outputs": [],
   "source": [
    "data_json = coupang_partners_template(request_domain, partners_url, request_method, authorization, request_data)"
   ]
  },
  {
   "cell_type": "code",
   "execution_count": 17,
   "metadata": {},
   "outputs": [
    {
     "data": {
      "text/plain": [
       "{'rCode': '0',\n",
       " 'rMessage': '게시글 작성 시, \"파트너스 활동을 통해 일정액의 수수료를 제공받을 수 있음\"을 기재하셔야 합니다',\n",
       " 'data': {'landingUrl': 'https://link.coupang.com/re/AFFSRP?lptag=AF8181387&pageKey=%EC%84%A0%EB%AC%BC&traceid=V0-163-523d7acba7b43632',\n",
       "  'productData': [{'productId': 1581951,\n",
       "    'productName': '신라명과 셀레브르쿠키 + 쇼핑백',\n",
       "    'productPrice': 14670,\n",
       "    'productImage': 'https://static.coupangcdn.com/image/retail/images/409157280392964-e455c3cd-9e57-4d5c-b2d2-a19687c53f79.jpg',\n",
       "    'productUrl': 'https://link.coupang.com/re/AFFSDP?lptag=AF8181387&pageKey=1581951&itemId=6912360&vendorItemId=3009171682&traceid=V0-153-5bec7c22f4aca8eb',\n",
       "    'keyword': '선물',\n",
       "    'rank': 1,\n",
       "    'isRocket': True,\n",
       "    'isFreeShipping': False},\n",
       "   {'productId': 255921241,\n",
       "    'productName': '메디플라워 보니타 가든 핸드크림 6종세트 + 쇼핑백, 2세트',\n",
       "    'productPrice': 15900,\n",
       "    'productImage': 'https://static.coupangcdn.com/image/product/image/vendoritem/2019/09/19/5041350690/5c63fa3f-43b6-499b-b440-0002ecffa0ac.jpg',\n",
       "    'productUrl': 'https://link.coupang.com/re/AFFSDP?lptag=AF8181387&pageKey=255921241&itemId=803226058&vendorItemId=5041350690&traceid=V0-153-5525dacdd385aed9',\n",
       "    'keyword': '선물',\n",
       "    'rank': 2,\n",
       "    'isRocket': True,\n",
       "    'isFreeShipping': False},\n",
       "   {'productId': 1500858142,\n",
       "    'productName': '꽃 다시피다 꽃차 미니꽃다발과 꽃차 2종 선물세트, 아카시아 5g + 메리골드 6g + 미니꽃다발  + 쇼핑백, 1세트',\n",
       "    'productPrice': 26850,\n",
       "    'productImage': 'https://static.coupangcdn.com/image/retail/images/2020/04/23/19/7/5beba467-3306-4bed-ae2a-0fbec479e7e0.jpg',\n",
       "    'productUrl': 'https://link.coupang.com/re/AFFSDP?lptag=AF8181387&pageKey=1500858142&itemId=2577119503&vendorItemId=70569386622&traceid=V0-153-b660a237132d5da8',\n",
       "    'keyword': '선물',\n",
       "    'rank': 3,\n",
       "    'isRocket': True,\n",
       "    'isFreeShipping': False},\n",
       "   {'productId': 222630560,\n",
       "    'productName': '양키캔들 보티브 3종 캔들 + 실버나무 골드홀더 + 선물박스 + 쇼핑백, 블랙체리, 핑크샌드, 망고피치살사',\n",
       "    'productPrice': 15900,\n",
       "    'productImage': 'https://static.coupangcdn.com/image/retail/images/368326430259213-ec3fab9f-9a3b-4812-a926-47763b886f7d.jpg',\n",
       "    'productUrl': 'https://link.coupang.com/re/AFFSDP?lptag=AF8181387&pageKey=222630560&itemId=698036729&vendorItemId=4782883357&traceid=V0-153-eb46307da3ef3ac1',\n",
       "    'keyword': '선물',\n",
       "    'rank': 4,\n",
       "    'isRocket': True,\n",
       "    'isFreeShipping': False},\n",
       "   {'productId': 186459571,\n",
       "    'productName': '비타할로 진심을 담은 6년근 홍삼정 프리미엄, 10g, 30개',\n",
       "    'productPrice': 24100,\n",
       "    'productImage': 'https://static.coupangcdn.com/image/product/image/vendoritem/2019/07/12/4389110250/e18e7590-92e5-44ff-bf76-a527c330ff14.jpg',\n",
       "    'productUrl': 'https://link.coupang.com/re/AFFSDP?lptag=AF8181387&pageKey=186459571&itemId=533114413&vendorItemId=4389110250&traceid=V0-153-c58117c115f917e5',\n",
       "    'keyword': '선물',\n",
       "    'rank': 5,\n",
       "    'isRocket': True,\n",
       "    'isFreeShipping': False},\n",
       "   {'productId': 116148361,\n",
       "    'productName': '카페베네 홈카페 과일청 세트, 유자차 480g + 자몽차 480g + 레몬차 480g, 1세트',\n",
       "    'productPrice': 14900,\n",
       "    'productImage': 'https://static.coupangcdn.com/image/product/image/vendoritem/2019/08/05/3849623927/5bfbec93-5cda-4eb5-93a2-9d66a19c31aa.jpg',\n",
       "    'productUrl': 'https://link.coupang.com/re/AFFSDP?lptag=AF8181387&pageKey=116148361&itemId=347920393&vendorItemId=3849623927&traceid=V0-153-ac83c11bc9ecbb54',\n",
       "    'keyword': '선물',\n",
       "    'rank': 6,\n",
       "    'isRocket': True,\n",
       "    'isFreeShipping': False},\n",
       "   {'productId': 193979674,\n",
       "    'productName': '투데이넛 너트한줌 요거트 견과 선물세트 30개입, 600g, 1세트',\n",
       "    'productPrice': 12510,\n",
       "    'productImage': 'https://static.coupangcdn.com/image/product/image/vendoritem/2019/01/28/3000205578/e88a157d-10ac-498c-bd5a-af97c30655d4.jpg',\n",
       "    'productUrl': 'https://link.coupang.com/re/AFFSDP?lptag=AF8181387&pageKey=193979674&itemId=295156&vendorItemId=3000205578&traceid=V0-153-a7927e3169c28395',\n",
       "    'keyword': '선물',\n",
       "    'rank': 7,\n",
       "    'isRocket': True,\n",
       "    'isFreeShipping': False},\n",
       "   {'productId': 21897772,\n",
       "    'productName': '제주이야기 미인 화이바 꼬마 액상차 6종 선물세트 + 쇼핑백, 한라봉차 200g x 2p + 오미자차 200g x 2p + 매실차 200g x 2p, 1개',\n",
       "    'productPrice': 18300,\n",
       "    'productImage': 'https://static.coupangcdn.com/image/product/image/vendoritem/2019/01/28/3145055733/fc5c774c-435f-415a-b5d7-250104b03cd2.jpg',\n",
       "    'productUrl': 'https://link.coupang.com/re/AFFSDP?lptag=AF8181387&pageKey=21897772&itemId=85383571&vendorItemId=3145055733&traceid=V0-153-f818632a6dfdc954',\n",
       "    'keyword': '선물',\n",
       "    'rank': 8,\n",
       "    'isRocket': True,\n",
       "    'isFreeShipping': False},\n",
       "   {'productId': 1356399295,\n",
       "    'productName': '삼청동 에그롤 오리지널 과자세트, 과자 30g x 12봉지, 1세트',\n",
       "    'productPrice': 24000,\n",
       "    'productImage': 'https://static.coupangcdn.com/image/retail/images/272587680661484-a881960f-cbb7-4e64-aec3-e12f558d391b.png',\n",
       "    'productUrl': 'https://link.coupang.com/re/AFFSDP?lptag=AF8181387&pageKey=1356399295&itemId=2386334762&vendorItemId=70381773410&traceid=V0-153-1b50b135434619d6',\n",
       "    'keyword': '선물',\n",
       "    'rank': 9,\n",
       "    'isRocket': True,\n",
       "    'isFreeShipping': False},\n",
       "   {'productId': 329232612,\n",
       "    'productName': '홍정관장인 6년근 고려홍삼정진액스틱 + 쇼핑백, 10ml, 30개',\n",
       "    'productPrice': 15900,\n",
       "    'productImage': 'https://static.coupangcdn.com/image/retail/images/371289434664231-93a8ab3d-8d2c-4775-8c6e-880bd52bcbbd.jpg',\n",
       "    'productUrl': 'https://link.coupang.com/re/AFFSDP?lptag=AF8181387&pageKey=329232612&itemId=1052651070&vendorItemId=5520965662&traceid=V0-153-139937aff1d463c9',\n",
       "    'keyword': '선물',\n",
       "    'rank': 10,\n",
       "    'isRocket': True,\n",
       "    'isFreeShipping': False},\n",
       "   {'productId': 1391262605,\n",
       "    'productName': '정원삼 6년근 고려홍삼정 365 스틱 30포 + 쇼핑백, 300g, 1세트',\n",
       "    'productPrice': 27620,\n",
       "    'productImage': 'https://static.coupangcdn.com/image/product/image/vendoritem/2019/08/20/3028894630/bdf3d456-7f79-4580-855e-932c229ef0b0.jpg',\n",
       "    'productUrl': 'https://link.coupang.com/re/AFFSDP?lptag=AF8181387&pageKey=1391262605&itemId=2426605775&vendorItemId=70420613790&traceid=V0-153-0758259d3e4bd787',\n",
       "    'keyword': '선물',\n",
       "    'rank': 11,\n",
       "    'isRocket': True,\n",
       "    'isFreeShipping': False},\n",
       "   {'productId': 1581311,\n",
       "    'productName': '신라명과 셀레브르쿠키 대 과자선물세트 + 쇼핑백',\n",
       "    'productPrice': 19780,\n",
       "    'productImage': 'https://static.coupangcdn.com/image/retail/images/409149630971887-2142c237-8ac8-4a60-b1eb-30a104c91a8c.jpg',\n",
       "    'productUrl': 'https://link.coupang.com/re/AFFSDP?lptag=AF8181387&pageKey=1581311&itemId=6908993&vendorItemId=3009167222&traceid=V0-153-a9cee9ec53cc0826',\n",
       "    'keyword': '선물',\n",
       "    'rank': 12,\n",
       "    'isRocket': True,\n",
       "    'isFreeShipping': False},\n",
       "   {'productId': 6806257,\n",
       "    'productName': '메디플라워 더 시크릿 가든 핸드크림 5종 세트 + 쇼핑백, 2세트',\n",
       "    'productPrice': 10500,\n",
       "    'productImage': 'https://static.coupangcdn.com/image/product/image/vendoritem/2019/08/06/4385049232/e9a4354b-00ac-4745-bc8a-21b804853d86.jpg',\n",
       "    'productUrl': 'https://link.coupang.com/re/AFFSDP?lptag=AF8181387&pageKey=6806257&itemId=548112633&vendorItemId=4385049232&traceid=V0-153-86b6afa9be2105a2',\n",
       "    'keyword': '선물',\n",
       "    'rank': 13,\n",
       "    'isRocket': True,\n",
       "    'isFreeShipping': False},\n",
       "   {'productId': 169551284,\n",
       "    'productName': '라돌체비타 프리미엄 허브차 9종 선물세트 + 쇼핑백, 허브티 9종, 1세트',\n",
       "    'productPrice': 19500,\n",
       "    'productImage': 'https://static.coupangcdn.com/image/retail/images/685783247372062-74b23538-c677-490c-acb3-a91cd84e274c.jpg',\n",
       "    'productUrl': 'https://link.coupang.com/re/AFFSDP?lptag=AF8181387&pageKey=169551284&itemId=485080740&vendorItemId=4222394102&traceid=V0-153-53682ebca42b2943',\n",
       "    'keyword': '선물',\n",
       "    'rank': 14,\n",
       "    'isRocket': True,\n",
       "    'isFreeShipping': False},\n",
       "   {'productId': 6636170,\n",
       "    'productName': '티젠 베스트티 컬렉션 세트, 루이보스 + 캐모마일 + 페퍼민트 + 레몬밤 + 얼그레이, 1세트',\n",
       "    'productPrice': 17800,\n",
       "    'productImage': 'https://static.coupangcdn.com/image/product/image/vendoritem/2018/09/10/3043730252/dc05c9e9-a42d-4423-b4d3-c7a53ce7af76.jpg',\n",
       "    'productUrl': 'https://link.coupang.com/re/AFFSDP?lptag=AF8181387&pageKey=6636170&itemId=29431842&vendorItemId=3043730252&traceid=V0-153-dd740159f20713a7',\n",
       "    'keyword': '선물',\n",
       "    'rank': 15,\n",
       "    'isRocket': True,\n",
       "    'isFreeShipping': False},\n",
       "   {'productId': 73888700,\n",
       "    'productName': '오설록 시크릿 티스토리 차 선물세트, 9종, 1세트',\n",
       "    'productPrice': 37350,\n",
       "    'productImage': 'https://static.coupangcdn.com/image/retail/images/245661111126694-a903e0bb-3677-4a5b-81cb-d9c29ead1425.jpg',\n",
       "    'productUrl': 'https://link.coupang.com/re/AFFSDP?lptag=AF8181387&pageKey=73888700&itemId=245461757&vendorItemId=3603536789&traceid=V0-153-eaf45e5792f17bb4',\n",
       "    'keyword': '선물',\n",
       "    'rank': 16,\n",
       "    'isRocket': True,\n",
       "    'isFreeShipping': False},\n",
       "   {'productId': 2534206,\n",
       "    'productName': '투데이넛 너트한줌 후르츠 견과 선물세트 30개입, 600g, 1세트',\n",
       "    'productPrice': 11540,\n",
       "    'productImage': 'https://static.coupangcdn.com/image/product/image/vendoritem/2019/01/28/3001213010/f7535f82-a894-4d39-9783-a5e75206b549.jpg',\n",
       "    'productUrl': 'https://link.coupang.com/re/AFFSDP?lptag=AF8181387&pageKey=2534206&itemId=1252025&vendorItemId=3001213010&traceid=V0-153-f124b3a92bcd0638',\n",
       "    'keyword': '선물',\n",
       "    'rank': 17,\n",
       "    'isRocket': True,\n",
       "    'isFreeShipping': False},\n",
       "   {'productId': 1327542,\n",
       "    'productName': '휴럼 제주감귤 앤 한라봉차 선물세트 + 쇼핑백, 감귤차 200g + 한라봉차 200g, 1세트',\n",
       "    'productPrice': 12900,\n",
       "    'productImage': 'https://static.coupangcdn.com/image/product/image/vendoritem/2018/08/06/3007307050/cd1b9a24-9a12-480e-a7d4-239676d41852.jpg',\n",
       "    'productUrl': 'https://link.coupang.com/re/AFFSDP?lptag=AF8181387&pageKey=1327542&itemId=5747014&vendorItemId=3007307050&traceid=V0-153-0525aa3302b914e8',\n",
       "    'keyword': '선물',\n",
       "    'rank': 18,\n",
       "    'isRocket': True,\n",
       "    'isFreeShipping': False},\n",
       "   {'productId': 3626292,\n",
       "    'productName': '자연애 건강담은 한첩 텀블러용 수제차 선물세트, 6종, 1세트',\n",
       "    'productPrice': 20430,\n",
       "    'productImage': 'https://static.coupangcdn.com/image/retail/images/15502682030474-83eb6af4-35e6-4f49-a1d4-491ee19d0839.png',\n",
       "    'productUrl': 'https://link.coupang.com/re/AFFSDP?lptag=AF8181387&pageKey=3626292&itemId=17853784&vendorItemId=3026257776&traceid=V0-153-0d6b96a3481559f8',\n",
       "    'keyword': '선물',\n",
       "    'rank': 19,\n",
       "    'isRocket': True,\n",
       "    'isFreeShipping': False},\n",
       "   {'productId': 173521867,\n",
       "    'productName': '곰곰 프리미엄 믹스넛츠 버라이어티 팩, 25g, 30개입',\n",
       "    'productPrice': 21590,\n",
       "    'productImage': 'https://static.coupangcdn.com/image/product/image/vendoritem/2019/01/18/4259079379/50145cf5-98e2-4184-959b-49818bcff6d2.jpg',\n",
       "    'productUrl': 'https://link.coupang.com/re/AFFSDP?lptag=AF8181387&pageKey=173521867&itemId=495597437&vendorItemId=4259079379&traceid=V0-153-ecdf03bd6e906bfd',\n",
       "    'keyword': '선물',\n",
       "    'rank': 20,\n",
       "    'isRocket': True,\n",
       "    'isFreeShipping': False},\n",
       "   {'productId': 24706819,\n",
       "    'productName': '올즙 올바른 흑도라지청 10g x 30p + 쇼핑백, 30포',\n",
       "    'productPrice': 20400,\n",
       "    'productImage': 'https://static.coupangcdn.com/image/retail/images/43061972433444-4af2afee-acf5-4b1e-a7c1-3513e6fdc9f1.jpg',\n",
       "    'productUrl': 'https://link.coupang.com/re/AFFSDP?lptag=AF8181387&pageKey=24706819&itemId=96089155&vendorItemId=3172856144&traceid=V0-153-56500e1ea8307cbe',\n",
       "    'keyword': '선물',\n",
       "    'rank': 21,\n",
       "    'isRocket': True,\n",
       "    'isFreeShipping': False},\n",
       "   {'productId': 21897770,\n",
       "    'productName': '제주이야기 미인 화이바 꼬마 액상차 3종 선물세트, 한라봉차 200g + 오미자차 200g + 매실차 200g, 1개',\n",
       "    'productPrice': 10940,\n",
       "    'productImage': 'https://static.coupangcdn.com/image/product/image/vendoritem/2018/09/06/3145055736/fc6e1d84-b1c4-4bae-b5cc-70cebd494709.jpg',\n",
       "    'productUrl': 'https://link.coupang.com/re/AFFSDP?lptag=AF8181387&pageKey=21897770&itemId=85383569&vendorItemId=3145055736&traceid=V0-153-11d8e32dadc428fa',\n",
       "    'keyword': '선물',\n",
       "    'rank': 22,\n",
       "    'isRocket': True,\n",
       "    'isFreeShipping': False},\n",
       "   {'productId': 1093117289,\n",
       "    'productName': '머거본 간식종합선물세트, 간식 15종, 1세트',\n",
       "    'productPrice': 17000,\n",
       "    'productImage': 'https://static.coupangcdn.com/image/retail/images/11398044153455-76b96fb8-87d2-4c0e-93fb-6de487d362d6.jpg',\n",
       "    'productUrl': 'https://link.coupang.com/re/AFFSDP?lptag=AF8181387&pageKey=1093117289&itemId=2049669638&vendorItemId=70049001833&traceid=V0-153-a94bc39681063237',\n",
       "    'keyword': '선물',\n",
       "    'rank': 23,\n",
       "    'isRocket': True,\n",
       "    'isFreeShipping': False},\n",
       "   {'productId': 1218089141,\n",
       "    'productName': '평중 십일월유자 고흥햇유자차 + 쇼핑백 선물세트, 300g, 2개',\n",
       "    'productPrice': 12900,\n",
       "    'productImage': 'https://static.coupangcdn.com/image/retail/images/603160300116641-7bbaa7a8-ec71-484c-839b-5f356fd3688a.png',\n",
       "    'productUrl': 'https://link.coupang.com/re/AFFSDP?lptag=AF8181387&pageKey=1218089141&itemId=2208219630&vendorItemId=70206041051&traceid=V0-153-ab5c8266e358a235',\n",
       "    'keyword': '선물',\n",
       "    'rank': 24,\n",
       "    'isRocket': True,\n",
       "    'isFreeShipping': False},\n",
       "   {'productId': 31966524,\n",
       "    'productName': '빅토리아 차 선물세트 2호 + 쇼핑백, 얼그레이 5p + 페퍼민트 5p + 로즈플라워 5p, 1세트',\n",
       "    'productPrice': 9100,\n",
       "    'productImage': 'https://static.coupangcdn.com/image/product/image/vendoritem/2019/01/30/3243711761/000cba0f-1ebd-4e03-9d18-b09fae2cef34.jpg',\n",
       "    'productUrl': 'https://link.coupang.com/re/AFFSDP?lptag=AF8181387&pageKey=31966524&itemId=120496141&vendorItemId=3243711761&traceid=V0-153-f3faf58f9bce871f',\n",
       "    'keyword': '선물',\n",
       "    'rank': 25,\n",
       "    'isRocket': True,\n",
       "    'isFreeShipping': False},\n",
       "   {'productId': 52268301,\n",
       "    'productName': '머거본 프리미엄 3호 육포 + 견과 선물세트, 635g, 1세트',\n",
       "    'productPrice': 21400,\n",
       "    'productImage': 'https://static.coupangcdn.com/image/product/image/vendoritem/2019/01/29/3439485144/07e90a04-ecf6-44f8-835d-dc6df8f35c76.jpg',\n",
       "    'productUrl': 'https://link.coupang.com/re/AFFSDP?lptag=AF8181387&pageKey=52268301&itemId=184669209&vendorItemId=3439485144&traceid=V0-153-0eee3001c649574d',\n",
       "    'keyword': '선물',\n",
       "    'rank': 26,\n",
       "    'isRocket': True,\n",
       "    'isFreeShipping': False},\n",
       "   {'productId': 169310398,\n",
       "    'productName': '라돌체비타 프리미엄 전통차 선물세트 + 쇼핑백, 9종, 1세트',\n",
       "    'productPrice': 19500,\n",
       "    'productImage': 'https://static.coupangcdn.com/image/retail/images/252489128930962-282a30a0-16ce-41cf-ada2-c799c220c155.jpg',\n",
       "    'productUrl': 'https://link.coupang.com/re/AFFSDP?lptag=AF8181387&pageKey=169310398&itemId=484559640&vendorItemId=4220347204&traceid=V0-153-ac19b2205450d364',\n",
       "    'keyword': '선물',\n",
       "    'rank': 27,\n",
       "    'isRocket': True,\n",
       "    'isFreeShipping': False},\n",
       "   {'productId': 173521858,\n",
       "    'productName': '곰곰 프리미엄 믹스넛츠 베리, 25g, 30개입',\n",
       "    'productPrice': 19240,\n",
       "    'productImage': 'https://static.coupangcdn.com/image/product/image/vendoritem/2019/01/18/4259079357/3bc7d001-b60a-4f52-81c8-640b10373a87.jpg',\n",
       "    'productUrl': 'https://link.coupang.com/re/AFFSDP?lptag=AF8181387&pageKey=173521858&itemId=495597417&vendorItemId=4259079357&traceid=V0-153-5d82b3be802c34cc',\n",
       "    'keyword': '선물',\n",
       "    'rank': 28,\n",
       "    'isRocket': True,\n",
       "    'isFreeShipping': False},\n",
       "   {'productId': 2534201,\n",
       "    'productName': '투데이넛 너트한줌 청포도요거트 견과 선물세트, 20g, 50개',\n",
       "    'productPrice': 22790,\n",
       "    'productImage': 'https://static.coupangcdn.com/image/product/image/vendoritem/2019/02/12/3001928113/330425db-55d5-4295-bbb6-8797a89c7eca.jpg',\n",
       "    'productUrl': 'https://link.coupang.com/re/AFFSDP?lptag=AF8181387&pageKey=2534201&itemId=2088553&vendorItemId=3001928113&traceid=V0-153-47920fa02b73efcc',\n",
       "    'keyword': '선물',\n",
       "    'rank': 29,\n",
       "    'isRocket': True,\n",
       "    'isFreeShipping': False},\n",
       "   {'productId': 1656769816,\n",
       "    'productName': '오설록 오땡큐 티백 선물 세트 E, 티백 6종 x 5p, 1세트',\n",
       "    'productPrice': 19380,\n",
       "    'productImage': 'https://static.coupangcdn.com/image/retail/images/2020/06/03/9/5/37045854-1b4d-4b5a-9532-978fcf664066.jpg',\n",
       "    'productUrl': 'https://link.coupang.com/re/AFFSDP?lptag=AF8181387&pageKey=1656769816&itemId=2822852030&vendorItemId=70812327504&traceid=V0-153-37a4a81e8ceb62ac',\n",
       "    'keyword': '선물',\n",
       "    'rank': 30,\n",
       "    'isRocket': True,\n",
       "    'isFreeShipping': False}]}}"
      ]
     },
     "execution_count": 17,
     "metadata": {},
     "output_type": "execute_result"
    }
   ],
   "source": [
    "data_json"
   ]
  },
  {
   "cell_type": "markdown",
   "metadata": {},
   "source": [
    "### 2.6. json 데이터 확인하기"
   ]
  },
  {
   "cell_type": "markdown",
   "metadata": {},
   "source": [
    "- pprint.pprint() 함수를 사용해서, 좀더 명확하게 json 데이터 확인하기\n",
    "- productUrl 에 있는 링크를 통해 들어가서, 상품 구매시 일정 수수료를 받을 수 있음\n",
    "\n",
    "> 관련 게시글 작성 시, \"파트너스 활동을 통해 일정액의 수수료를 제공받을 수 있음\"을 기재해야 함\n",
    "\n",
    "```json\n",
    "{\n",
    "    'isRocket': True,\n",
    "    'keyword': '떡볶이',\n",
    "    'productId': 188709954,\n",
    "    'productImage': 'https://static.coupangcdn.com/image/retail/images/261952026077622-faeeea6c-f519-4442-b000-fad3bf0c0089.jpg',\n",
    "    'productName': '곰곰 떡볶이 옛날맛 (냉동), 560g, 3개',\n",
    "    'productPrice': 12530,\n",
    "    'productUrl': 'https://link.coupang.com/re/AFFSDP?lptag=AF8181387&pageKey=188709954&itemId=538914812&vendorItemId=5016667484&traceid=V0-153-ad7a6228f69fa5ea',\n",
    "    'rank': 3\n",
    "}\n",
    "```"
   ]
  },
  {
   "cell_type": "markdown",
   "metadata": {},
   "source": [
    "- 상품 데이터는 결국 productData 필드에 있음"
   ]
  },
  {
   "cell_type": "code",
   "execution_count": 42,
   "metadata": {},
   "outputs": [
    {
     "name": "stdout",
     "output_type": "stream",
     "text": [
      "제로캔들 소이캔들 대용량 향초 280ml, 레몬라벤더, 1개 12900 https://link.coupang.com/re/AFFSDP?lptag=AF8181387&pageKey=210587431&itemId=537334187&vendorItemId=4403068224&traceid=V0-153-f2d59b53f2ad4fab\n",
      "웰던커피 더치커피 선물세트, 브라질 산토스 + 콜롬비아 슈프리모 + 에디오피아 예가체프, 1세트 16200 https://link.coupang.com/re/AFFSDP?lptag=AF8181387&pageKey=1391908041&itemId=2427296415&vendorItemId=70421296525&traceid=V0-153-66b3f5d596b9f2e9\n",
      "투데이넛 너트한줌 프리미엄 견과 선물세트 30개입, 600g, 1세트 15390 https://link.coupang.com/re/AFFSDP?lptag=AF8181387&pageKey=158935&itemId=295153&vendorItemId=3000205575&traceid=V0-153-75b0f0bd005a69e4\n",
      "라돌체비타 프리미엄 허브차 9종 선물세트 + 쇼핑백, 허브티 9종, 1세트 19500 https://link.coupang.com/re/AFFSDP?lptag=AF8181387&pageKey=169551284&itemId=485080740&vendorItemId=4222394102&traceid=V0-153-53682ebca42b2943\n",
      "제로캔들 소이 캔들 대용량향초 660ml, 블랙체리, 1개 18900 https://link.coupang.com/re/AFFSDP?lptag=AF8181387&pageKey=210587460&itemId=537334150&vendorItemId=4403068151&traceid=V0-153-f798c223c506e6e2\n",
      "제로캔들 소이캔들 대용량 향초 1000ml, 블랙체리, 1개 27890 https://link.coupang.com/re/AFFSDP?lptag=AF8181387&pageKey=188161774&itemId=537334070&vendorItemId=4403067976&traceid=V0-153-264ddb4997ed2a84\n",
      "코코도르 블랙에디션 디퓨저 선물 세트 500ml, 블랙체리 11840 https://link.coupang.com/re/AFFSDP?lptag=AF8181387&pageKey=17437874&itemId=70065209&vendorItemId=3113273801&traceid=V0-153-93143e1adfbd692c\n",
      "머거본 간식종합선물세트, 간식 15종, 1세트 17000 https://link.coupang.com/re/AFFSDP?lptag=AF8181387&pageKey=1392126490&itemId=2427555457&vendorItemId=70421552108&traceid=V0-153-aad45c46ade87465\n",
      "에이디스 슬리핑 천연디퓨져120ml, 4) 칼라데아 리드스틱 28000 https://link.coupang.com/re/AFFSDP?lptag=AF8181387&pageKey=40054887&itemId=217013051&vendorItemId=3523848388&traceid=V0-153-2cf18369f064d062\n",
      "대두식품 수양갱 세트, 810g, 1세트 15280 https://link.coupang.com/re/AFFSDP?lptag=AF8181387&pageKey=1391910046&itemId=2427298206&vendorItemId=70421298235&traceid=V0-153-cc2612a0ecb1c0a2\n",
      "피터래빗 쿠키웨이퍼 과자선물세트, 데니쉬 버터 쿠키 454g + 럭셔리 웨이퍼 롤 100g 4종, 1세트 15900 https://link.coupang.com/re/AFFSDP?lptag=AF8181387&pageKey=18867969&itemId=75791358&vendorItemId=3126709880&traceid=V0-153-b0a8cfd4ebc29a64\n",
      "라돌체비타 프리미엄 허브차 6종 선물세트 + 쇼핑백, 허브차 6종 + 쇼핑백, 1세트 15500 https://link.coupang.com/re/AFFSDP?lptag=AF8181387&pageKey=169310376&itemId=484559584&vendorItemId=4220347004&traceid=V0-153-061fc157ab8a48cb\n",
      "쌍계명차 티이즘 큐브우드 16P 선물세트, 1세트 25740 https://link.coupang.com/re/AFFSDP?lptag=AF8181387&pageKey=401222&itemId=1049384&vendorItemId=3001033301&traceid=V0-153-82a894c008f3ebaf\n",
      "비타할로 진심을 담은 6년근 홍삼정 프리미엄, 10g, 30개 23330 https://link.coupang.com/re/AFFSDP?lptag=AF8181387&pageKey=186459571&itemId=533114413&vendorItemId=4389110250&traceid=V0-153-c58117c115f917e5\n",
      "코코도르 블랙에디션 디퓨저 선물 세트 500ml, 에이프릴 프레쉬 11840 https://link.coupang.com/re/AFFSDP?lptag=AF8181387&pageKey=17437874&itemId=70065210&vendorItemId=3113273802&traceid=V0-153-93143e1adfbd692c\n",
      "메디플라워 보니타 가든 핸드크림 6종세트 + 쇼핑백, 2세트 16840 https://link.coupang.com/re/AFFSDP?lptag=AF8181387&pageKey=255921241&itemId=803226058&vendorItemId=5041350690&traceid=V0-153-5525dacdd385aed9\n",
      "떡과정 화과자 20구 + 만쥬 10구 선물세트 (냉동), 1세트 33900 https://link.coupang.com/re/AFFSDP?lptag=AF8181387&pageKey=1057768018&itemId=2000954660&vendorItemId=70000956457&traceid=V0-153-b744f09cb44da712\n",
      "아름드레 한국의 전통차 9종 선물세트, 1세트 20600 https://link.coupang.com/re/AFFSDP?lptag=AF8181387&pageKey=661801&itemId=2371475&vendorItemId=3021336283&traceid=V0-153-c703ff76f038fa2e\n",
      "카페베네 홈카페 과일청 세트, 유자차 480g + 자몽차 480g + 레몬차 480g, 1세트 14470 https://link.coupang.com/re/AFFSDP?lptag=AF8181387&pageKey=116148361&itemId=347920393&vendorItemId=3849623927&traceid=V0-153-ac83c11bc9ecbb54\n",
      "양키캔들 보티브 3종 캔들 + 실버나무 민트그린홀더 + 선물박스 + 쇼핑백, 블랙체리, 핑크샌드, 망고피치살사 15900 https://link.coupang.com/re/AFFSDP?lptag=AF8181387&pageKey=222630555&itemId=698036724&vendorItemId=4782883358&traceid=V0-153-4c88580613236d92\n",
      "신라명과 달보드레 카스테라, 35g, 16개 16900 https://link.coupang.com/re/AFFSDP?lptag=AF8181387&pageKey=1260993885&itemId=2262045898&vendorItemId=70259320197&traceid=V0-153-8ad4d71bf57d1511\n",
      "제주이야기 미인 화이바 꼬마 액상차 3종 선물세트, 한라봉차 200g + 오미자차 200g + 매실차 200g, 1개 10700 https://link.coupang.com/re/AFFSDP?lptag=AF8181387&pageKey=21897770&itemId=85383569&vendorItemId=3145055736&traceid=V0-153-11d8e32dadc428fa\n",
      "선물주는산타의 주식투자 시크릿:8천만 원 종잣돈으로 124배의 수익을 올린 투자 고수가 되기까지, 비즈니스북스 14400 https://link.coupang.com/re/AFFSDP?lptag=AF8181387&pageKey=1464406885&itemId=2518603427&vendorItemId=70511529737&traceid=V0-153-dd38f072ddf96262\n",
      "코코도르 블랙에디션 디퓨저 선물 세트 500ml, 프렌치라벤더 11860 https://link.coupang.com/re/AFFSDP?lptag=AF8181387&pageKey=17437874&itemId=70065211&vendorItemId=3113273804&traceid=V0-153-93143e1adfbd692c\n",
      "빅토리아 차선물세트 1호 + 쇼핑백, 6종, 1세트 16900 https://link.coupang.com/re/AFFSDP?lptag=AF8181387&pageKey=31966527&itemId=120496157&vendorItemId=3243711772&traceid=V0-153-009160b4306ca60a\n",
      "휴럼 제주감귤 앤 한라봉차 선물세트 + 쇼핑백, 감귤차 200g + 한라봉차 200g, 1세트 12900 https://link.coupang.com/re/AFFSDP?lptag=AF8181387&pageKey=1327542&itemId=5747014&vendorItemId=3007307050&traceid=V0-153-0525aa3302b914e8\n",
      "아름드레 스페셜티 6종 선물세트, 1세트 15200 https://link.coupang.com/re/AFFSDP?lptag=AF8181387&pageKey=2986603&itemId=13953393&vendorItemId=3021336281&traceid=V0-153-b375a2dcf2e2ed5c\n",
      "빅토리아 차 선물세트 2호 + 쇼핑백, 얼그레이 5p + 페퍼민트 5p + 로즈플라워 5p, 1세트 9000 https://link.coupang.com/re/AFFSDP?lptag=AF8181387&pageKey=31966524&itemId=120496141&vendorItemId=3243711761&traceid=V0-153-f3faf58f9bce871f\n",
      "라돌체비타 프리미엄 전통차 6종 선물세트 + 쇼핑백, 전통차 6종 + 쇼핑백, 1세트 15500 https://link.coupang.com/re/AFFSDP?lptag=AF8181387&pageKey=169310355&itemId=484559542&vendorItemId=4220346881&traceid=V0-153-e8a99ca3b0cbbf7d\n",
      "빅토리아 그림이 있는 차 선물세트 6호 + 쇼핑백, 잉글리쉬브랙퍼스트 5p + 히비스커스 5p + 루이보스 5p, 1세트 9900 https://link.coupang.com/re/AFFSDP?lptag=AF8181387&pageKey=118610786&itemId=353942329&vendorItemId=3862448541&traceid=V0-153-56568432a6ae8bdc\n"
     ]
    }
   ],
   "source": [
    "datas1 = data_json['data']['productData']\n",
    "for item in datas1:\n",
    "    print (item['productName'], item['productPrice'], item['productUrl'])"
   ]
  },
  {
   "cell_type": "markdown",
   "metadata": {},
   "source": [
    "### 3. 쿠팡 URL을 회원 트래킹 코드가 포함된 링크로 변환하는 API"
   ]
  },
  {
   "cell_type": "code",
   "execution_count": 43,
   "metadata": {},
   "outputs": [],
   "source": [
    "request_method = \"POST\"\n",
    "partners_url = \"/v2/providers/affiliate_open_api/apis/openapi/v1/deeplink\" \n",
    "request_domain = \"https://api-gateway.coupang.com\"\n",
    "request_data = { \"coupangUrls\": [\n",
    "    \"https://www.coupang.com/vp/products/233398511?itemId=741212717&vendorItemId=4871712111&q=%EB%AA%A8%EB%8B%88%ED%84%B0&itemsCount=36&searchId=55fe11377e9f402486b1e702cbc52b12&rank=9&isAddedCart=\"\n",
    "]}"
   ]
  },
  {
   "cell_type": "code",
   "execution_count": 44,
   "metadata": {},
   "outputs": [],
   "source": [
    "authorization = generateHmac(request_method, partners_url, secret_key, access_key)"
   ]
  },
  {
   "cell_type": "code",
   "execution_count": 49,
   "metadata": {},
   "outputs": [],
   "source": [
    "data_json = coupang_partners_template(request_domain, partners_url, request_method, authorization, request_data)"
   ]
  },
  {
   "cell_type": "code",
   "execution_count": 50,
   "metadata": {},
   "outputs": [
    {
     "data": {
      "text/plain": [
       "{'rCode': '0',\n",
       " 'rMessage': '',\n",
       " 'data': [{'originalUrl': 'https://www.coupang.com/vp/products/233398511?itemId=741212717&vendorItemId=4871712111&q=%EB%AA%A8%EB%8B%88%ED%84%B0&itemsCount=36&searchId=55fe11377e9f402486b1e702cbc52b12&rank=9&isAddedCart=',\n",
       "   'shortenUrl': 'https://coupa.ng/bDbf70',\n",
       "   'landingUrl': 'https://link.coupang.com/re/AFFSDP?lptag=AF8181387&pageKey=233398511&itemId=741212717&vendorItemId=4871712111&traceid=V0-183-5397e9194e245476'}]}"
      ]
     },
     "execution_count": 50,
     "metadata": {},
     "output_type": "execute_result"
    }
   ],
   "source": [
    "data_json"
   ]
  },
  {
   "cell_type": "code",
   "execution_count": 52,
   "metadata": {},
   "outputs": [
    {
     "name": "stdout",
     "output_type": "stream",
     "text": [
      "https://link.coupang.com/re/AFFSDP?lptag=AF8181387&pageKey=233398511&itemId=741212717&vendorItemId=4871712111&traceid=V0-183-5397e9194e245476\n"
     ]
    }
   ],
   "source": [
    "datas1 = data_json['data']\n",
    "for item in datas1:\n",
    "    print (item['landingUrl'])"
   ]
  },
  {
   "cell_type": "markdown",
   "metadata": {},
   "source": [
    "### 4. 관련 상품 상세 정보 가져오기 (템플릿 코드14)\n",
    "- selenium 을 사용해서 관련 상품 상세 정보를 가져올 수 있음\n",
    "- 상세 정보는 모두 이미지이기 때문에 이미지를 다운로드 받아야 함\n",
    "- selenium 템플릿 코드를 기반으로, 사이트 관련 코드를 추가함\n",
    "\n",
    "> 참고: selenium 도 있지만, headless chrome 기술도 있음 <br>\n",
    "> 웹브라우저를 안띄우지만, 크롤링으로 접근했음을 체크하기 쉬움"
   ]
  },
  {
   "cell_type": "code",
   "execution_count": 73,
   "metadata": {},
   "outputs": [],
   "source": [
    "from selenium import webdriver\n",
    "from selenium.webdriver.common.by import By\n",
    "from selenium.webdriver.support.ui import WebDriverWait\n",
    "from selenium.webdriver.support import expected_conditions as EC\n",
    "import time \n",
    "\n",
    "def get_details_product_template(url):\n",
    "    # 각 PC 환경에 맞게 수정 필요\n",
    "    driver_location = './chromedriver'\n",
    "    css_selector_title = 'h2.prod-buy-header__title'\n",
    "    css_selector_price = 'div.prod-coupon-price.prod-major-price > span.total-price > strong'\n",
    "    css_selector_ori_price = 'div.prod-sale-price > span.total-price > strong'    \n",
    "    css_selector_img = 'div.product-detail-content-inside div.subType-IMAGE > img'\n",
    "    img_path = '/Users/davelee/class101_autopython/00_coupang_product_imgs'\n",
    "    vendoritemid = url.split('=')[4].split('&')[0]\n",
    "    \n",
    "    return_data = list()\n",
    "    return_data.append(vendoritemid)\n",
    "    \n",
    "    driver = webdriver.Chrome(driver_location)\n",
    "    driver.get(url)\n",
    "    time.sleep(3)\n",
    "\n",
    "    titles = driver.find_elements_by_css_selector(css_selector_title)\n",
    "    for item in titles:\n",
    "        return_data.append(item.text)\n",
    "\n",
    "    prices = driver.find_elements_by_css_selector(css_selector_price)\n",
    "    for item in prices:\n",
    "        if item.text == '':\n",
    "            prices = driver.find_elements_by_css_selector(css_selector_ori_price)\n",
    "            for item2 in prices:\n",
    "                return_data.append(item2.text)\n",
    "        else:\n",
    "            return_data.append(item.text)\n",
    "\n",
    "    return_data.append(url)\n",
    "    imgs = driver.find_elements_by_css_selector(css_selector_img)\n",
    "    images = list()\n",
    "    for num, item in enumerate(imgs):\n",
    "        src = item.get_attribute('src')\n",
    "        '''\n",
    "        if 'vendor_inventory' not in src and ('thumbnail' not in src or 'remote' not in src):\n",
    "            continue\n",
    "        filename = vendoritemid + '-' + str(num) + \".png\"  # ventoritemid-이미지번호.png 파일을 생성\n",
    "        full_filename = img_path + \"/\" + filename\n",
    "        urllib.request.urlretrieve(src, full_filename) # 해당 이미지 파일을 지정 폴더에 다운로드\n",
    "        images.append(('image', (filename, open(full_filename, 'rb'), 'image/png')))\n",
    "        return_data.append(images)\n",
    "        '''\n",
    "        return_data.append(src)\n",
    "        \n",
    "\n",
    "    driver.quit()\n",
    "    return return_data"
   ]
  },
  {
   "cell_type": "code",
   "execution_count": 74,
   "metadata": {},
   "outputs": [
    {
     "data": {
      "text/plain": [
       "['3862448541',\n",
       " '빅토리아 그림이 있는 차 선물세트 6호 + 쇼핑백',\n",
       " '9,900원',\n",
       " ' https://link.coupang.com/re/AFFSDP?lptag=AF8181387&pageKey=118610786&itemId=353942329&vendorItemId=3862448541&traceid=V0-153-56568432a6ae8bdc',\n",
       " [('image',\n",
       "   ('3862448541-0.png',\n",
       "    <_io.BufferedReader name='/Users/davelee/class101_autopython/00_coupang_product_imgs/3862448541-0.png'>,\n",
       "    'image/png'))]]"
      ]
     },
     "execution_count": 74,
     "metadata": {},
     "output_type": "execute_result"
    }
   ],
   "source": [
    "get_details_product_template(' https://link.coupang.com/re/AFFSDP?lptag=AF8181387&pageKey=118610786&itemId=353942329&vendorItemId=3862448541&traceid=V0-153-56568432a6ae8bdc')"
   ]
  },
  {
   "cell_type": "markdown",
   "metadata": {},
   "source": [
    "### (활용) 템플릿 코드6: 리스트 변수 데이터를 엑셀 파일로 만들기"
   ]
  },
  {
   "cell_type": "code",
   "execution_count": 75,
   "metadata": {},
   "outputs": [],
   "source": [
    "import openpyxl\n",
    "\n",
    "def write_excel_template(filename, sheetname, listdata):\n",
    "    excel_file = openpyxl.Workbook()\n",
    "    excel_sheet = excel_file.active\n",
    "\n",
    "    # 엑셀 이쁘게 하기에서 셀 사이즈, 타이틀행만 추가\n",
    "    excel_sheet.column_dimensions['A'].width = 20\n",
    "    excel_sheet.column_dimensions['B'].width = 80\n",
    "    excel_sheet.column_dimensions['D'].width = 200    \n",
    "    excel_sheet.append(['ventoritemid', '상품 타이틀', '가격', '링크'])\n",
    "    \n",
    "    if sheetname != '':\n",
    "        excel_sheet.title = sheetname\n",
    "    \n",
    "    for item in listdata:\n",
    "        excel_sheet.append(item)\n",
    "    excel_file.save(filename)\n",
    "    excel_file.close()"
   ]
  },
  {
   "cell_type": "markdown",
   "metadata": {},
   "source": [
    "### 오늘 날짜 가져오기\n",
    "- datetime 라이브러리의 datetime.date.today() 함수를 사용하면 됨\n",
    "  - 단 날짜를 나타내는 특별한 데이터 포멧이 있음\n",
    "  - strftime() 함수로 날짜를 다양한 포멧에 맞게, 문자열로 변환할 수 있음\n",
    "    - 예: %Y-%m-%d\n",
    "  \n",
    "| 표시 | 의미                                |\n",
    "|------|:-------------------------------------|\n",
    "| %y   | 연도를 축약해서 표시, 예: 21        |\n",
    "| %Y   | 연도를 축약하지 않고 표시, 예: 2021 |\n",
    "| %m   | 월을 두자릿 수로 표시, 예: 01 ~ 12  |\n",
    "| %-m  | 월을 0 없이 표시, 예: 1 ~ 12        |\n",
    "| %d   | 일을 두자릿 수로 표시, 예: 01 ~ 31  |\n",
    "| %-d  | 일을 0 없이 표시, 예: 1 ~ 31        |"
   ]
  },
  {
   "cell_type": "code",
   "execution_count": 76,
   "metadata": {},
   "outputs": [
    {
     "name": "stdout",
     "output_type": "stream",
     "text": [
      "<class 'datetime.date'> 2020-05-27\n"
     ]
    }
   ],
   "source": [
    "import datetime\n",
    "data1 = datetime.date.today()\n",
    "print (type(data1), data1)"
   ]
  },
  {
   "cell_type": "code",
   "execution_count": 77,
   "metadata": {},
   "outputs": [
    {
     "name": "stdout",
     "output_type": "stream",
     "text": [
      "<class 'str'> 2020-05-27\n"
     ]
    }
   ],
   "source": [
    "import datetime\n",
    "data1 = datetime.date.today()\n",
    "data1 = data1.strftime('%Y-%m-%d')\n",
    "print (type(data1), data1)"
   ]
  },
  {
   "cell_type": "code",
   "execution_count": 78,
   "metadata": {},
   "outputs": [],
   "source": [
    "import datetime\n",
    "data1 = datetime.date.today()\n",
    "data1 = data1.strftime('%Y-%m-%d')"
   ]
  },
  {
   "cell_type": "code",
   "execution_count": 79,
   "metadata": {},
   "outputs": [],
   "source": [
    "listdata = [['4871712111', 'LG전자 86.7cm WFHD 울트라와이드 HDR 모니터', '383,000원']]"
   ]
  },
  {
   "cell_type": "code",
   "execution_count": 80,
   "metadata": {},
   "outputs": [],
   "source": [
    "write_excel_template('tmp.xlsx', data1, listdata)"
   ]
  },
  {
   "cell_type": "code",
   "execution_count": null,
   "metadata": {},
   "outputs": [],
   "source": []
  },
  {
   "cell_type": "markdown",
   "metadata": {},
   "source": [
    "### 5. 원하는 상품 가져와서, 상품 타이틀, 가격, 상품 이미지를 엑셀로 가져오기 \n",
    "> 업무 자동화 목표에 맞추어, 어느 작업을 하시든 단순 업무를 자동화하기 위한 예를 보여드립니다. <br>\n",
    "> 업무 자동화라기보다 각자 원하시는 수익화 프로그램을 원하시는 경우에는 <br>\n",
    "> 1:1 코칭을 통해 빠르게 구현 및 실현 가능하실 수 있도록 구현 범위, 기능 조정, 구현 방법에 대해 알려드립니다."
   ]
  },
  {
   "cell_type": "markdown",
   "metadata": {},
   "source": [
    "### 5.1. 예: 카테고리 베스트 상품 가져오기"
   ]
  },
  {
   "cell_type": "code",
   "execution_count": 81,
   "metadata": {},
   "outputs": [],
   "source": [
    "request_method = \"GET\"\n",
    "partners_url = \"/v2/providers/affiliate_open_api/apis/openapi/products/bestcategories/1001\" \n",
    "request_domain = \"https://api-gateway.coupang.com\"\n",
    "request_data = ''"
   ]
  },
  {
   "cell_type": "code",
   "execution_count": 82,
   "metadata": {},
   "outputs": [],
   "source": [
    "authorization = generateHmac(request_method, partners_url, secret_key, access_key)\n",
    "data_json = coupang_partners_template(request_domain, partners_url, request_method, authorization, request_data)"
   ]
  },
  {
   "cell_type": "markdown",
   "metadata": {},
   "source": [
    "### 필요한 문법\n",
    "- json 과 사전(dictionary) 데이터 구조는 동일하게 다룰 수 있음 (일전 챕터에서 설명)\n",
    "- 사전에서 각 키 값 가져오기 사전변수.keys() : 리스트로 키 값을 가져옴\n"
   ]
  },
  {
   "cell_type": "code",
   "execution_count": 91,
   "metadata": {},
   "outputs": [
    {
     "name": "stdout",
     "output_type": "stream",
     "text": [
      "productId\n",
      "productName\n",
      "productPrice\n",
      "productImage\n",
      "productUrl\n",
      "categoryName\n",
      "keyword\n",
      "rank\n",
      "isRocket\n"
     ]
    }
   ],
   "source": [
    "for item in data_json['data'][0].keys():\n",
    "    print (item)"
   ]
  },
  {
   "cell_type": "markdown",
   "metadata": {},
   "source": [
    "### (활용) 템플릿 코드6: 리스트 변수 데이터를 엑셀 파일로 만들기"
   ]
  },
  {
   "cell_type": "code",
   "execution_count": 92,
   "metadata": {},
   "outputs": [],
   "source": [
    "import openpyxl\n",
    "\n",
    "def write_excel_template(filename, sheetname, listdata):\n",
    "    excel_file = openpyxl.Workbook()\n",
    "    excel_sheet = excel_file.active\n",
    "\n",
    "    # 엑셀 이쁘게 하기에서 셀 사이즈, 타이틀행만 추가\n",
    "    excel_sheet.column_dimensions['A'].width = 20\n",
    "    excel_sheet.column_dimensions['B'].width = 70\n",
    "    excel_sheet.column_dimensions['C'].width = 10    \n",
    "    excel_sheet.column_dimensions['D'].width = 120    \n",
    "    excel_sheet.column_dimensions['E'].width = 120        \n",
    "    excel_sheet.append(['productId', 'productName', 'productPrice', 'productImage', 'productUrl', 'categoryName', 'keyword', 'rank', 'isRocket'])\n",
    "    \n",
    "    if sheetname != '':\n",
    "        excel_sheet.title = sheetname\n",
    "    \n",
    "    for item in listdata:\n",
    "        excel_sheet.append(item)\n",
    "    excel_file.save(filename)\n",
    "    excel_file.close()"
   ]
  },
  {
   "cell_type": "code",
   "execution_count": 93,
   "metadata": {},
   "outputs": [
    {
     "data": {
      "text/plain": [
       "[{'productId': 185502198,\n",
       "  'productName': '쿠팡 브랜드 - 베이스알파 에센셜 남녀공용 30수 라운드 반팔티 화이트 3p',\n",
       "  'productPrice': 12500,\n",
       "  'productImage': 'https://static.coupangcdn.com/image/retail/images/7028390930032-016cbfa5-5fa7-4b65-aba1-cd7d2d54861b.jpg',\n",
       "  'productUrl': 'https://link.coupang.com/re/AFFSDP?lptag=AF8181387&pageKey=185502198&itemId=530600312&vendorItemId=4381872911&traceid=V0-113-d1b4e08408552d8e',\n",
       "  'categoryName': '여성패션',\n",
       "  'keyword': '여성패션',\n",
       "  'rank': 1,\n",
       "  'isRocket': True},\n",
       " {'productId': 242527845,\n",
       "  'productName': '엘레스 여성반팔티 당일발송 빅사이즈 자체제작 반팔 티셔츠',\n",
       "  'productPrice': 9500,\n",
       "  'productImage': 'https://static.coupangcdn.com/image/vendor_inventory/3907/0700399e291d57b162c93624d036d5e4fa304f3b49bb63b20d0f428b0224.jpg',\n",
       "  'productUrl': 'https://link.coupang.com/re/AFFSDP?lptag=AF8181387&pageKey=242527845&itemId=770221714&vendorItemId=4944830232&traceid=V0-113-1b2fda6b52d4e5dd',\n",
       "  'categoryName': '여성패션',\n",
       "  'keyword': '여성패션',\n",
       "  'rank': 2,\n",
       "  'isRocket': False},\n",
       " {'productId': 1419894910,\n",
       "  'productName': '티데일리 남여공용 이프나우 오버핏 반팔 라운드 티셔츠 20수 (4color) 반소매',\n",
       "  'productPrice': 8900,\n",
       "  'productImage': 'https://static.coupangcdn.com/image/vendor_inventory/6b4b/a763cf60972d57519149567a6935cd2728b6620602803b7b9ebf95048746.jpg',\n",
       "  'productUrl': 'https://link.coupang.com/re/AFFSDP?lptag=AF8181387&pageKey=1419894910&itemId=2457766929&vendorItemId=70451293801&traceid=V0-113-5c43f9d34bef046f',\n",
       "  'categoryName': '여성패션',\n",
       "  'keyword': '여성패션',\n",
       "  'rank': 3,\n",
       "  'isRocket': False},\n",
       " {'productId': 288451395,\n",
       "  'productName': '마른파이브 여성용 빅사이즈 플리츠 바지 와이드 팬츠',\n",
       "  'productPrice': 10900,\n",
       "  'productImage': 'https://static.coupangcdn.com/image/retail/images/2019/08/21/16/2/5c1fe825-3919-4b15-81af-363e7d420540.jpg',\n",
       "  'productUrl': 'https://link.coupang.com/re/AFFSDP?lptag=AF8181387&pageKey=288451395&itemId=913593997&vendorItemId=5282130905&traceid=V0-113-c19e26441b3df898',\n",
       "  'categoryName': '여성패션',\n",
       "  'keyword': '여성패션',\n",
       "  'rank': 4,\n",
       "  'isRocket': True},\n",
       " {'productId': 194484795,\n",
       "  'productName': '엔젤 자수레이스블라우스',\n",
       "  'productPrice': 6900,\n",
       "  'productImage': 'https://static.coupangcdn.com/image/vendor_inventory/images/2019/03/06/11/0/d035f8ab-7dea-4f6b-986a-af1af9258492.jpg',\n",
       "  'productUrl': 'https://link.coupang.com/re/AFFSDP?lptag=AF8181387&pageKey=194484795&itemId=557862331&vendorItemId=70414948442&traceid=V0-113-916acab66b63a650',\n",
       "  'categoryName': '여성패션',\n",
       "  'keyword': '여성패션',\n",
       "  'rank': 5,\n",
       "  'isRocket': False},\n",
       " {'productId': 1272487925,\n",
       "  'productName': '세이스타일 세상편한 루즈핏 원피스',\n",
       "  'productPrice': 14900,\n",
       "  'productImage': 'https://static.coupangcdn.com/image/retail/images/2020/02/14/15/6/9b672fe2-e677-4cbb-80c0-505bad85ec3b.jpg',\n",
       "  'productUrl': 'https://link.coupang.com/re/AFFSDP?lptag=AF8181387&pageKey=1272487925&itemId=2277468127&vendorItemId=70274620736&traceid=V0-113-1ca44cbaa472e8fd',\n",
       "  'categoryName': '여성패션',\n",
       "  'keyword': '여성패션',\n",
       "  'rank': 6,\n",
       "  'isRocket': True},\n",
       " {'productId': 1342017648,\n",
       "  'productName': '매드시스터 여성용 LA 레이어드 반팔 오버핏 티셔츠',\n",
       "  'productPrice': 15800,\n",
       "  'productImage': 'https://static.coupangcdn.com/image/retail/images/2020/03/13/9/7/c53b88d6-eadd-4b5a-adbf-04f599222547.jpg',\n",
       "  'productUrl': 'https://link.coupang.com/re/AFFSDP?lptag=AF8181387&pageKey=1342017648&itemId=2369213215&vendorItemId=70455867528&traceid=V0-113-ad3e883a80098a66',\n",
       "  'categoryName': '여성패션',\n",
       "  'keyword': '여성패션',\n",
       "  'rank': 7,\n",
       "  'isRocket': True},\n",
       " {'productId': 267649830,\n",
       "  'productName': '퀸앤조이 미녀77 코랄핑크 린넨 자수 블라우스***에스에스케이무역 선택후 구매해주세요.. 반품비 몇만원씩 하는 해외배송이 아니고 국내검수후 이쁘게 보내드릴께요~~',\n",
       "  'productPrice': 10300,\n",
       "  'productImage': 'https://static.coupangcdn.com/image/vendor_inventory/0c58/d36855aa43a9d4ee46f0112211cd4c8d2f47b1aad697f92f3c50c037437c.png',\n",
       "  'productUrl': 'https://link.coupang.com/re/AFFSDP?lptag=AF8181387&pageKey=267649830&itemId=839263792&vendorItemId=5133127110&traceid=V0-113-de25086fb21bb1f3',\n",
       "  'categoryName': '여성패션',\n",
       "  'keyword': '여성패션',\n",
       "  'rank': 8,\n",
       "  'isRocket': False},\n",
       " {'productId': 242843438,\n",
       "  'productName': '엘레스 반팔티 당일발송 빅사이즈 자체제작 자수 반팔 티셔츠',\n",
       "  'productPrice': 9700,\n",
       "  'productImage': 'https://static.coupangcdn.com/image/vendor_inventory/7082/7c46af36b80c5be0b7dfc7df0dacc91f963c34cf049b694b894eb8baec30.jpg',\n",
       "  'productUrl': 'https://link.coupang.com/re/AFFSDP?lptag=AF8181387&pageKey=242843438&itemId=771042593&vendorItemId=4946936003&traceid=V0-113-f8cce368eef3842a',\n",
       "  'categoryName': '여성패션',\n",
       "  'keyword': '여성패션',\n",
       "  'rank': 9,\n",
       "  'isRocket': False},\n",
       " {'productId': 1398783553,\n",
       "  'productName': '르엠마 클레오벨 루즈핏 뷔스티에 원피스 PD30',\n",
       "  'productPrice': 17240,\n",
       "  'productImage': 'https://static.coupangcdn.com/image/vendor_inventory/20f7/59dffbbfdbee2dc0efee003b6ccbbf90fd4913910ed21345264adb7f416d.jpg',\n",
       "  'productUrl': 'https://link.coupang.com/re/AFFSDP?lptag=AF8181387&pageKey=1398783553&itemId=2433846046&vendorItemId=70727724294&traceid=V0-113-f0059cdc93e1e575',\n",
       "  'categoryName': '여성패션',\n",
       "  'keyword': '여성패션',\n",
       "  'rank': 10,\n",
       "  'isRocket': False},\n",
       " {'productId': 185502193,\n",
       "  'productName': '쿠팡브랜드 - 베이스알파 순면 40수 무형광 원단 미디 여성 팬티5p',\n",
       "  'productPrice': 11390,\n",
       "  'productImage': 'https://static.coupangcdn.com/image/retail/images/1028579585108-3164c11b-ef5d-4a86-b6b1-eca8f8b32609.jpg',\n",
       "  'productUrl': 'https://link.coupang.com/re/AFFSDP?lptag=AF8181387&pageKey=185502193&itemId=530600276&vendorItemId=4381872686&traceid=V0-113-0ed53b4dac19cbd6',\n",
       "  'categoryName': '여성패션',\n",
       "  'keyword': '여성패션',\n",
       "  'rank': 11,\n",
       "  'isRocket': True},\n",
       " {'productId': 1524407741,\n",
       "  'productName': '매드시스터 여성용 레코드 오버핏 롱 티셔츠',\n",
       "  'productPrice': 16800,\n",
       "  'productImage': 'https://static.coupangcdn.com/image/retail/images/2020/04/21/11/5/c83ad55d-140d-4812-a881-ef2c98df8052.jpg',\n",
       "  'productUrl': 'https://link.coupang.com/re/AFFSDP?lptag=AF8181387&pageKey=1524407741&itemId=2615603476&vendorItemId=70606644320&traceid=V0-113-3ffc08d187b6da24',\n",
       "  'categoryName': '여성패션',\n",
       "  'keyword': '여성패션',\n",
       "  'rank': 12,\n",
       "  'isRocket': True},\n",
       " {'productId': 277866454,\n",
       "  'productName': '수맘 자체제작 봄 여름 브이넥 20수 티셔츠 반팔',\n",
       "  'productPrice': 7900,\n",
       "  'productImage': 'https://static.coupangcdn.com/image/vendor_inventory/0d9b/b69c4a6485c97ff7cd4e0d514be1140237d34b838e55d99095bc15e87e6f.jpg',\n",
       "  'productUrl': 'https://link.coupang.com/re/AFFSDP?lptag=AF8181387&pageKey=277866454&itemId=880566214&vendorItemId=5220485447&traceid=V0-113-9e626a7a50dab66f',\n",
       "  'categoryName': '여성패션',\n",
       "  'keyword': '여성패션',\n",
       "  'rank': 13,\n",
       "  'isRocket': False},\n",
       " {'productId': 25255359,\n",
       "  'productName': '아이엠수 여름 냉장고티 무지티셔츠',\n",
       "  'productPrice': 6900,\n",
       "  'productImage': 'https://static.coupangcdn.com/image/vendor_inventory/49ef/3204338702309b8ee0b5411d4b378ab77920b6f071063c1d995b6d7e9788.jpg',\n",
       "  'productUrl': 'https://link.coupang.com/re/AFFSDP?lptag=AF8181387&pageKey=25255359&itemId=584095509&vendorItemId=3178971283&traceid=V0-113-fcfb88adbfdd80f2',\n",
       "  'categoryName': '여성패션',\n",
       "  'keyword': '여성패션',\n",
       "  'rank': 14,\n",
       "  'isRocket': False},\n",
       " {'productId': 130646240,\n",
       "  'productName': '수맘 여성 레터링 여름 봄 라운드 반팔 티셔츠',\n",
       "  'productPrice': 9900,\n",
       "  'productImage': 'https://static.coupangcdn.com/image/vendor_inventory/images/2019/02/01/11/9/a1500341-c8ed-431d-8a45-b0be66f62fcc.jpg',\n",
       "  'productUrl': 'https://link.coupang.com/re/AFFSDP?lptag=AF8181387&pageKey=130646240&itemId=384560733&vendorItemId=3933850776&traceid=V0-113-72e7d9b8d98a0676',\n",
       "  'categoryName': '여성패션',\n",
       "  'keyword': '여성패션',\n",
       "  'rank': 15,\n",
       "  'isRocket': False},\n",
       " {'productId': 234270909,\n",
       "  'productName': '리더스타 당일발송 박시핏 큰사이즈 자체제작 반팔 티셔츠',\n",
       "  'productPrice': 7900,\n",
       "  'productImage': 'https://static.coupangcdn.com/image/vendor_inventory/6d35/f1341d90635aeb332011f2287cbcc947374d253f63570a9b86d8fddde585.jpg',\n",
       "  'productUrl': 'https://link.coupang.com/re/AFFSDP?lptag=AF8181387&pageKey=234270909&itemId=744102022&vendorItemId=4732061560&traceid=V0-113-c65190091adb8d30',\n",
       "  'categoryName': '여성패션',\n",
       "  'keyword': '여성패션',\n",
       "  'rank': 16,\n",
       "  'isRocket': False},\n",
       " {'productId': 1520913624,\n",
       "  'productName': '지나블리스 루즈핏 빅사이즈 브이넥 롱 티셔츠 2004112 반팔',\n",
       "  'productPrice': 16800,\n",
       "  'productImage': 'https://static.coupangcdn.com/image/vendor_inventory/dd5d/f64ba84289c674b0a6ba8b2afa337fed71e9600e4b6dd0c3e136ec3de801.jpg',\n",
       "  'productUrl': 'https://link.coupang.com/re/AFFSDP?lptag=AF8181387&pageKey=1520913624&itemId=2609346659&vendorItemId=70600437035&traceid=V0-113-e2fb3ca77e794ae7',\n",
       "  'categoryName': '여성패션',\n",
       "  'keyword': '여성패션',\n",
       "  'rank': 17,\n",
       "  'isRocket': False},\n",
       " {'productId': 1341601181,\n",
       "  'productName': '메이킹유 \"당일배송\" 5458 밀라 롱 티 박시티 후드티 원피스티셔츠',\n",
       "  'productPrice': 9900,\n",
       "  'productImage': 'https://static.coupangcdn.com/image/vendor_inventory/2865/386b3d440392533d97eee3bbe701290b626633577d1982866303874f7c08.jpg',\n",
       "  'productUrl': 'https://link.coupang.com/re/AFFSDP?lptag=AF8181387&pageKey=1341601181&itemId=2368722952&vendorItemId=70364870833&traceid=V0-113-8956796eecb6ea7e',\n",
       "  'categoryName': '여성패션',\n",
       "  'keyword': '여성패션',\n",
       "  'rank': 18,\n",
       "  'isRocket': False},\n",
       " {'productId': 1234914080,\n",
       "  'productName': '달리샵 에브리 골지 밴딩 팬츠',\n",
       "  'productPrice': 6650,\n",
       "  'productImage': 'https://static.coupangcdn.com/image/vendor_inventory/115e/121d749534a0b9db96551965e0ca2a480cc007403a70874266cbe08f5073.jpg',\n",
       "  'productUrl': 'https://link.coupang.com/re/AFFSDP?lptag=AF8181387&pageKey=1234914080&itemId=2229322292&vendorItemId=70226944236&traceid=V0-113-9686ed5d210dc6d9',\n",
       "  'categoryName': '여성패션',\n",
       "  'keyword': '여성패션',\n",
       "  'rank': 19,\n",
       "  'isRocket': False},\n",
       " {'productId': 1490682304,\n",
       "  'productName': '온더리버 체크 뷔스티에 롱 원피스 반팔 세트 투피스 나시 패턴 코디세트 셋업',\n",
       "  'productPrice': 13800,\n",
       "  'productImage': 'https://static.coupangcdn.com/image/vendor_inventory/8541/d02fc598b068d3fc1c263f7b0ab3038df3048d1b5744615dca6dd45b9413.jpg',\n",
       "  'productUrl': 'https://link.coupang.com/re/AFFSDP?lptag=AF8181387&pageKey=1490682304&itemId=2559060098&vendorItemId=70551571053&traceid=V0-113-ac52ed1f88d08f8c',\n",
       "  'categoryName': '여성패션',\n",
       "  'keyword': '여성패션',\n",
       "  'rank': 20,\n",
       "  'isRocket': False}]"
      ]
     },
     "execution_count": 93,
     "metadata": {},
     "output_type": "execute_result"
    }
   ],
   "source": [
    "data_json['data']"
   ]
  },
  {
   "cell_type": "code",
   "execution_count": 94,
   "metadata": {},
   "outputs": [],
   "source": [
    "listdata = list()\n",
    "for item in data_json['data']:\n",
    "    itemdata = list()\n",
    "    for item2 in item.keys():\n",
    "        itemdata.append(item[item2])\n",
    "    listdata.append(itemdata)"
   ]
  },
  {
   "cell_type": "code",
   "execution_count": 95,
   "metadata": {},
   "outputs": [
    {
     "data": {
      "text/plain": [
       "[[185502198,\n",
       "  '쿠팡 브랜드 - 베이스알파 에센셜 남녀공용 30수 라운드 반팔티 화이트 3p',\n",
       "  12500,\n",
       "  'https://static.coupangcdn.com/image/retail/images/7028390930032-016cbfa5-5fa7-4b65-aba1-cd7d2d54861b.jpg',\n",
       "  'https://link.coupang.com/re/AFFSDP?lptag=AF8181387&pageKey=185502198&itemId=530600312&vendorItemId=4381872911&traceid=V0-113-d1b4e08408552d8e',\n",
       "  '여성패션',\n",
       "  '여성패션',\n",
       "  1,\n",
       "  True],\n",
       " [242527845,\n",
       "  '엘레스 여성반팔티 당일발송 빅사이즈 자체제작 반팔 티셔츠',\n",
       "  9500,\n",
       "  'https://static.coupangcdn.com/image/vendor_inventory/3907/0700399e291d57b162c93624d036d5e4fa304f3b49bb63b20d0f428b0224.jpg',\n",
       "  'https://link.coupang.com/re/AFFSDP?lptag=AF8181387&pageKey=242527845&itemId=770221714&vendorItemId=4944830232&traceid=V0-113-1b2fda6b52d4e5dd',\n",
       "  '여성패션',\n",
       "  '여성패션',\n",
       "  2,\n",
       "  False],\n",
       " [1419894910,\n",
       "  '티데일리 남여공용 이프나우 오버핏 반팔 라운드 티셔츠 20수 (4color) 반소매',\n",
       "  8900,\n",
       "  'https://static.coupangcdn.com/image/vendor_inventory/6b4b/a763cf60972d57519149567a6935cd2728b6620602803b7b9ebf95048746.jpg',\n",
       "  'https://link.coupang.com/re/AFFSDP?lptag=AF8181387&pageKey=1419894910&itemId=2457766929&vendorItemId=70451293801&traceid=V0-113-5c43f9d34bef046f',\n",
       "  '여성패션',\n",
       "  '여성패션',\n",
       "  3,\n",
       "  False],\n",
       " [288451395,\n",
       "  '마른파이브 여성용 빅사이즈 플리츠 바지 와이드 팬츠',\n",
       "  10900,\n",
       "  'https://static.coupangcdn.com/image/retail/images/2019/08/21/16/2/5c1fe825-3919-4b15-81af-363e7d420540.jpg',\n",
       "  'https://link.coupang.com/re/AFFSDP?lptag=AF8181387&pageKey=288451395&itemId=913593997&vendorItemId=5282130905&traceid=V0-113-c19e26441b3df898',\n",
       "  '여성패션',\n",
       "  '여성패션',\n",
       "  4,\n",
       "  True],\n",
       " [194484795,\n",
       "  '엔젤 자수레이스블라우스',\n",
       "  6900,\n",
       "  'https://static.coupangcdn.com/image/vendor_inventory/images/2019/03/06/11/0/d035f8ab-7dea-4f6b-986a-af1af9258492.jpg',\n",
       "  'https://link.coupang.com/re/AFFSDP?lptag=AF8181387&pageKey=194484795&itemId=557862331&vendorItemId=70414948442&traceid=V0-113-916acab66b63a650',\n",
       "  '여성패션',\n",
       "  '여성패션',\n",
       "  5,\n",
       "  False],\n",
       " [1272487925,\n",
       "  '세이스타일 세상편한 루즈핏 원피스',\n",
       "  14900,\n",
       "  'https://static.coupangcdn.com/image/retail/images/2020/02/14/15/6/9b672fe2-e677-4cbb-80c0-505bad85ec3b.jpg',\n",
       "  'https://link.coupang.com/re/AFFSDP?lptag=AF8181387&pageKey=1272487925&itemId=2277468127&vendorItemId=70274620736&traceid=V0-113-1ca44cbaa472e8fd',\n",
       "  '여성패션',\n",
       "  '여성패션',\n",
       "  6,\n",
       "  True],\n",
       " [1342017648,\n",
       "  '매드시스터 여성용 LA 레이어드 반팔 오버핏 티셔츠',\n",
       "  15800,\n",
       "  'https://static.coupangcdn.com/image/retail/images/2020/03/13/9/7/c53b88d6-eadd-4b5a-adbf-04f599222547.jpg',\n",
       "  'https://link.coupang.com/re/AFFSDP?lptag=AF8181387&pageKey=1342017648&itemId=2369213215&vendorItemId=70455867528&traceid=V0-113-ad3e883a80098a66',\n",
       "  '여성패션',\n",
       "  '여성패션',\n",
       "  7,\n",
       "  True],\n",
       " [267649830,\n",
       "  '퀸앤조이 미녀77 코랄핑크 린넨 자수 블라우스***에스에스케이무역 선택후 구매해주세요.. 반품비 몇만원씩 하는 해외배송이 아니고 국내검수후 이쁘게 보내드릴께요~~',\n",
       "  10300,\n",
       "  'https://static.coupangcdn.com/image/vendor_inventory/0c58/d36855aa43a9d4ee46f0112211cd4c8d2f47b1aad697f92f3c50c037437c.png',\n",
       "  'https://link.coupang.com/re/AFFSDP?lptag=AF8181387&pageKey=267649830&itemId=839263792&vendorItemId=5133127110&traceid=V0-113-de25086fb21bb1f3',\n",
       "  '여성패션',\n",
       "  '여성패션',\n",
       "  8,\n",
       "  False],\n",
       " [242843438,\n",
       "  '엘레스 반팔티 당일발송 빅사이즈 자체제작 자수 반팔 티셔츠',\n",
       "  9700,\n",
       "  'https://static.coupangcdn.com/image/vendor_inventory/7082/7c46af36b80c5be0b7dfc7df0dacc91f963c34cf049b694b894eb8baec30.jpg',\n",
       "  'https://link.coupang.com/re/AFFSDP?lptag=AF8181387&pageKey=242843438&itemId=771042593&vendorItemId=4946936003&traceid=V0-113-f8cce368eef3842a',\n",
       "  '여성패션',\n",
       "  '여성패션',\n",
       "  9,\n",
       "  False],\n",
       " [1398783553,\n",
       "  '르엠마 클레오벨 루즈핏 뷔스티에 원피스 PD30',\n",
       "  17240,\n",
       "  'https://static.coupangcdn.com/image/vendor_inventory/20f7/59dffbbfdbee2dc0efee003b6ccbbf90fd4913910ed21345264adb7f416d.jpg',\n",
       "  'https://link.coupang.com/re/AFFSDP?lptag=AF8181387&pageKey=1398783553&itemId=2433846046&vendorItemId=70727724294&traceid=V0-113-f0059cdc93e1e575',\n",
       "  '여성패션',\n",
       "  '여성패션',\n",
       "  10,\n",
       "  False],\n",
       " [185502193,\n",
       "  '쿠팡브랜드 - 베이스알파 순면 40수 무형광 원단 미디 여성 팬티5p',\n",
       "  11390,\n",
       "  'https://static.coupangcdn.com/image/retail/images/1028579585108-3164c11b-ef5d-4a86-b6b1-eca8f8b32609.jpg',\n",
       "  'https://link.coupang.com/re/AFFSDP?lptag=AF8181387&pageKey=185502193&itemId=530600276&vendorItemId=4381872686&traceid=V0-113-0ed53b4dac19cbd6',\n",
       "  '여성패션',\n",
       "  '여성패션',\n",
       "  11,\n",
       "  True],\n",
       " [1524407741,\n",
       "  '매드시스터 여성용 레코드 오버핏 롱 티셔츠',\n",
       "  16800,\n",
       "  'https://static.coupangcdn.com/image/retail/images/2020/04/21/11/5/c83ad55d-140d-4812-a881-ef2c98df8052.jpg',\n",
       "  'https://link.coupang.com/re/AFFSDP?lptag=AF8181387&pageKey=1524407741&itemId=2615603476&vendorItemId=70606644320&traceid=V0-113-3ffc08d187b6da24',\n",
       "  '여성패션',\n",
       "  '여성패션',\n",
       "  12,\n",
       "  True],\n",
       " [277866454,\n",
       "  '수맘 자체제작 봄 여름 브이넥 20수 티셔츠 반팔',\n",
       "  7900,\n",
       "  'https://static.coupangcdn.com/image/vendor_inventory/0d9b/b69c4a6485c97ff7cd4e0d514be1140237d34b838e55d99095bc15e87e6f.jpg',\n",
       "  'https://link.coupang.com/re/AFFSDP?lptag=AF8181387&pageKey=277866454&itemId=880566214&vendorItemId=5220485447&traceid=V0-113-9e626a7a50dab66f',\n",
       "  '여성패션',\n",
       "  '여성패션',\n",
       "  13,\n",
       "  False],\n",
       " [25255359,\n",
       "  '아이엠수 여름 냉장고티 무지티셔츠',\n",
       "  6900,\n",
       "  'https://static.coupangcdn.com/image/vendor_inventory/49ef/3204338702309b8ee0b5411d4b378ab77920b6f071063c1d995b6d7e9788.jpg',\n",
       "  'https://link.coupang.com/re/AFFSDP?lptag=AF8181387&pageKey=25255359&itemId=584095509&vendorItemId=3178971283&traceid=V0-113-fcfb88adbfdd80f2',\n",
       "  '여성패션',\n",
       "  '여성패션',\n",
       "  14,\n",
       "  False],\n",
       " [130646240,\n",
       "  '수맘 여성 레터링 여름 봄 라운드 반팔 티셔츠',\n",
       "  9900,\n",
       "  'https://static.coupangcdn.com/image/vendor_inventory/images/2019/02/01/11/9/a1500341-c8ed-431d-8a45-b0be66f62fcc.jpg',\n",
       "  'https://link.coupang.com/re/AFFSDP?lptag=AF8181387&pageKey=130646240&itemId=384560733&vendorItemId=3933850776&traceid=V0-113-72e7d9b8d98a0676',\n",
       "  '여성패션',\n",
       "  '여성패션',\n",
       "  15,\n",
       "  False],\n",
       " [234270909,\n",
       "  '리더스타 당일발송 박시핏 큰사이즈 자체제작 반팔 티셔츠',\n",
       "  7900,\n",
       "  'https://static.coupangcdn.com/image/vendor_inventory/6d35/f1341d90635aeb332011f2287cbcc947374d253f63570a9b86d8fddde585.jpg',\n",
       "  'https://link.coupang.com/re/AFFSDP?lptag=AF8181387&pageKey=234270909&itemId=744102022&vendorItemId=4732061560&traceid=V0-113-c65190091adb8d30',\n",
       "  '여성패션',\n",
       "  '여성패션',\n",
       "  16,\n",
       "  False],\n",
       " [1520913624,\n",
       "  '지나블리스 루즈핏 빅사이즈 브이넥 롱 티셔츠 2004112 반팔',\n",
       "  16800,\n",
       "  'https://static.coupangcdn.com/image/vendor_inventory/dd5d/f64ba84289c674b0a6ba8b2afa337fed71e9600e4b6dd0c3e136ec3de801.jpg',\n",
       "  'https://link.coupang.com/re/AFFSDP?lptag=AF8181387&pageKey=1520913624&itemId=2609346659&vendorItemId=70600437035&traceid=V0-113-e2fb3ca77e794ae7',\n",
       "  '여성패션',\n",
       "  '여성패션',\n",
       "  17,\n",
       "  False],\n",
       " [1341601181,\n",
       "  '메이킹유 \"당일배송\" 5458 밀라 롱 티 박시티 후드티 원피스티셔츠',\n",
       "  9900,\n",
       "  'https://static.coupangcdn.com/image/vendor_inventory/2865/386b3d440392533d97eee3bbe701290b626633577d1982866303874f7c08.jpg',\n",
       "  'https://link.coupang.com/re/AFFSDP?lptag=AF8181387&pageKey=1341601181&itemId=2368722952&vendorItemId=70364870833&traceid=V0-113-8956796eecb6ea7e',\n",
       "  '여성패션',\n",
       "  '여성패션',\n",
       "  18,\n",
       "  False],\n",
       " [1234914080,\n",
       "  '달리샵 에브리 골지 밴딩 팬츠',\n",
       "  6650,\n",
       "  'https://static.coupangcdn.com/image/vendor_inventory/115e/121d749534a0b9db96551965e0ca2a480cc007403a70874266cbe08f5073.jpg',\n",
       "  'https://link.coupang.com/re/AFFSDP?lptag=AF8181387&pageKey=1234914080&itemId=2229322292&vendorItemId=70226944236&traceid=V0-113-9686ed5d210dc6d9',\n",
       "  '여성패션',\n",
       "  '여성패션',\n",
       "  19,\n",
       "  False],\n",
       " [1490682304,\n",
       "  '온더리버 체크 뷔스티에 롱 원피스 반팔 세트 투피스 나시 패턴 코디세트 셋업',\n",
       "  13800,\n",
       "  'https://static.coupangcdn.com/image/vendor_inventory/8541/d02fc598b068d3fc1c263f7b0ab3038df3048d1b5744615dca6dd45b9413.jpg',\n",
       "  'https://link.coupang.com/re/AFFSDP?lptag=AF8181387&pageKey=1490682304&itemId=2559060098&vendorItemId=70551571053&traceid=V0-113-ac52ed1f88d08f8c',\n",
       "  '여성패션',\n",
       "  '여성패션',\n",
       "  20,\n",
       "  False]]"
      ]
     },
     "execution_count": 95,
     "metadata": {},
     "output_type": "execute_result"
    }
   ],
   "source": [
    "listdata"
   ]
  },
  {
   "cell_type": "code",
   "execution_count": 98,
   "metadata": {},
   "outputs": [],
   "source": [
    "import datetime\n",
    "data1 = datetime.date.today()\n",
    "data1 = data1.strftime('%Y-%m-%d')"
   ]
  },
  {
   "cell_type": "code",
   "execution_count": 99,
   "metadata": {},
   "outputs": [],
   "source": [
    "write_excel_template('tmp.xlsx', data1, listdata)"
   ]
  },
  {
   "cell_type": "markdown",
   "metadata": {},
   "source": [
    "### 5.2. 예\n",
    "1. 내가 선택한 상품 엑셀에 넣고, \n",
    "2. 엑셀 파일 읽어서, \n",
    "3. 쿠팡 파트너스 API 와 selenium 으로,\n",
    "4. 딥링크와 원하는 상품 정보 가져와서,\n",
    "5. 별도 엑셀 파일로 저장하기"
   ]
  },
  {
   "cell_type": "code",
   "execution_count": 131,
   "metadata": {},
   "outputs": [],
   "source": [
    "request_method = \"POST\"\n",
    "partners_url = \"/v2/providers/affiliate_open_api/apis/openapi/v1/deeplink\" \n",
    "request_domain = \"https://api-gateway.coupang.com\"\n",
    "request_data = { \"coupangUrls\": []}"
   ]
  },
  {
   "cell_type": "markdown",
   "metadata": {},
   "source": [
    "### (활용) 템플릿 코드5: 엑셀 파일 읽어서 리스트 변수로 가져오기"
   ]
  },
  {
   "cell_type": "code",
   "execution_count": 128,
   "metadata": {},
   "outputs": [],
   "source": [
    "import openpyxl\n",
    "\n",
    "def read_excel_template(filename, sheetname):\n",
    "    excel_file = openpyxl.load_workbook(filename)\n",
    "    \n",
    "    if sheetname == '':\n",
    "        excel_sheet = excel_file.active\n",
    "    else:\n",
    "        excel_sheet = excel_file[sheetname]\n",
    "\n",
    "    return_data = list()    \n",
    "    for item in excel_sheet.rows:\n",
    "        datas1 = list()\n",
    "        for item2 in item:\n",
    "            datas1.append(item2.value)\n",
    "        return_data.append(datas1)\n",
    "        \n",
    "    excel_file.close()\n",
    "    return return_data"
   ]
  },
  {
   "cell_type": "code",
   "execution_count": 129,
   "metadata": {},
   "outputs": [],
   "source": [
    "datas1 = read_excel_template('coupang_list.xlsx', '2020-05-20')"
   ]
  },
  {
   "cell_type": "code",
   "execution_count": 130,
   "metadata": {},
   "outputs": [
    {
     "data": {
      "text/plain": [
       "[['https://www.coupang.com/vp/products/327360263?itemId=1047441230&vendorItemId=5510912600&sourceType=CAMPAIGN&campaignId=5173&categoryId=0&isAddedCart='],\n",
       " ['https://www.coupang.com/vp/products/189267000?itemId=540447825&vendorItemId=5017244964&sourceType=CAMPAIGN&campaignId=5173&categoryId=0&isAddedCart='],\n",
       " ['https://www.coupang.com/vp/products/1194639177?itemId=2177439743&vendorItemId=70175514691&sourceType=CAMPAIGN&campaignId=5173&categoryId=0&isAddedCart='],\n",
       " ['https://www.coupang.com/vp/products/192159873?itemId=549746692&vendorItemId=4442528641&sourceType=CAMPAIGN&campaignId=5173&categoryId=0&isAddedCart='],\n",
       " ['https://www.coupang.com/vp/products/346765263?itemId=1100652101&vendorItemId=5628102991&sourceType=CAMPAIGN&campaignId=5173&categoryId=0&isAddedCart=']]"
      ]
     },
     "execution_count": 130,
     "metadata": {},
     "output_type": "execute_result"
    }
   ],
   "source": [
    "datas1"
   ]
  },
  {
   "cell_type": "code",
   "execution_count": 132,
   "metadata": {},
   "outputs": [],
   "source": [
    "for item in datas1:\n",
    "    request_data['coupangUrls'].append(item[0])"
   ]
  },
  {
   "cell_type": "code",
   "execution_count": 133,
   "metadata": {},
   "outputs": [
    {
     "data": {
      "text/plain": [
       "{'coupangUrls': ['https://www.coupang.com/vp/products/327360263?itemId=1047441230&vendorItemId=5510912600&sourceType=CAMPAIGN&campaignId=5173&categoryId=0&isAddedCart=',\n",
       "  'https://www.coupang.com/vp/products/189267000?itemId=540447825&vendorItemId=5017244964&sourceType=CAMPAIGN&campaignId=5173&categoryId=0&isAddedCart=',\n",
       "  'https://www.coupang.com/vp/products/1194639177?itemId=2177439743&vendorItemId=70175514691&sourceType=CAMPAIGN&campaignId=5173&categoryId=0&isAddedCart=',\n",
       "  'https://www.coupang.com/vp/products/192159873?itemId=549746692&vendorItemId=4442528641&sourceType=CAMPAIGN&campaignId=5173&categoryId=0&isAddedCart=',\n",
       "  'https://www.coupang.com/vp/products/346765263?itemId=1100652101&vendorItemId=5628102991&sourceType=CAMPAIGN&campaignId=5173&categoryId=0&isAddedCart=']}"
      ]
     },
     "execution_count": 133,
     "metadata": {},
     "output_type": "execute_result"
    }
   ],
   "source": [
    "request_data"
   ]
  },
  {
   "cell_type": "markdown",
   "metadata": {},
   "source": [
    "### 템플릿 코드15\n",
    "1. 원하는 상품 링크를 엑셀로부터 가져와서,\n",
    "2. 나의 트래킹 코드가 포함된 링크로 가져오고,\n",
    "3. 상품 타이틀과 가격, 상품 첫번째 상세 이미지를 가져와서,\n",
    "4. 트래킹 코드가 포함된 링크, 상품 타이틀, 가격를 converted-파일명 으로 저장"
   ]
  },
  {
   "cell_type": "code",
   "execution_count": 135,
   "metadata": {},
   "outputs": [],
   "source": [
    "def get_mylink_coupang_partner_template(filename, sheetname):\n",
    "    excel_data = list()\n",
    "    request_data = { \"coupangUrls\": []}\n",
    "    datas1 = read_excel_template(filename, sheetname)\n",
    "    \n",
    "    for item in datas1:\n",
    "        request_data['coupangUrls'].append(item[0])\n",
    "    authorization = generateHmac(request_method, partners_url, secret_key, access_key)\n",
    "    data_json = coupang_partners_template(request_domain, partners_url, request_method, authorization, request_data)\n",
    "    datas1 = data_json['data']\n",
    "    \n",
    "    for item in datas1:\n",
    "        datas2 = get_details_product_template(item['landingUrl']) # 'originalUrl'과 'landingUrl' 가격이 다를 수 있음! (원하는 필드로 변경)\n",
    "        excel_data.append(datas2)\n",
    "    \n",
    "    write_excel_template('converted_' + filename, sheetname, excel_data)\n",
    "    return excel_data"
   ]
  },
  {
   "cell_type": "markdown",
   "metadata": {},
   "source": [
    "### 원하는 나만의 작업을 위해 템플릿 코드 활용하기"
   ]
  },
  {
   "cell_type": "markdown",
   "metadata": {},
   "source": [
    "#### (활용) 관련 상품 상세 정보 가져오기 (템플릿 코드14)"
   ]
  },
  {
   "cell_type": "code",
   "execution_count": 140,
   "metadata": {},
   "outputs": [],
   "source": [
    "from selenium import webdriver\n",
    "from selenium.webdriver.common.by import By\n",
    "from selenium.webdriver.support.ui import WebDriverWait\n",
    "from selenium.webdriver.support import expected_conditions as EC\n",
    "import time \n",
    "\n",
    "def get_details_product_template(url):\n",
    "    # 각 PC 환경에 맞게 수정 필요\n",
    "    driver_location = './chromedriver'\n",
    "    css_selector_title = 'h2.prod-buy-header__title'\n",
    "    css_selector_price = 'div.prod-coupon-price.prod-major-price > span.total-price > strong'\n",
    "    css_selector_ori_price = 'div.prod-sale-price > span.total-price > strong'    \n",
    "    css_selector_img = 'div.product-detail-content-inside div.subType-IMAGE > img'\n",
    "    img_path = '/Users/davelee/class101_autopython/00_coupang_product_imgs'\n",
    "    vendoritemid = url.split('=')[4].split('&')[0]\n",
    "    \n",
    "    return_data = list()\n",
    "    return_data.append(vendoritemid)\n",
    "    \n",
    "    driver = webdriver.Chrome(driver_location)\n",
    "    driver.get(url)\n",
    "    time.sleep(3)\n",
    "\n",
    "    titles = driver.find_elements_by_css_selector(css_selector_title)\n",
    "    for item in titles:\n",
    "        return_data.append(item.text)\n",
    "\n",
    "    prices = driver.find_elements_by_css_selector(css_selector_price)\n",
    "    for item in prices:\n",
    "        if item.text == '':\n",
    "            prices = driver.find_elements_by_css_selector(css_selector_ori_price)\n",
    "            for item2 in prices:\n",
    "                return_data.append(item2.text)\n",
    "        else:\n",
    "            return_data.append(item.text)\n",
    "\n",
    "    return_data.append(url)\n",
    "    img = driver.find_element_by_css_selector(css_selector_img)\n",
    "    return_data.append(img.get_attribute('src'))\n",
    "\n",
    "    driver.quit()\n",
    "    return return_data"
   ]
  },
  {
   "cell_type": "markdown",
   "metadata": {},
   "source": [
    "#### (활용) 템플릿 코드6: 리스트 변수 데이터를 엑셀 파일로 만들기"
   ]
  },
  {
   "cell_type": "code",
   "execution_count": 141,
   "metadata": {},
   "outputs": [],
   "source": [
    "import openpyxl\n",
    "\n",
    "def write_excel_template(filename, sheetname, listdata):\n",
    "    excel_file = openpyxl.Workbook()\n",
    "    excel_sheet = excel_file.active\n",
    "\n",
    "    # 엑셀 이쁘게 하기에서 셀 사이즈, 타이틀행만 추가\n",
    "    excel_sheet.column_dimensions['A'].width = 20\n",
    "    excel_sheet.column_dimensions['B'].width = 70\n",
    "    excel_sheet.column_dimensions['C'].width = 10    \n",
    "    excel_sheet.column_dimensions['D'].width = 120    \n",
    "    excel_sheet.column_dimensions['E'].width = 120        \n",
    "    excel_sheet.append(['productId', 'productName', 'productPrice', 'productUrl', 'productDetailImage'])\n",
    "    \n",
    "    if sheetname != '':\n",
    "        excel_sheet.title = sheetname\n",
    "    \n",
    "    for item in listdata:\n",
    "        excel_sheet.append(item)\n",
    "    excel_file.save(filename)\n",
    "    excel_file.close()"
   ]
  },
  {
   "cell_type": "code",
   "execution_count": 142,
   "metadata": {},
   "outputs": [],
   "source": [
    "request_method = \"POST\"\n",
    "partners_url = \"/v2/providers/affiliate_open_api/apis/openapi/v1/deeplink\" \n",
    "request_domain = \"https://api-gateway.coupang.com\""
   ]
  },
  {
   "cell_type": "code",
   "execution_count": 143,
   "metadata": {},
   "outputs": [],
   "source": [
    "datas1 = get_mylink_coupang_partner_template('coupang_list.xlsx', '2020-05-20')"
   ]
  },
  {
   "cell_type": "code",
   "execution_count": 139,
   "metadata": {},
   "outputs": [
    {
     "data": {
      "text/plain": [
       "[['5510912600',\n",
       "  '곰곰 건강한 닭 도시락 시즌2 (냉동)',\n",
       "  '18,810원',\n",
       "  'https://link.coupang.com/re/AFFSDP?lptag=AF8181387&pageKey=327360263&itemId=1047441230&vendorItemId=5510912600&traceid=V0-183-3e69348b296ebeed',\n",
       "  'https://thumbnail10.coupangcdn.com/thumbnails/remote/q89/image/retail/images/626532702988649-b39d7a2f-06f7-47e7-b326-e478308370e2.jpg'],\n",
       " ['5017244964',\n",
       "  '곰곰 건강한 밥 도시락 (냉동)',\n",
       "  '18,810원',\n",
       "  'https://link.coupang.com/re/AFFSDP?lptag=AF8181387&pageKey=189267000&itemId=540447825&vendorItemId=5017244964&traceid=V0-183-c2fc81ad68c97e32',\n",
       "  'https://thumbnail8.coupangcdn.com/thumbnails/remote/q89/image/retail/images/628624833311431-1261607c-05b5-473b-9d28-61fb7a2536de.jpg'],\n",
       " ['70175514691',\n",
       "  '곰곰 반숙란 (냉장)',\n",
       "  '7,960원',\n",
       "  'https://link.coupang.com/re/AFFSDP?lptag=AF8181387&pageKey=1194639177&itemId=2177439743&vendorItemId=70175514691&traceid=V0-183-597e3f51b07d091b',\n",
       "  'https://thumbnail10.coupangcdn.com/thumbnails/remote/q89/image/retail/images/859725361264848-e3aabb5c-6b4a-44e6-a8a7-50959036a622.jpg'],\n",
       " ['4442528641',\n",
       "  '비타할로 내몸이 가벼운 가르시니아',\n",
       "  '9,470원',\n",
       "  'https://link.coupang.com/re/AFFSDP?lptag=AF8181387&pageKey=192159873&itemId=549746692&vendorItemId=4442528641&traceid=V0-183-bbd7c1130dab8f94',\n",
       "  'https://thumbnail9.coupangcdn.com/thumbnails/remote/q89/image/retail/images/333215591442475-244ed90d-ceea-4e5b-90af-c6ea035a7da5.jpg'],\n",
       " ['5628102991',\n",
       "  '곰곰 오리지날 닭가슴살 슬라이스 (냉동)',\n",
       "  '9,590원',\n",
       "  'https://link.coupang.com/re/AFFSDP?lptag=AF8181387&pageKey=346765263&itemId=1100652101&vendorItemId=5628102991&traceid=V0-183-7489f86ebb2221fe',\n",
       "  'https://thumbnail10.coupangcdn.com/thumbnails/remote/q89/image/retail/images/592408577255881-ee6e4009-6f83-48f1-90e8-b6f3d5fb974b.jpg']]"
      ]
     },
     "execution_count": 139,
     "metadata": {},
     "output_type": "execute_result"
    }
   ],
   "source": [
    "datas1"
   ]
  },
  {
   "cell_type": "markdown",
   "metadata": {},
   "source": [
    "### 6. (참고) 나만의 블로그로 쿠팡 파트너스 상품 포스팅하기\n",
    "- 이 부분은 참고로 마지막 챕터에서 블로그 생성 방법과 함께 몰아서 설명드리겠습니다."
   ]
  }
 ],
 "metadata": {
  "kernelspec": {
   "display_name": "Python 3",
   "language": "python",
   "name": "python3"
  },
  "language_info": {
   "codemirror_mode": {
    "name": "ipython",
    "version": 3
   },
   "file_extension": ".py",
   "mimetype": "text/x-python",
   "name": "python",
   "nbconvert_exporter": "python",
   "pygments_lexer": "ipython3",
   "version": "3.8.5"
  }
 },
 "nbformat": 4,
 "nbformat_minor": 4
}
